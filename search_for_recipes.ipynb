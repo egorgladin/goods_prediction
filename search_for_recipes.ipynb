{
 "cells": [
  {
   "cell_type": "code",
   "execution_count": 1,
   "metadata": {},
   "outputs": [],
   "source": [
    "import pandas as pd\n",
    "df = pd.read_csv('2020-04-10.csv')"
   ]
  },
  {
   "cell_type": "code",
   "execution_count": 2,
   "metadata": {},
   "outputs": [],
   "source": [
    "df.dropna(axis=0, inplace = True)\n",
    "df.drop(['discount', 'brand_name', 'master_category_id','parent_category_id', 'line_item_id' ],inplace = True, axis = 1)"
   ]
  },
  {
   "cell_type": "code",
   "execution_count": 3,
   "metadata": {},
   "outputs": [],
   "source": [
    "df_applepie = df[df[\"product_name\"].str.contains(\"Мука|Молоко|Яйца куриные|Сахар|Масло сливочное\")]"
   ]
  },
  {
   "cell_type": "code",
   "execution_count": 4,
   "metadata": {},
   "outputs": [
    {
     "name": "stderr",
     "output_type": "stream",
     "text": [
      "<ipython-input-4-5e5fbe4901cb>:1: SettingWithCopyWarning: \n",
      "A value is trying to be set on a copy of a slice from a DataFrame.\n",
      "Try using .loc[row_indexer,col_indexer] = value instead\n",
      "\n",
      "See the caveats in the documentation: https://pandas.pydata.org/pandas-docs/stable/user_guide/indexing.html#returning-a-view-versus-a-copy\n",
      "  df_applepie['milk'] = df_applepie[\"product_name\"].str.contains(\"Молоко\")\n",
      "C:\\ProgramData\\Python\\lib\\site-packages\\pandas\\core\\generic.py:5303: SettingWithCopyWarning: \n",
      "A value is trying to be set on a copy of a slice from a DataFrame.\n",
      "Try using .loc[row_indexer,col_indexer] = value instead\n",
      "\n",
      "See the caveats in the documentation: https://pandas.pydata.org/pandas-docs/stable/user_guide/indexing.html#returning-a-view-versus-a-copy\n",
      "  self[name] = value\n",
      "<ipython-input-4-5e5fbe4901cb>:4: SettingWithCopyWarning: \n",
      "A value is trying to be set on a copy of a slice from a DataFrame.\n",
      "Try using .loc[row_indexer,col_indexer] = value instead\n",
      "\n",
      "See the caveats in the documentation: https://pandas.pydata.org/pandas-docs/stable/user_guide/indexing.html#returning-a-view-versus-a-copy\n",
      "  df_applepie['flour'] = df_applepie[\"product_name\"].str.contains(\"Мука\")\n",
      "<ipython-input-4-5e5fbe4901cb>:7: SettingWithCopyWarning: \n",
      "A value is trying to be set on a copy of a slice from a DataFrame.\n",
      "Try using .loc[row_indexer,col_indexer] = value instead\n",
      "\n",
      "See the caveats in the documentation: https://pandas.pydata.org/pandas-docs/stable/user_guide/indexing.html#returning-a-view-versus-a-copy\n",
      "  df_applepie['eggs'] = df_applepie[\"product_name\"].str.contains(\"Яйца куриные\")\n",
      "<ipython-input-4-5e5fbe4901cb>:10: SettingWithCopyWarning: \n",
      "A value is trying to be set on a copy of a slice from a DataFrame.\n",
      "Try using .loc[row_indexer,col_indexer] = value instead\n",
      "\n",
      "See the caveats in the documentation: https://pandas.pydata.org/pandas-docs/stable/user_guide/indexing.html#returning-a-view-versus-a-copy\n",
      "  df_applepie['sugar'] = df_applepie[\"product_name\"].str.contains(\"Сахар\")\n",
      "<ipython-input-4-5e5fbe4901cb>:13: SettingWithCopyWarning: \n",
      "A value is trying to be set on a copy of a slice from a DataFrame.\n",
      "Try using .loc[row_indexer,col_indexer] = value instead\n",
      "\n",
      "See the caveats in the documentation: https://pandas.pydata.org/pandas-docs/stable/user_guide/indexing.html#returning-a-view-versus-a-copy\n",
      "  df_applepie['butter'] = df_applepie[\"product_name\"].str.contains(\"Масло сливочное\")\n"
     ]
    }
   ],
   "source": [
    "df_applepie['milk'] = df_applepie[\"product_name\"].str.contains(\"Молоко\")\n",
    "df_applepie.milk = df_applepie.milk.astype(int)\n",
    "\n",
    "df_applepie['flour'] = df_applepie[\"product_name\"].str.contains(\"Мука\")\n",
    "df_applepie.flour = df_applepie.flour.astype(int)\n",
    "\n",
    "df_applepie['eggs'] = df_applepie[\"product_name\"].str.contains(\"Яйца куриные\")\n",
    "df_applepie.eggs = df_applepie.eggs.astype(int)\n",
    "\n",
    "df_applepie['sugar'] = df_applepie[\"product_name\"].str.contains(\"Сахар\")\n",
    "df_applepie.sugar = df_applepie.sugar.astype(int)\n",
    "\n",
    "df_applepie['butter'] = df_applepie[\"product_name\"].str.contains(\"Масло сливочное\")\n",
    "df_applepie.butter = df_applepie.butter.astype(int)\n",
    "\n",
    "df_applepie = df_applepie.drop_duplicates(subset = ['order_id','milk' or \n",
    "                                                    'order_id','flour' or \n",
    "                                                    'order_id','eggs' or \n",
    "                                                    'order_id','sugar' or \n",
    "                                                    'order_id','butter'])\n",
    "\n",
    "df_applepie['sum_pie'] = df_applepie.milk + df_applepie.flour + df_applepie.eggs + df_applepie.sugar + df_applepie.butter"
   ]
  },
  {
   "cell_type": "code",
   "execution_count": 5,
   "metadata": {},
   "outputs": [
    {
     "data": {
      "text/plain": [
       "[31222, 12665, 3668, 180, 7]"
      ]
     },
     "execution_count": 5,
     "metadata": {},
     "output_type": "execute_result"
    }
   ],
   "source": [
    "sorted(df_applepie.groupby('order_id')['sum_pie'].value_counts().value_counts(), reverse=True)"
   ]
  },
  {
   "cell_type": "code",
   "execution_count": 6,
   "metadata": {},
   "outputs": [],
   "source": [
    "df_applepie['milk'] = df_applepie[\"product_name\"].str.contains(\"Молоко\")\n",
    "df_applepie.milk = df_applepie.milk.astype(int)\n",
    "\n",
    "df_applepie['flour'] = df_applepie[\"product_name\"].str.contains(\"Мука\")\n",
    "df_applepie.flour = df_applepie.flour.astype(int)\n",
    "\n",
    "df_applepie['eggs'] = df_applepie[\"product_name\"].str.contains(\"Яйца куриные\")\n",
    "df_applepie.eggs = df_applepie.eggs.astype(int)\n",
    "\n",
    "df_applepie['sugar'] = df_applepie[\"product_name\"].str.contains(\"Сахар\")\n",
    "df_applepie.sugar = df_applepie.sugar.astype(int)\n",
    "\n",
    "df_applepie['butter'] = df_applepie[\"product_name\"].str.contains(\"Масло сливочное\")\n",
    "df_applepie.butter = df_applepie.butter.astype(int)\n",
    "\n",
    "df_applepie = df_applepie.drop_duplicates(subset = ['order_id','milk' or \n",
    "                                                    'order_id','flour' or \n",
    "                                                    'order_id','eggs' or \n",
    "                                                    'order_id','sugar' or \n",
    "                                                    'order_id','butter'])\n",
    "\n",
    "df_applepie['sum_pie'] = df_applepie.milk + df_applepie.flour + df_applepie.eggs + df_applepie.sugar + df_applepie.butter"
   ]
  },
  {
   "cell_type": "code",
   "execution_count": 7,
   "metadata": {},
   "outputs": [],
   "source": [
    "df_applepie = df_applepie.groupby('order_id')['sum_pie']"
   ]
  },
  {
   "cell_type": "code",
   "execution_count": 8,
   "metadata": {},
   "outputs": [
    {
     "data": {
      "text/plain": [
       "<pandas.core.groupby.generic.SeriesGroupBy object at 0x000001652A809CA0>"
      ]
     },
     "execution_count": 8,
     "metadata": {},
     "output_type": "execute_result"
    }
   ],
   "source": [
    "df_applepie"
   ]
  },
  {
   "cell_type": "code",
   "execution_count": 9,
   "metadata": {},
   "outputs": [],
   "source": [
    "df_borsh = df[df[\"product_name\"].str.contains(\"Свекла|Карто|Морков|Лук|Говядина|Капуста|Томатная\")]"
   ]
  },
  {
   "cell_type": "code",
   "execution_count": 10,
   "metadata": {},
   "outputs": [
    {
     "name": "stderr",
     "output_type": "stream",
     "text": [
      "<ipython-input-10-b4a3778f7887>:1: SettingWithCopyWarning: \n",
      "A value is trying to be set on a copy of a slice from a DataFrame.\n",
      "Try using .loc[row_indexer,col_indexer] = value instead\n",
      "\n",
      "See the caveats in the documentation: https://pandas.pydata.org/pandas-docs/stable/user_guide/indexing.html#returning-a-view-versus-a-copy\n",
      "  df_borsh['beet'] = df_borsh[\"product_name\"].str.contains(\"Свекла\")\n",
      "<ipython-input-10-b4a3778f7887>:4: SettingWithCopyWarning: \n",
      "A value is trying to be set on a copy of a slice from a DataFrame.\n",
      "Try using .loc[row_indexer,col_indexer] = value instead\n",
      "\n",
      "See the caveats in the documentation: https://pandas.pydata.org/pandas-docs/stable/user_guide/indexing.html#returning-a-view-versus-a-copy\n",
      "  df_borsh['potato'] = df_borsh[\"product_name\"].str.contains(\"Карто\")\n",
      "<ipython-input-10-b4a3778f7887>:7: SettingWithCopyWarning: \n",
      "A value is trying to be set on a copy of a slice from a DataFrame.\n",
      "Try using .loc[row_indexer,col_indexer] = value instead\n",
      "\n",
      "See the caveats in the documentation: https://pandas.pydata.org/pandas-docs/stable/user_guide/indexing.html#returning-a-view-versus-a-copy\n",
      "  df_borsh['carrot'] = df_borsh[\"product_name\"].str.contains(\"Морков\")\n",
      "<ipython-input-10-b4a3778f7887>:10: SettingWithCopyWarning: \n",
      "A value is trying to be set on a copy of a slice from a DataFrame.\n",
      "Try using .loc[row_indexer,col_indexer] = value instead\n",
      "\n",
      "See the caveats in the documentation: https://pandas.pydata.org/pandas-docs/stable/user_guide/indexing.html#returning-a-view-versus-a-copy\n",
      "  df_borsh['onion'] = df_borsh[\"product_name\"].str.contains(\"Лук\")\n",
      "<ipython-input-10-b4a3778f7887>:13: SettingWithCopyWarning: \n",
      "A value is trying to be set on a copy of a slice from a DataFrame.\n",
      "Try using .loc[row_indexer,col_indexer] = value instead\n",
      "\n",
      "See the caveats in the documentation: https://pandas.pydata.org/pandas-docs/stable/user_guide/indexing.html#returning-a-view-versus-a-copy\n",
      "  df_borsh['beef'] = df_borsh[\"product_name\"].str.contains(\"Говядина\")\n",
      "<ipython-input-10-b4a3778f7887>:16: SettingWithCopyWarning: \n",
      "A value is trying to be set on a copy of a slice from a DataFrame.\n",
      "Try using .loc[row_indexer,col_indexer] = value instead\n",
      "\n",
      "See the caveats in the documentation: https://pandas.pydata.org/pandas-docs/stable/user_guide/indexing.html#returning-a-view-versus-a-copy\n",
      "  df_borsh['cabbage'] = df_borsh[\"product_name\"].str.contains(\"Капуста\")\n",
      "<ipython-input-10-b4a3778f7887>:19: SettingWithCopyWarning: \n",
      "A value is trying to be set on a copy of a slice from a DataFrame.\n",
      "Try using .loc[row_indexer,col_indexer] = value instead\n",
      "\n",
      "See the caveats in the documentation: https://pandas.pydata.org/pandas-docs/stable/user_guide/indexing.html#returning-a-view-versus-a-copy\n",
      "  df_borsh['tom_pas'] = df_borsh[\"product_name\"].str.contains(\"Томатная\")\n"
     ]
    }
   ],
   "source": [
    "df_borsh['beet'] = df_borsh[\"product_name\"].str.contains(\"Свекла\")\n",
    "df_borsh.beet = df_borsh.beet.astype(int)\n",
    "\n",
    "df_borsh['potato'] = df_borsh[\"product_name\"].str.contains(\"Карто\")\n",
    "df_borsh.potato = df_borsh.potato.astype(int)\n",
    "\n",
    "df_borsh['carrot'] = df_borsh[\"product_name\"].str.contains(\"Морков\")\n",
    "df_borsh.carrot = df_borsh.carrot.astype(int)\n",
    "\n",
    "df_borsh['onion'] = df_borsh[\"product_name\"].str.contains(\"Лук\")\n",
    "df_borsh.onion = df_borsh.onion.astype(int)\n",
    "\n",
    "df_borsh['beef'] = df_borsh[\"product_name\"].str.contains(\"Говядина\")\n",
    "df_borsh.beef = df_borsh.beef.astype(int)\n",
    "\n",
    "df_borsh['cabbage'] = df_borsh[\"product_name\"].str.contains(\"Капуста\")\n",
    "df_borsh.cabbage = df_borsh.cabbage.astype(int)\n",
    "\n",
    "df_borsh['tom_pas'] = df_borsh[\"product_name\"].str.contains(\"Томатная\")\n",
    "df_borsh.tom_pas = df_borsh.tom_pas.astype(int)\n",
    "\n",
    "\n",
    "df_borsh = df_borsh.drop_duplicates(subset = ['order_id','beet' or \n",
    "                                                'order_id','potato' or \n",
    "                                                'order_id','carrot' or \n",
    "                                                'order_id','onion' or \n",
    "                                                'order_id','beef' or \n",
    "                                                'order_id','cabbage' or\n",
    "                                                'order_id','tom_pas'])\n",
    "\n",
    "df_borsh['sum_bor'] = df_borsh.beet + df_borsh.potato + df_borsh.carrot + df_borsh.onion + df_borsh.beef + df_borsh.cabbage + df_borsh.tom_pas "
   ]
  },
  {
   "cell_type": "code",
   "execution_count": 11,
   "metadata": {},
   "outputs": [
    {
     "data": {
      "text/plain": [
       "[19082, 11463, 6610, 3364, 1398, 245, 17]"
      ]
     },
     "execution_count": 11,
     "metadata": {},
     "output_type": "execute_result"
    }
   ],
   "source": [
    "sorted(df_borsh.groupby('order_id')['sum_bor'].value_counts().value_counts(), reverse=True)"
   ]
  }
 ],
 "metadata": {
  "kernelspec": {
   "display_name": "Python 3",
   "language": "python",
   "name": "python3"
  },
  "language_info": {
   "codemirror_mode": {
    "name": "ipython",
    "version": 3
   },
   "file_extension": ".py",
   "mimetype": "text/x-python",
   "name": "python",
   "nbconvert_exporter": "python",
   "pygments_lexer": "ipython3",
   "version": "3.8.3"
  }
 },
 "nbformat": 4,
 "nbformat_minor": 4
}
