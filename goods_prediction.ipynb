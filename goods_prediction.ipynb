{
 "cells": [
  {
   "cell_type": "code",
   "execution_count": 2,
   "metadata": {},
   "outputs": [],
   "source": [
    "import pandas as pd\n",
    "import numpy as np\n",
    "import time\n",
    "import turicreate as tc\n",
    "from sklearn.model_selection import train_test_split\n",
    "\n",
    "import os\n",
    "import sys"
   ]
  },
  {
   "cell_type": "markdown",
   "metadata": {},
   "source": [
    "# Collaborative filtering"
   ]
  },
  {
   "cell_type": "code",
   "execution_count": 36,
   "metadata": {},
   "outputs": [
    {
     "name": "stderr",
     "output_type": "stream",
     "text": [
      "/home/egor/.local/lib/python3.7/site-packages/numpy/lib/arraysetops.py:580: FutureWarning: elementwise comparison failed; returning scalar instead, but in the future will perform elementwise comparison\n",
      "  mask |= (ar1 == a)\n"
     ]
    },
    {
     "name": "stdout",
     "output_type": "stream",
     "text": [
      "Size  of the dataframe is 1.4 GB\n",
      "Shape of the dataframe is (46194236, 3)\n"
     ]
    }
   ],
   "source": [
    "PROCESS_DATA = False\n",
    "\n",
    "if PROCESS_DATA:\n",
    "    is_first = True\n",
    "    for i in range(1, 7):\n",
    "        products_folder = f\"sbermarket_tab_2_{i}\"\n",
    "        for file in os.listdir(products_folder):\n",
    "            products_file = os.path.join(products_folder, file)\n",
    "            if is_first:\n",
    "                products = pd.read_csv(products_file, usecols=[\"user_id\", \"product_id\", \"quantity\"])\n",
    "                is_first = False\n",
    "            else:\n",
    "                new_products = pd.read_csv(products_file, usecols=[\"user_id\", \"product_id\", \"quantity\"])\n",
    "                products = pd.concat([products, new_products])\n",
    "\n",
    "    products.rename(columns={\"quantity\": \"purchase_count\",\n",
    "                             \"user_id\": \"customerId\",\n",
    "                             \"product_id\": \"productId\"}, inplace=True)\n",
    "\n",
    "    data = products.groupby([\"customerId\", \"productId\"]).agg({\"purchase_count\": \"sum\"})\n",
    "    del products\n",
    "    data.reset_index(inplace=True)\n",
    "    data.to_csv(\"data.csv\")\n",
    "\n",
    "else:\n",
    "    data = pd.read_csv(\"data.csv\", index_col=0)\n",
    "    print(f\"Size  of the dataframe is {sys.getsizeof(data) / 1024**3:.1f} GB\")\n",
    "    print(f\"Shape of the dataframe is {data.shape}\")"
   ]
  },
  {
   "cell_type": "code",
   "execution_count": 37,
   "metadata": {},
   "outputs": [
    {
     "data": {
      "text/html": [
       "<div>\n",
       "<style scoped>\n",
       "    .dataframe tbody tr th:only-of-type {\n",
       "        vertical-align: middle;\n",
       "    }\n",
       "\n",
       "    .dataframe tbody tr th {\n",
       "        vertical-align: top;\n",
       "    }\n",
       "\n",
       "    .dataframe thead th {\n",
       "        text-align: right;\n",
       "    }\n",
       "</style>\n",
       "<table border=\"1\" class=\"dataframe\">\n",
       "  <thead>\n",
       "    <tr style=\"text-align: right;\">\n",
       "      <th></th>\n",
       "      <th>customerId</th>\n",
       "      <th>productId</th>\n",
       "      <th>purchase_count</th>\n",
       "    </tr>\n",
       "  </thead>\n",
       "  <tbody>\n",
       "    <tr>\n",
       "      <th>0</th>\n",
       "      <td>51</td>\n",
       "      <td>0</td>\n",
       "      <td>9</td>\n",
       "    </tr>\n",
       "    <tr>\n",
       "      <th>1</th>\n",
       "      <td>51</td>\n",
       "      <td>159</td>\n",
       "      <td>1</td>\n",
       "    </tr>\n",
       "    <tr>\n",
       "      <th>2</th>\n",
       "      <td>51</td>\n",
       "      <td>397</td>\n",
       "      <td>2</td>\n",
       "    </tr>\n",
       "    <tr>\n",
       "      <th>3</th>\n",
       "      <td>51</td>\n",
       "      <td>407</td>\n",
       "      <td>16</td>\n",
       "    </tr>\n",
       "    <tr>\n",
       "      <th>4</th>\n",
       "      <td>51</td>\n",
       "      <td>456</td>\n",
       "      <td>20</td>\n",
       "    </tr>\n",
       "  </tbody>\n",
       "</table>\n",
       "</div>"
      ],
      "text/plain": [
       "   customerId  productId  purchase_count\n",
       "0          51          0               9\n",
       "1          51        159               1\n",
       "2          51        397               2\n",
       "3          51        407              16\n",
       "4          51        456              20"
      ]
     },
     "execution_count": 37,
     "metadata": {},
     "output_type": "execute_result"
    }
   ],
   "source": [
    "data.head()"
   ]
  },
  {
   "cell_type": "code",
   "execution_count": 6,
   "metadata": {},
   "outputs": [],
   "source": [
    "sample_submission = \"sample_submission.csv\"\n",
    "customers = pd.read_csv(sample_submission, usecols=[\"Id\"])\n",
    "users_to_recommend = customers.Id.tolist()\n",
    "\n",
    "user_id = 'customerId'\n",
    "item_id = 'productId'\n",
    "n_rec = 50  # number of items to recommend"
   ]
  },
  {
   "cell_type": "code",
   "execution_count": 5,
   "metadata": {},
   "outputs": [],
   "source": [
    "FREQ_TYPE = 'scaled_purchase_freq'\n",
    "\n",
    "if FREQ_TYPE == 'dummy':\n",
    "    target = 'purchase_dummy'\n",
    "    data['purchase_dummy'] = 1\n",
    "elif FREQ_TYPE == 'rel_freq':\n",
    "    target = 'scaled_purchase_freq'\n",
    "    data[\"max_count_prod\"] = data.groupby('productId')[\"purchase_count\"].transform('max')\n",
    "    data[\"scaled_purchase_freq\"] = data[\"purchase_count\"] / data[\"max_count_prod\"]\n",
    "    data.drop(columns=['max_count_prod', 'purchase_count'], inplace=True)\n",
    "else:\n",
    "    target = 'purchase_count'\n",
    "\n",
    "train_data = tc.SFrame(data)\n",
    "del data"
   ]
  },
  {
   "cell_type": "code",
   "execution_count": 6,
   "metadata": {},
   "outputs": [],
   "source": [
    "def create_output(df_rec, name):\n",
    "    df_rec['Predicted'] = df_rec.groupby([user_id])[item_id] \\\n",
    "        .transform(lambda x: ' '.join(x.astype(str)))\n",
    "    df_rec.rename(columns={\"customerId\": \"Id\"}, inplace=True)\n",
    "    df_output = df_rec[['Id', 'Predicted']].drop_duplicates() \\\n",
    "        .sort_values('Id').set_index('Id')\n",
    "    df_output.to_csv(f'submission_{name}_{FREQ_TYPE}.csv')\n",
    "    return df_output\n",
    "\n",
    "def fit_predict(train_data, name, user_id, item_id, target, users_to_recommend, n_rec):\n",
    "    if name == 'popularity':\n",
    "        model = tc.popularity_recommender.create(train_data, \n",
    "                                                    user_id=user_id, \n",
    "                                                    item_id=item_id, \n",
    "                                                    target=target)\n",
    "    elif name == 'cosine':\n",
    "        model = tc.item_similarity_recommender.create(train_data, \n",
    "                                                    user_id=user_id, \n",
    "                                                    item_id=item_id, \n",
    "                                                    target=target, \n",
    "                                                    similarity_type='cosine')\n",
    "    elif name == 'pearson':\n",
    "        model = tc.item_similarity_recommender.create(train_data, \n",
    "                                                    user_id=user_id, \n",
    "                                                    item_id=item_id, \n",
    "                                                    target=target, \n",
    "                                                    similarity_type='pearson')\n",
    "        \n",
    "    recom = model.recommend(users=users_to_recommend, k=n_rec).to_dataframe()\n",
    "    return create_output(recom, name)"
   ]
  },
  {
   "cell_type": "code",
   "execution_count": 7,
   "metadata": {},
   "outputs": [
    {
     "data": {
      "text/html": [
       "<pre>Preparing data set.</pre>"
      ],
      "text/plain": [
       "Preparing data set."
      ]
     },
     "metadata": {},
     "output_type": "display_data"
    },
    {
     "data": {
      "text/html": [
       "<pre>    Data has 46194236 observations with 657502 users and 95002 items.</pre>"
      ],
      "text/plain": [
       "    Data has 46194236 observations with 657502 users and 95002 items."
      ]
     },
     "metadata": {},
     "output_type": "display_data"
    },
    {
     "data": {
      "text/html": [
       "<pre>    Data prepared in: 22.6766s</pre>"
      ],
      "text/plain": [
       "    Data prepared in: 22.6766s"
      ]
     },
     "metadata": {},
     "output_type": "display_data"
    },
    {
     "data": {
      "text/html": [
       "<pre>Training model from provided data.</pre>"
      ],
      "text/plain": [
       "Training model from provided data."
      ]
     },
     "metadata": {},
     "output_type": "display_data"
    },
    {
     "data": {
      "text/html": [
       "<pre>Gathering per-item and per-user statistics.</pre>"
      ],
      "text/plain": [
       "Gathering per-item and per-user statistics."
      ]
     },
     "metadata": {},
     "output_type": "display_data"
    },
    {
     "data": {
      "text/html": [
       "<pre>+--------------------------------+------------+</pre>"
      ],
      "text/plain": [
       "+--------------------------------+------------+"
      ]
     },
     "metadata": {},
     "output_type": "display_data"
    },
    {
     "data": {
      "text/html": [
       "<pre>| Elapsed Time (Item Statistics) | % Complete |</pre>"
      ],
      "text/plain": [
       "| Elapsed Time (Item Statistics) | % Complete |"
      ]
     },
     "metadata": {},
     "output_type": "display_data"
    },
    {
     "data": {
      "text/html": [
       "<pre>+--------------------------------+------------+</pre>"
      ],
      "text/plain": [
       "+--------------------------------+------------+"
      ]
     },
     "metadata": {},
     "output_type": "display_data"
    },
    {
     "data": {
      "text/html": [
       "<pre>| 4.187ms                        | 0          |</pre>"
      ],
      "text/plain": [
       "| 4.187ms                        | 0          |"
      ]
     },
     "metadata": {},
     "output_type": "display_data"
    },
    {
     "data": {
      "text/html": [
       "<pre>| 605.038ms                      | 100        |</pre>"
      ],
      "text/plain": [
       "| 605.038ms                      | 100        |"
      ]
     },
     "metadata": {},
     "output_type": "display_data"
    },
    {
     "data": {
      "text/html": [
       "<pre>+--------------------------------+------------+</pre>"
      ],
      "text/plain": [
       "+--------------------------------+------------+"
      ]
     },
     "metadata": {},
     "output_type": "display_data"
    },
    {
     "data": {
      "text/html": [
       "<pre>Setting up lookup tables.</pre>"
      ],
      "text/plain": [
       "Setting up lookup tables."
      ]
     },
     "metadata": {},
     "output_type": "display_data"
    },
    {
     "data": {
      "text/html": [
       "<pre>Processing the 98 most common items by brute force search.</pre>"
      ],
      "text/plain": [
       "Processing the 98 most common items by brute force search."
      ]
     },
     "metadata": {},
     "output_type": "display_data"
    },
    {
     "data": {
      "text/html": [
       "<pre>Transposing user-item lists for use in nearest neighbor search.</pre>"
      ],
      "text/plain": [
       "Transposing user-item lists for use in nearest neighbor search."
      ]
     },
     "metadata": {},
     "output_type": "display_data"
    },
    {
     "data": {
      "text/html": [
       "<pre>+------------------------------------+------------+</pre>"
      ],
      "text/plain": [
       "+------------------------------------+------------+"
      ]
     },
     "metadata": {},
     "output_type": "display_data"
    },
    {
     "data": {
      "text/html": [
       "<pre>| Elapsed Time (Data Transposition)) | % Complete |</pre>"
      ],
      "text/plain": [
       "| Elapsed Time (Data Transposition)) | % Complete |"
      ]
     },
     "metadata": {},
     "output_type": "display_data"
    },
    {
     "data": {
      "text/html": [
       "<pre>+------------------------------------+------------+</pre>"
      ],
      "text/plain": [
       "+------------------------------------+------------+"
      ]
     },
     "metadata": {},
     "output_type": "display_data"
    },
    {
     "data": {
      "text/html": [
       "<pre>| 273.561ms                          | 0          |</pre>"
      ],
      "text/plain": [
       "| 273.561ms                          | 0          |"
      ]
     },
     "metadata": {},
     "output_type": "display_data"
    },
    {
     "data": {
      "text/html": [
       "<pre>| 2.82s                              | 100        |</pre>"
      ],
      "text/plain": [
       "| 2.82s                              | 100        |"
      ]
     },
     "metadata": {},
     "output_type": "display_data"
    },
    {
     "data": {
      "text/html": [
       "<pre>+------------------------------------+------------+</pre>"
      ],
      "text/plain": [
       "+------------------------------------+------------+"
      ]
     },
     "metadata": {},
     "output_type": "display_data"
    },
    {
     "data": {
      "text/html": [
       "<pre>+-------------------------------------+------------------+-----------------+</pre>"
      ],
      "text/plain": [
       "+-------------------------------------+------------------+-----------------+"
      ]
     },
     "metadata": {},
     "output_type": "display_data"
    },
    {
     "data": {
      "text/html": [
       "<pre>| Elapsed Time (Constructing Lookups) | Total % Complete | Items Processed |</pre>"
      ],
      "text/plain": [
       "| Elapsed Time (Constructing Lookups) | Total % Complete | Items Processed |"
      ]
     },
     "metadata": {},
     "output_type": "display_data"
    },
    {
     "data": {
      "text/html": [
       "<pre>+-------------------------------------+------------------+-----------------+</pre>"
      ],
      "text/plain": [
       "+-------------------------------------+------------------+-----------------+"
      ]
     },
     "metadata": {},
     "output_type": "display_data"
    },
    {
     "data": {
      "text/html": [
       "<pre>| 3.84s                               | 0                | 0               |</pre>"
      ],
      "text/plain": [
       "| 3.84s                               | 0                | 0               |"
      ]
     },
     "metadata": {},
     "output_type": "display_data"
    },
    {
     "data": {
      "text/html": [
       "<pre>| 6.84s                               | 0                | 71              |</pre>"
      ],
      "text/plain": [
       "| 6.84s                               | 0                | 71              |"
      ]
     },
     "metadata": {},
     "output_type": "display_data"
    },
    {
     "data": {
      "text/html": [
       "<pre>| 9.84s                               | 0                | 82              |</pre>"
      ],
      "text/plain": [
       "| 9.84s                               | 0                | 82              |"
      ]
     },
     "metadata": {},
     "output_type": "display_data"
    },
    {
     "data": {
      "text/html": [
       "<pre>| 12.84s                              | 0                | 88              |</pre>"
      ],
      "text/plain": [
       "| 12.84s                              | 0                | 88              |"
      ]
     },
     "metadata": {},
     "output_type": "display_data"
    },
    {
     "data": {
      "text/html": [
       "<pre>| 15.84s                              | 0                | 89              |</pre>"
      ],
      "text/plain": [
       "| 15.84s                              | 0                | 89              |"
      ]
     },
     "metadata": {},
     "output_type": "display_data"
    },
    {
     "data": {
      "text/html": [
       "<pre>| 18.84s                              | 0                | 92              |</pre>"
      ],
      "text/plain": [
       "| 18.84s                              | 0                | 92              |"
      ]
     },
     "metadata": {},
     "output_type": "display_data"
    },
    {
     "data": {
      "text/html": [
       "<pre>| 21.84s                              | 0                | 94              |</pre>"
      ],
      "text/plain": [
       "| 21.84s                              | 0                | 94              |"
      ]
     },
     "metadata": {},
     "output_type": "display_data"
    },
    {
     "data": {
      "text/html": [
       "<pre>| 24.84s                              | 0                | 97              |</pre>"
      ],
      "text/plain": [
       "| 24.84s                              | 0                | 97              |"
      ]
     },
     "metadata": {},
     "output_type": "display_data"
    },
    {
     "data": {
      "text/html": [
       "<pre>+-------------------------------------+------------------+-----------------+</pre>"
      ],
      "text/plain": [
       "+-------------------------------------+------------------+-----------------+"
      ]
     },
     "metadata": {},
     "output_type": "display_data"
    },
    {
     "data": {
      "text/html": [
       "<pre>Processing data in 5 passes using dense lookup tables.</pre>"
      ],
      "text/plain": [
       "Processing data in 5 passes using dense lookup tables."
      ]
     },
     "metadata": {},
     "output_type": "display_data"
    },
    {
     "data": {
      "text/html": [
       "<pre>+-------------------------------------+------------------+-----------------+</pre>"
      ],
      "text/plain": [
       "+-------------------------------------+------------------+-----------------+"
      ]
     },
     "metadata": {},
     "output_type": "display_data"
    },
    {
     "data": {
      "text/html": [
       "<pre>| Elapsed Time (Constructing Lookups) | Total % Complete | Items Processed |</pre>"
      ],
      "text/plain": [
       "| Elapsed Time (Constructing Lookups) | Total % Complete | Items Processed |"
      ]
     },
     "metadata": {},
     "output_type": "display_data"
    },
    {
     "data": {
      "text/html": [
       "<pre>+-------------------------------------+------------------+-----------------+</pre>"
      ],
      "text/plain": [
       "+-------------------------------------+------------------+-----------------+"
      ]
     },
     "metadata": {},
     "output_type": "display_data"
    },
    {
     "data": {
      "text/html": [
       "<pre>| 29.09s                              | 0                | 98              |</pre>"
      ],
      "text/plain": [
       "| 29.09s                              | 0                | 98              |"
      ]
     },
     "metadata": {},
     "output_type": "display_data"
    },
    {
     "data": {
      "text/html": [
       "<pre>| 30.84s                              | 0.75             | 916             |</pre>"
      ],
      "text/plain": [
       "| 30.84s                              | 0.75             | 916             |"
      ]
     },
     "metadata": {},
     "output_type": "display_data"
    },
    {
     "data": {
      "text/html": [
       "<pre>| 33.84s                              | 2.25             | 2250            |</pre>"
      ],
      "text/plain": [
       "| 33.84s                              | 2.25             | 2250            |"
      ]
     },
     "metadata": {},
     "output_type": "display_data"
    },
    {
     "data": {
      "text/html": [
       "<pre>| 36.84s                              | 3.75             | 3590            |</pre>"
      ],
      "text/plain": [
       "| 36.84s                              | 3.75             | 3590            |"
      ]
     },
     "metadata": {},
     "output_type": "display_data"
    },
    {
     "data": {
      "text/html": [
       "<pre>| 39.84s                              | 5                | 4912            |</pre>"
      ],
      "text/plain": [
       "| 39.84s                              | 5                | 4912            |"
      ]
     },
     "metadata": {},
     "output_type": "display_data"
    },
    {
     "data": {
      "text/html": [
       "<pre>| 42.84s                              | 6.5              | 6228            |</pre>"
      ],
      "text/plain": [
       "| 42.84s                              | 6.5              | 6228            |"
      ]
     },
     "metadata": {},
     "output_type": "display_data"
    },
    {
     "data": {
      "text/html": [
       "<pre>| 45.84s                              | 7.75             | 7532            |</pre>"
      ],
      "text/plain": [
       "| 45.84s                              | 7.75             | 7532            |"
      ]
     },
     "metadata": {},
     "output_type": "display_data"
    },
    {
     "data": {
      "text/html": [
       "<pre>| 48.84s                              | 9.25             | 8807            |</pre>"
      ],
      "text/plain": [
       "| 48.84s                              | 9.25             | 8807            |"
      ]
     },
     "metadata": {},
     "output_type": "display_data"
    },
    {
     "data": {
      "text/html": [
       "<pre>| 51.84s                              | 10.5             | 10116           |</pre>"
      ],
      "text/plain": [
       "| 51.84s                              | 10.5             | 10116           |"
      ]
     },
     "metadata": {},
     "output_type": "display_data"
    },
    {
     "data": {
      "text/html": [
       "<pre>| 54.84s                              | 12               | 11512           |</pre>"
      ],
      "text/plain": [
       "| 54.84s                              | 12               | 11512           |"
      ]
     },
     "metadata": {},
     "output_type": "display_data"
    },
    {
     "data": {
      "text/html": [
       "<pre>| 57.84s                              | 13.5             | 12836           |</pre>"
      ],
      "text/plain": [
       "| 57.84s                              | 13.5             | 12836           |"
      ]
     },
     "metadata": {},
     "output_type": "display_data"
    },
    {
     "data": {
      "text/html": [
       "<pre>| 1m 0s                               | 14.75            | 14207           |</pre>"
      ],
      "text/plain": [
       "| 1m 0s                               | 14.75            | 14207           |"
      ]
     },
     "metadata": {},
     "output_type": "display_data"
    },
    {
     "data": {
      "text/html": [
       "<pre>| 1m 3s                               | 16.25            | 15555           |</pre>"
      ],
      "text/plain": [
       "| 1m 3s                               | 16.25            | 15555           |"
      ]
     },
     "metadata": {},
     "output_type": "display_data"
    },
    {
     "data": {
      "text/html": [
       "<pre>| 1m 6s                               | 17.75            | 16873           |</pre>"
      ],
      "text/plain": [
       "| 1m 6s                               | 17.75            | 16873           |"
      ]
     },
     "metadata": {},
     "output_type": "display_data"
    },
    {
     "data": {
      "text/html": [
       "<pre>| 1m 9s                               | 19               | 18199           |</pre>"
      ],
      "text/plain": [
       "| 1m 9s                               | 19               | 18199           |"
      ]
     },
     "metadata": {},
     "output_type": "display_data"
    },
    {
     "data": {
      "text/html": [
       "<pre>| 1m 24s                              | 20               | 19055           |</pre>"
      ],
      "text/plain": [
       "| 1m 24s                              | 20               | 19055           |"
      ]
     },
     "metadata": {},
     "output_type": "display_data"
    },
    {
     "data": {
      "text/html": [
       "<pre>| 1m 27s                              | 28               | 26737           |</pre>"
      ],
      "text/plain": [
       "| 1m 27s                              | 28               | 26737           |"
      ]
     },
     "metadata": {},
     "output_type": "display_data"
    },
    {
     "data": {
      "text/html": [
       "<pre>| 1m 30s                              | 35.5             | 33854           |</pre>"
      ],
      "text/plain": [
       "| 1m 30s                              | 35.5             | 33854           |"
      ]
     },
     "metadata": {},
     "output_type": "display_data"
    },
    {
     "data": {
      "text/html": [
       "<pre>| 1m 46s                              | 40               | 38013           |</pre>"
      ],
      "text/plain": [
       "| 1m 46s                              | 40               | 38013           |"
      ]
     },
     "metadata": {},
     "output_type": "display_data"
    },
    {
     "data": {
      "text/html": [
       "<pre>| 2m 0s                               | 59.75            | 56971           |</pre>"
      ],
      "text/plain": [
       "| 2m 0s                               | 59.75            | 56971           |"
      ]
     },
     "metadata": {},
     "output_type": "display_data"
    },
    {
     "data": {
      "text/html": [
       "<pre>| 2m 10s                              | 79.75            | 75929           |</pre>"
      ],
      "text/plain": [
       "| 2m 10s                              | 79.75            | 75929           |"
      ]
     },
     "metadata": {},
     "output_type": "display_data"
    },
    {
     "data": {
      "text/html": [
       "<pre>| 2m 12s                              | 100              | 95002           |</pre>"
      ],
      "text/plain": [
       "| 2m 12s                              | 100              | 95002           |"
      ]
     },
     "metadata": {},
     "output_type": "display_data"
    },
    {
     "data": {
      "text/html": [
       "<pre>+-------------------------------------+------------------+-----------------+</pre>"
      ],
      "text/plain": [
       "+-------------------------------------+------------------+-----------------+"
      ]
     },
     "metadata": {},
     "output_type": "display_data"
    },
    {
     "data": {
      "text/html": [
       "<pre>Finalizing lookup tables.</pre>"
      ],
      "text/plain": [
       "Finalizing lookup tables."
      ]
     },
     "metadata": {},
     "output_type": "display_data"
    },
    {
     "data": {
      "text/html": [
       "<pre>Generating candidate set for working with new users.</pre>"
      ],
      "text/plain": [
       "Generating candidate set for working with new users."
      ]
     },
     "metadata": {},
     "output_type": "display_data"
    },
    {
     "data": {
      "text/html": [
       "<pre>Finished training in 134.897s</pre>"
      ],
      "text/plain": [
       "Finished training in 134.897s"
      ]
     },
     "metadata": {},
     "output_type": "display_data"
    },
    {
     "data": {
      "text/html": [
       "<pre>recommendations finished on 1000/107068 queries. users per second: 1715.82</pre>"
      ],
      "text/plain": [
       "recommendations finished on 1000/107068 queries. users per second: 1715.82"
      ]
     },
     "metadata": {},
     "output_type": "display_data"
    },
    {
     "data": {
      "text/html": [
       "<pre>recommendations finished on 2000/107068 queries. users per second: 1715.7</pre>"
      ],
      "text/plain": [
       "recommendations finished on 2000/107068 queries. users per second: 1715.7"
      ]
     },
     "metadata": {},
     "output_type": "display_data"
    },
    {
     "data": {
      "text/html": [
       "<pre>recommendations finished on 3000/107068 queries. users per second: 1738.51</pre>"
      ],
      "text/plain": [
       "recommendations finished on 3000/107068 queries. users per second: 1738.51"
      ]
     },
     "metadata": {},
     "output_type": "display_data"
    },
    {
     "data": {
      "text/html": [
       "<pre>recommendations finished on 4000/107068 queries. users per second: 1732.15</pre>"
      ],
      "text/plain": [
       "recommendations finished on 4000/107068 queries. users per second: 1732.15"
      ]
     },
     "metadata": {},
     "output_type": "display_data"
    },
    {
     "data": {
      "text/html": [
       "<pre>recommendations finished on 5000/107068 queries. users per second: 1676.05</pre>"
      ],
      "text/plain": [
       "recommendations finished on 5000/107068 queries. users per second: 1676.05"
      ]
     },
     "metadata": {},
     "output_type": "display_data"
    },
    {
     "data": {
      "text/html": [
       "<pre>recommendations finished on 6000/107068 queries. users per second: 1674.11</pre>"
      ],
      "text/plain": [
       "recommendations finished on 6000/107068 queries. users per second: 1674.11"
      ]
     },
     "metadata": {},
     "output_type": "display_data"
    },
    {
     "data": {
      "text/html": [
       "<pre>recommendations finished on 7000/107068 queries. users per second: 1662.28</pre>"
      ],
      "text/plain": [
       "recommendations finished on 7000/107068 queries. users per second: 1662.28"
      ]
     },
     "metadata": {},
     "output_type": "display_data"
    },
    {
     "data": {
      "text/html": [
       "<pre>recommendations finished on 8000/107068 queries. users per second: 1650.33</pre>"
      ],
      "text/plain": [
       "recommendations finished on 8000/107068 queries. users per second: 1650.33"
      ]
     },
     "metadata": {},
     "output_type": "display_data"
    },
    {
     "data": {
      "text/html": [
       "<pre>recommendations finished on 9000/107068 queries. users per second: 1645.9</pre>"
      ],
      "text/plain": [
       "recommendations finished on 9000/107068 queries. users per second: 1645.9"
      ]
     },
     "metadata": {},
     "output_type": "display_data"
    },
    {
     "data": {
      "text/html": [
       "<pre>recommendations finished on 10000/107068 queries. users per second: 1642.1</pre>"
      ],
      "text/plain": [
       "recommendations finished on 10000/107068 queries. users per second: 1642.1"
      ]
     },
     "metadata": {},
     "output_type": "display_data"
    },
    {
     "data": {
      "text/html": [
       "<pre>recommendations finished on 11000/107068 queries. users per second: 1643.71</pre>"
      ],
      "text/plain": [
       "recommendations finished on 11000/107068 queries. users per second: 1643.71"
      ]
     },
     "metadata": {},
     "output_type": "display_data"
    },
    {
     "data": {
      "text/html": [
       "<pre>recommendations finished on 12000/107068 queries. users per second: 1633.12</pre>"
      ],
      "text/plain": [
       "recommendations finished on 12000/107068 queries. users per second: 1633.12"
      ]
     },
     "metadata": {},
     "output_type": "display_data"
    },
    {
     "data": {
      "text/html": [
       "<pre>recommendations finished on 13000/107068 queries. users per second: 1635.64</pre>"
      ],
      "text/plain": [
       "recommendations finished on 13000/107068 queries. users per second: 1635.64"
      ]
     },
     "metadata": {},
     "output_type": "display_data"
    },
    {
     "data": {
      "text/html": [
       "<pre>recommendations finished on 14000/107068 queries. users per second: 1643.53</pre>"
      ],
      "text/plain": [
       "recommendations finished on 14000/107068 queries. users per second: 1643.53"
      ]
     },
     "metadata": {},
     "output_type": "display_data"
    },
    {
     "data": {
      "text/html": [
       "<pre>recommendations finished on 15000/107068 queries. users per second: 1633.35</pre>"
      ],
      "text/plain": [
       "recommendations finished on 15000/107068 queries. users per second: 1633.35"
      ]
     },
     "metadata": {},
     "output_type": "display_data"
    },
    {
     "data": {
      "text/html": [
       "<pre>recommendations finished on 16000/107068 queries. users per second: 1629.93</pre>"
      ],
      "text/plain": [
       "recommendations finished on 16000/107068 queries. users per second: 1629.93"
      ]
     },
     "metadata": {},
     "output_type": "display_data"
    },
    {
     "data": {
      "text/html": [
       "<pre>recommendations finished on 17000/107068 queries. users per second: 1634.74</pre>"
      ],
      "text/plain": [
       "recommendations finished on 17000/107068 queries. users per second: 1634.74"
      ]
     },
     "metadata": {},
     "output_type": "display_data"
    },
    {
     "data": {
      "text/html": [
       "<pre>recommendations finished on 18000/107068 queries. users per second: 1640.54</pre>"
      ],
      "text/plain": [
       "recommendations finished on 18000/107068 queries. users per second: 1640.54"
      ]
     },
     "metadata": {},
     "output_type": "display_data"
    },
    {
     "data": {
      "text/html": [
       "<pre>recommendations finished on 19000/107068 queries. users per second: 1642.87</pre>"
      ],
      "text/plain": [
       "recommendations finished on 19000/107068 queries. users per second: 1642.87"
      ]
     },
     "metadata": {},
     "output_type": "display_data"
    },
    {
     "data": {
      "text/html": [
       "<pre>recommendations finished on 20000/107068 queries. users per second: 1647.94</pre>"
      ],
      "text/plain": [
       "recommendations finished on 20000/107068 queries. users per second: 1647.94"
      ]
     },
     "metadata": {},
     "output_type": "display_data"
    },
    {
     "data": {
      "text/html": [
       "<pre>recommendations finished on 21000/107068 queries. users per second: 1654.79</pre>"
      ],
      "text/plain": [
       "recommendations finished on 21000/107068 queries. users per second: 1654.79"
      ]
     },
     "metadata": {},
     "output_type": "display_data"
    },
    {
     "data": {
      "text/html": [
       "<pre>recommendations finished on 22000/107068 queries. users per second: 1661.9</pre>"
      ],
      "text/plain": [
       "recommendations finished on 22000/107068 queries. users per second: 1661.9"
      ]
     },
     "metadata": {},
     "output_type": "display_data"
    },
    {
     "data": {
      "text/html": [
       "<pre>recommendations finished on 23000/107068 queries. users per second: 1667.68</pre>"
      ],
      "text/plain": [
       "recommendations finished on 23000/107068 queries. users per second: 1667.68"
      ]
     },
     "metadata": {},
     "output_type": "display_data"
    },
    {
     "data": {
      "text/html": [
       "<pre>recommendations finished on 24000/107068 queries. users per second: 1663.39</pre>"
      ],
      "text/plain": [
       "recommendations finished on 24000/107068 queries. users per second: 1663.39"
      ]
     },
     "metadata": {},
     "output_type": "display_data"
    },
    {
     "data": {
      "text/html": [
       "<pre>recommendations finished on 25000/107068 queries. users per second: 1666.86</pre>"
      ],
      "text/plain": [
       "recommendations finished on 25000/107068 queries. users per second: 1666.86"
      ]
     },
     "metadata": {},
     "output_type": "display_data"
    },
    {
     "data": {
      "text/html": [
       "<pre>recommendations finished on 26000/107068 queries. users per second: 1668.27</pre>"
      ],
      "text/plain": [
       "recommendations finished on 26000/107068 queries. users per second: 1668.27"
      ]
     },
     "metadata": {},
     "output_type": "display_data"
    },
    {
     "data": {
      "text/html": [
       "<pre>recommendations finished on 27000/107068 queries. users per second: 1665.3</pre>"
      ],
      "text/plain": [
       "recommendations finished on 27000/107068 queries. users per second: 1665.3"
      ]
     },
     "metadata": {},
     "output_type": "display_data"
    },
    {
     "data": {
      "text/html": [
       "<pre>recommendations finished on 28000/107068 queries. users per second: 1654.43</pre>"
      ],
      "text/plain": [
       "recommendations finished on 28000/107068 queries. users per second: 1654.43"
      ]
     },
     "metadata": {},
     "output_type": "display_data"
    },
    {
     "data": {
      "text/html": [
       "<pre>recommendations finished on 29000/107068 queries. users per second: 1652.46</pre>"
      ],
      "text/plain": [
       "recommendations finished on 29000/107068 queries. users per second: 1652.46"
      ]
     },
     "metadata": {},
     "output_type": "display_data"
    },
    {
     "data": {
      "text/html": [
       "<pre>recommendations finished on 30000/107068 queries. users per second: 1650.15</pre>"
      ],
      "text/plain": [
       "recommendations finished on 30000/107068 queries. users per second: 1650.15"
      ]
     },
     "metadata": {},
     "output_type": "display_data"
    },
    {
     "data": {
      "text/html": [
       "<pre>recommendations finished on 31000/107068 queries. users per second: 1647.33</pre>"
      ],
      "text/plain": [
       "recommendations finished on 31000/107068 queries. users per second: 1647.33"
      ]
     },
     "metadata": {},
     "output_type": "display_data"
    },
    {
     "data": {
      "text/html": [
       "<pre>recommendations finished on 32000/107068 queries. users per second: 1643.99</pre>"
      ],
      "text/plain": [
       "recommendations finished on 32000/107068 queries. users per second: 1643.99"
      ]
     },
     "metadata": {},
     "output_type": "display_data"
    },
    {
     "data": {
      "text/html": [
       "<pre>recommendations finished on 33000/107068 queries. users per second: 1635.61</pre>"
      ],
      "text/plain": [
       "recommendations finished on 33000/107068 queries. users per second: 1635.61"
      ]
     },
     "metadata": {},
     "output_type": "display_data"
    },
    {
     "data": {
      "text/html": [
       "<pre>recommendations finished on 34000/107068 queries. users per second: 1638.74</pre>"
      ],
      "text/plain": [
       "recommendations finished on 34000/107068 queries. users per second: 1638.74"
      ]
     },
     "metadata": {},
     "output_type": "display_data"
    },
    {
     "data": {
      "text/html": [
       "<pre>recommendations finished on 35000/107068 queries. users per second: 1641.84</pre>"
      ],
      "text/plain": [
       "recommendations finished on 35000/107068 queries. users per second: 1641.84"
      ]
     },
     "metadata": {},
     "output_type": "display_data"
    },
    {
     "data": {
      "text/html": [
       "<pre>recommendations finished on 36000/107068 queries. users per second: 1644.96</pre>"
      ],
      "text/plain": [
       "recommendations finished on 36000/107068 queries. users per second: 1644.96"
      ]
     },
     "metadata": {},
     "output_type": "display_data"
    },
    {
     "data": {
      "text/html": [
       "<pre>recommendations finished on 37000/107068 queries. users per second: 1648.4</pre>"
      ],
      "text/plain": [
       "recommendations finished on 37000/107068 queries. users per second: 1648.4"
      ]
     },
     "metadata": {},
     "output_type": "display_data"
    },
    {
     "data": {
      "text/html": [
       "<pre>recommendations finished on 38000/107068 queries. users per second: 1651.99</pre>"
      ],
      "text/plain": [
       "recommendations finished on 38000/107068 queries. users per second: 1651.99"
      ]
     },
     "metadata": {},
     "output_type": "display_data"
    },
    {
     "data": {
      "text/html": [
       "<pre>recommendations finished on 39000/107068 queries. users per second: 1654.7</pre>"
      ],
      "text/plain": [
       "recommendations finished on 39000/107068 queries. users per second: 1654.7"
      ]
     },
     "metadata": {},
     "output_type": "display_data"
    },
    {
     "data": {
      "text/html": [
       "<pre>recommendations finished on 40000/107068 queries. users per second: 1658.07</pre>"
      ],
      "text/plain": [
       "recommendations finished on 40000/107068 queries. users per second: 1658.07"
      ]
     },
     "metadata": {},
     "output_type": "display_data"
    },
    {
     "data": {
      "text/html": [
       "<pre>recommendations finished on 41000/107068 queries. users per second: 1660.5</pre>"
      ],
      "text/plain": [
       "recommendations finished on 41000/107068 queries. users per second: 1660.5"
      ]
     },
     "metadata": {},
     "output_type": "display_data"
    },
    {
     "data": {
      "text/html": [
       "<pre>recommendations finished on 42000/107068 queries. users per second: 1662.49</pre>"
      ],
      "text/plain": [
       "recommendations finished on 42000/107068 queries. users per second: 1662.49"
      ]
     },
     "metadata": {},
     "output_type": "display_data"
    },
    {
     "data": {
      "text/html": [
       "<pre>recommendations finished on 43000/107068 queries. users per second: 1664.03</pre>"
      ],
      "text/plain": [
       "recommendations finished on 43000/107068 queries. users per second: 1664.03"
      ]
     },
     "metadata": {},
     "output_type": "display_data"
    },
    {
     "data": {
      "text/html": [
       "<pre>recommendations finished on 44000/107068 queries. users per second: 1665.55</pre>"
      ],
      "text/plain": [
       "recommendations finished on 44000/107068 queries. users per second: 1665.55"
      ]
     },
     "metadata": {},
     "output_type": "display_data"
    },
    {
     "data": {
      "text/html": [
       "<pre>recommendations finished on 45000/107068 queries. users per second: 1665.54</pre>"
      ],
      "text/plain": [
       "recommendations finished on 45000/107068 queries. users per second: 1665.54"
      ]
     },
     "metadata": {},
     "output_type": "display_data"
    },
    {
     "data": {
      "text/html": [
       "<pre>recommendations finished on 46000/107068 queries. users per second: 1665.58</pre>"
      ],
      "text/plain": [
       "recommendations finished on 46000/107068 queries. users per second: 1665.58"
      ]
     },
     "metadata": {},
     "output_type": "display_data"
    },
    {
     "data": {
      "text/html": [
       "<pre>recommendations finished on 47000/107068 queries. users per second: 1664.81</pre>"
      ],
      "text/plain": [
       "recommendations finished on 47000/107068 queries. users per second: 1664.81"
      ]
     },
     "metadata": {},
     "output_type": "display_data"
    },
    {
     "data": {
      "text/html": [
       "<pre>recommendations finished on 48000/107068 queries. users per second: 1666.55</pre>"
      ],
      "text/plain": [
       "recommendations finished on 48000/107068 queries. users per second: 1666.55"
      ]
     },
     "metadata": {},
     "output_type": "display_data"
    },
    {
     "data": {
      "text/html": [
       "<pre>recommendations finished on 49000/107068 queries. users per second: 1667.11</pre>"
      ],
      "text/plain": [
       "recommendations finished on 49000/107068 queries. users per second: 1667.11"
      ]
     },
     "metadata": {},
     "output_type": "display_data"
    },
    {
     "data": {
      "text/html": [
       "<pre>recommendations finished on 50000/107068 queries. users per second: 1668.87</pre>"
      ],
      "text/plain": [
       "recommendations finished on 50000/107068 queries. users per second: 1668.87"
      ]
     },
     "metadata": {},
     "output_type": "display_data"
    },
    {
     "data": {
      "text/html": [
       "<pre>recommendations finished on 51000/107068 queries. users per second: 1670.59</pre>"
      ],
      "text/plain": [
       "recommendations finished on 51000/107068 queries. users per second: 1670.59"
      ]
     },
     "metadata": {},
     "output_type": "display_data"
    },
    {
     "data": {
      "text/html": [
       "<pre>recommendations finished on 52000/107068 queries. users per second: 1672.79</pre>"
      ],
      "text/plain": [
       "recommendations finished on 52000/107068 queries. users per second: 1672.79"
      ]
     },
     "metadata": {},
     "output_type": "display_data"
    },
    {
     "data": {
      "text/html": [
       "<pre>recommendations finished on 53000/107068 queries. users per second: 1673.79</pre>"
      ],
      "text/plain": [
       "recommendations finished on 53000/107068 queries. users per second: 1673.79"
      ]
     },
     "metadata": {},
     "output_type": "display_data"
    },
    {
     "data": {
      "text/html": [
       "<pre>recommendations finished on 54000/107068 queries. users per second: 1675.72</pre>"
      ],
      "text/plain": [
       "recommendations finished on 54000/107068 queries. users per second: 1675.72"
      ]
     },
     "metadata": {},
     "output_type": "display_data"
    },
    {
     "data": {
      "text/html": [
       "<pre>recommendations finished on 55000/107068 queries. users per second: 1677.82</pre>"
      ],
      "text/plain": [
       "recommendations finished on 55000/107068 queries. users per second: 1677.82"
      ]
     },
     "metadata": {},
     "output_type": "display_data"
    },
    {
     "data": {
      "text/html": [
       "<pre>recommendations finished on 56000/107068 queries. users per second: 1680.29</pre>"
      ],
      "text/plain": [
       "recommendations finished on 56000/107068 queries. users per second: 1680.29"
      ]
     },
     "metadata": {},
     "output_type": "display_data"
    },
    {
     "data": {
      "text/html": [
       "<pre>recommendations finished on 57000/107068 queries. users per second: 1682.61</pre>"
      ],
      "text/plain": [
       "recommendations finished on 57000/107068 queries. users per second: 1682.61"
      ]
     },
     "metadata": {},
     "output_type": "display_data"
    },
    {
     "data": {
      "text/html": [
       "<pre>recommendations finished on 58000/107068 queries. users per second: 1685.3</pre>"
      ],
      "text/plain": [
       "recommendations finished on 58000/107068 queries. users per second: 1685.3"
      ]
     },
     "metadata": {},
     "output_type": "display_data"
    },
    {
     "data": {
      "text/html": [
       "<pre>recommendations finished on 59000/107068 queries. users per second: 1687.43</pre>"
      ],
      "text/plain": [
       "recommendations finished on 59000/107068 queries. users per second: 1687.43"
      ]
     },
     "metadata": {},
     "output_type": "display_data"
    },
    {
     "data": {
      "text/html": [
       "<pre>recommendations finished on 60000/107068 queries. users per second: 1689.04</pre>"
      ],
      "text/plain": [
       "recommendations finished on 60000/107068 queries. users per second: 1689.04"
      ]
     },
     "metadata": {},
     "output_type": "display_data"
    },
    {
     "data": {
      "text/html": [
       "<pre>recommendations finished on 61000/107068 queries. users per second: 1690.57</pre>"
      ],
      "text/plain": [
       "recommendations finished on 61000/107068 queries. users per second: 1690.57"
      ]
     },
     "metadata": {},
     "output_type": "display_data"
    },
    {
     "data": {
      "text/html": [
       "<pre>recommendations finished on 62000/107068 queries. users per second: 1691.66</pre>"
      ],
      "text/plain": [
       "recommendations finished on 62000/107068 queries. users per second: 1691.66"
      ]
     },
     "metadata": {},
     "output_type": "display_data"
    },
    {
     "data": {
      "text/html": [
       "<pre>recommendations finished on 63000/107068 queries. users per second: 1692.77</pre>"
      ],
      "text/plain": [
       "recommendations finished on 63000/107068 queries. users per second: 1692.77"
      ]
     },
     "metadata": {},
     "output_type": "display_data"
    },
    {
     "data": {
      "text/html": [
       "<pre>recommendations finished on 64000/107068 queries. users per second: 1693.64</pre>"
      ],
      "text/plain": [
       "recommendations finished on 64000/107068 queries. users per second: 1693.64"
      ]
     },
     "metadata": {},
     "output_type": "display_data"
    },
    {
     "data": {
      "text/html": [
       "<pre>recommendations finished on 65000/107068 queries. users per second: 1693.56</pre>"
      ],
      "text/plain": [
       "recommendations finished on 65000/107068 queries. users per second: 1693.56"
      ]
     },
     "metadata": {},
     "output_type": "display_data"
    },
    {
     "data": {
      "text/html": [
       "<pre>recommendations finished on 66000/107068 queries. users per second: 1694.92</pre>"
      ],
      "text/plain": [
       "recommendations finished on 66000/107068 queries. users per second: 1694.92"
      ]
     },
     "metadata": {},
     "output_type": "display_data"
    },
    {
     "data": {
      "text/html": [
       "<pre>recommendations finished on 67000/107068 queries. users per second: 1696.39</pre>"
      ],
      "text/plain": [
       "recommendations finished on 67000/107068 queries. users per second: 1696.39"
      ]
     },
     "metadata": {},
     "output_type": "display_data"
    },
    {
     "data": {
      "text/html": [
       "<pre>recommendations finished on 68000/107068 queries. users per second: 1697.71</pre>"
      ],
      "text/plain": [
       "recommendations finished on 68000/107068 queries. users per second: 1697.71"
      ]
     },
     "metadata": {},
     "output_type": "display_data"
    },
    {
     "data": {
      "text/html": [
       "<pre>recommendations finished on 69000/107068 queries. users per second: 1699.22</pre>"
      ],
      "text/plain": [
       "recommendations finished on 69000/107068 queries. users per second: 1699.22"
      ]
     },
     "metadata": {},
     "output_type": "display_data"
    },
    {
     "data": {
      "text/html": [
       "<pre>recommendations finished on 70000/107068 queries. users per second: 1700.59</pre>"
      ],
      "text/plain": [
       "recommendations finished on 70000/107068 queries. users per second: 1700.59"
      ]
     },
     "metadata": {},
     "output_type": "display_data"
    },
    {
     "data": {
      "text/html": [
       "<pre>recommendations finished on 71000/107068 queries. users per second: 1702.04</pre>"
      ],
      "text/plain": [
       "recommendations finished on 71000/107068 queries. users per second: 1702.04"
      ]
     },
     "metadata": {},
     "output_type": "display_data"
    },
    {
     "data": {
      "text/html": [
       "<pre>recommendations finished on 72000/107068 queries. users per second: 1703.72</pre>"
      ],
      "text/plain": [
       "recommendations finished on 72000/107068 queries. users per second: 1703.72"
      ]
     },
     "metadata": {},
     "output_type": "display_data"
    },
    {
     "data": {
      "text/html": [
       "<pre>recommendations finished on 73000/107068 queries. users per second: 1704.88</pre>"
      ],
      "text/plain": [
       "recommendations finished on 73000/107068 queries. users per second: 1704.88"
      ]
     },
     "metadata": {},
     "output_type": "display_data"
    },
    {
     "data": {
      "text/html": [
       "<pre>recommendations finished on 74000/107068 queries. users per second: 1706.28</pre>"
      ],
      "text/plain": [
       "recommendations finished on 74000/107068 queries. users per second: 1706.28"
      ]
     },
     "metadata": {},
     "output_type": "display_data"
    },
    {
     "data": {
      "text/html": [
       "<pre>recommendations finished on 75000/107068 queries. users per second: 1707.5</pre>"
      ],
      "text/plain": [
       "recommendations finished on 75000/107068 queries. users per second: 1707.5"
      ]
     },
     "metadata": {},
     "output_type": "display_data"
    },
    {
     "data": {
      "text/html": [
       "<pre>recommendations finished on 76000/107068 queries. users per second: 1708.36</pre>"
      ],
      "text/plain": [
       "recommendations finished on 76000/107068 queries. users per second: 1708.36"
      ]
     },
     "metadata": {},
     "output_type": "display_data"
    },
    {
     "data": {
      "text/html": [
       "<pre>recommendations finished on 77000/107068 queries. users per second: 1709.08</pre>"
      ],
      "text/plain": [
       "recommendations finished on 77000/107068 queries. users per second: 1709.08"
      ]
     },
     "metadata": {},
     "output_type": "display_data"
    },
    {
     "data": {
      "text/html": [
       "<pre>recommendations finished on 78000/107068 queries. users per second: 1710.41</pre>"
      ],
      "text/plain": [
       "recommendations finished on 78000/107068 queries. users per second: 1710.41"
      ]
     },
     "metadata": {},
     "output_type": "display_data"
    },
    {
     "data": {
      "text/html": [
       "<pre>recommendations finished on 79000/107068 queries. users per second: 1712.02</pre>"
      ],
      "text/plain": [
       "recommendations finished on 79000/107068 queries. users per second: 1712.02"
      ]
     },
     "metadata": {},
     "output_type": "display_data"
    },
    {
     "data": {
      "text/html": [
       "<pre>recommendations finished on 80000/107068 queries. users per second: 1713.72</pre>"
      ],
      "text/plain": [
       "recommendations finished on 80000/107068 queries. users per second: 1713.72"
      ]
     },
     "metadata": {},
     "output_type": "display_data"
    },
    {
     "data": {
      "text/html": [
       "<pre>recommendations finished on 81000/107068 queries. users per second: 1715.3</pre>"
      ],
      "text/plain": [
       "recommendations finished on 81000/107068 queries. users per second: 1715.3"
      ]
     },
     "metadata": {},
     "output_type": "display_data"
    },
    {
     "data": {
      "text/html": [
       "<pre>recommendations finished on 82000/107068 queries. users per second: 1716.15</pre>"
      ],
      "text/plain": [
       "recommendations finished on 82000/107068 queries. users per second: 1716.15"
      ]
     },
     "metadata": {},
     "output_type": "display_data"
    },
    {
     "data": {
      "text/html": [
       "<pre>recommendations finished on 83000/107068 queries. users per second: 1717.21</pre>"
      ],
      "text/plain": [
       "recommendations finished on 83000/107068 queries. users per second: 1717.21"
      ]
     },
     "metadata": {},
     "output_type": "display_data"
    },
    {
     "data": {
      "text/html": [
       "<pre>recommendations finished on 84000/107068 queries. users per second: 1717.9</pre>"
      ],
      "text/plain": [
       "recommendations finished on 84000/107068 queries. users per second: 1717.9"
      ]
     },
     "metadata": {},
     "output_type": "display_data"
    },
    {
     "data": {
      "text/html": [
       "<pre>recommendations finished on 85000/107068 queries. users per second: 1718.77</pre>"
      ],
      "text/plain": [
       "recommendations finished on 85000/107068 queries. users per second: 1718.77"
      ]
     },
     "metadata": {},
     "output_type": "display_data"
    },
    {
     "data": {
      "text/html": [
       "<pre>recommendations finished on 86000/107068 queries. users per second: 1714.65</pre>"
      ],
      "text/plain": [
       "recommendations finished on 86000/107068 queries. users per second: 1714.65"
      ]
     },
     "metadata": {},
     "output_type": "display_data"
    },
    {
     "data": {
      "text/html": [
       "<pre>recommendations finished on 87000/107068 queries. users per second: 1715.03</pre>"
      ],
      "text/plain": [
       "recommendations finished on 87000/107068 queries. users per second: 1715.03"
      ]
     },
     "metadata": {},
     "output_type": "display_data"
    },
    {
     "data": {
      "text/html": [
       "<pre>recommendations finished on 88000/107068 queries. users per second: 1715.74</pre>"
      ],
      "text/plain": [
       "recommendations finished on 88000/107068 queries. users per second: 1715.74"
      ]
     },
     "metadata": {},
     "output_type": "display_data"
    },
    {
     "data": {
      "text/html": [
       "<pre>recommendations finished on 89000/107068 queries. users per second: 1714.09</pre>"
      ],
      "text/plain": [
       "recommendations finished on 89000/107068 queries. users per second: 1714.09"
      ]
     },
     "metadata": {},
     "output_type": "display_data"
    },
    {
     "data": {
      "text/html": [
       "<pre>recommendations finished on 90000/107068 queries. users per second: 1712.16</pre>"
      ],
      "text/plain": [
       "recommendations finished on 90000/107068 queries. users per second: 1712.16"
      ]
     },
     "metadata": {},
     "output_type": "display_data"
    },
    {
     "data": {
      "text/html": [
       "<pre>recommendations finished on 91000/107068 queries. users per second: 1712.93</pre>"
      ],
      "text/plain": [
       "recommendations finished on 91000/107068 queries. users per second: 1712.93"
      ]
     },
     "metadata": {},
     "output_type": "display_data"
    },
    {
     "data": {
      "text/html": [
       "<pre>recommendations finished on 92000/107068 queries. users per second: 1713.52</pre>"
      ],
      "text/plain": [
       "recommendations finished on 92000/107068 queries. users per second: 1713.52"
      ]
     },
     "metadata": {},
     "output_type": "display_data"
    },
    {
     "data": {
      "text/html": [
       "<pre>recommendations finished on 93000/107068 queries. users per second: 1712.67</pre>"
      ],
      "text/plain": [
       "recommendations finished on 93000/107068 queries. users per second: 1712.67"
      ]
     },
     "metadata": {},
     "output_type": "display_data"
    },
    {
     "data": {
      "text/html": [
       "<pre>recommendations finished on 94000/107068 queries. users per second: 1713.08</pre>"
      ],
      "text/plain": [
       "recommendations finished on 94000/107068 queries. users per second: 1713.08"
      ]
     },
     "metadata": {},
     "output_type": "display_data"
    },
    {
     "data": {
      "text/html": [
       "<pre>recommendations finished on 95000/107068 queries. users per second: 1713.87</pre>"
      ],
      "text/plain": [
       "recommendations finished on 95000/107068 queries. users per second: 1713.87"
      ]
     },
     "metadata": {},
     "output_type": "display_data"
    },
    {
     "data": {
      "text/html": [
       "<pre>recommendations finished on 96000/107068 queries. users per second: 1715.32</pre>"
      ],
      "text/plain": [
       "recommendations finished on 96000/107068 queries. users per second: 1715.32"
      ]
     },
     "metadata": {},
     "output_type": "display_data"
    },
    {
     "data": {
      "text/html": [
       "<pre>recommendations finished on 97000/107068 queries. users per second: 1716.87</pre>"
      ],
      "text/plain": [
       "recommendations finished on 97000/107068 queries. users per second: 1716.87"
      ]
     },
     "metadata": {},
     "output_type": "display_data"
    },
    {
     "data": {
      "text/html": [
       "<pre>recommendations finished on 98000/107068 queries. users per second: 1718.04</pre>"
      ],
      "text/plain": [
       "recommendations finished on 98000/107068 queries. users per second: 1718.04"
      ]
     },
     "metadata": {},
     "output_type": "display_data"
    },
    {
     "data": {
      "text/html": [
       "<pre>recommendations finished on 99000/107068 queries. users per second: 1718.74</pre>"
      ],
      "text/plain": [
       "recommendations finished on 99000/107068 queries. users per second: 1718.74"
      ]
     },
     "metadata": {},
     "output_type": "display_data"
    },
    {
     "data": {
      "text/html": [
       "<pre>recommendations finished on 100000/107068 queries. users per second: 1720.01</pre>"
      ],
      "text/plain": [
       "recommendations finished on 100000/107068 queries. users per second: 1720.01"
      ]
     },
     "metadata": {},
     "output_type": "display_data"
    },
    {
     "data": {
      "text/html": [
       "<pre>recommendations finished on 101000/107068 queries. users per second: 1721.48</pre>"
      ],
      "text/plain": [
       "recommendations finished on 101000/107068 queries. users per second: 1721.48"
      ]
     },
     "metadata": {},
     "output_type": "display_data"
    },
    {
     "data": {
      "text/html": [
       "<pre>recommendations finished on 102000/107068 queries. users per second: 1720.31</pre>"
      ],
      "text/plain": [
       "recommendations finished on 102000/107068 queries. users per second: 1720.31"
      ]
     },
     "metadata": {},
     "output_type": "display_data"
    },
    {
     "data": {
      "text/html": [
       "<pre>recommendations finished on 103000/107068 queries. users per second: 1721.85</pre>"
      ],
      "text/plain": [
       "recommendations finished on 103000/107068 queries. users per second: 1721.85"
      ]
     },
     "metadata": {},
     "output_type": "display_data"
    },
    {
     "data": {
      "text/html": [
       "<pre>recommendations finished on 104000/107068 queries. users per second: 1722.82</pre>"
      ],
      "text/plain": [
       "recommendations finished on 104000/107068 queries. users per second: 1722.82"
      ]
     },
     "metadata": {},
     "output_type": "display_data"
    },
    {
     "data": {
      "text/html": [
       "<pre>recommendations finished on 105000/107068 queries. users per second: 1723.45</pre>"
      ],
      "text/plain": [
       "recommendations finished on 105000/107068 queries. users per second: 1723.45"
      ]
     },
     "metadata": {},
     "output_type": "display_data"
    },
    {
     "data": {
      "text/html": [
       "<pre>recommendations finished on 106000/107068 queries. users per second: 1720.04</pre>"
      ],
      "text/plain": [
       "recommendations finished on 106000/107068 queries. users per second: 1720.04"
      ]
     },
     "metadata": {},
     "output_type": "display_data"
    },
    {
     "data": {
      "text/html": [
       "<pre>recommendations finished on 107000/107068 queries. users per second: 1706.99</pre>"
      ],
      "text/plain": [
       "recommendations finished on 107000/107068 queries. users per second: 1706.99"
      ]
     },
     "metadata": {},
     "output_type": "display_data"
    }
   ],
   "source": [
    "SIMILARITY = 'cosine'\n",
    "submission = fit_predict(train_data, SIMILARITY, user_id, item_id, target, users_to_recommend, n_rec)"
   ]
  },
  {
   "cell_type": "code",
   "execution_count": 10,
   "metadata": {},
   "outputs": [
    {
     "name": "stdout",
     "output_type": "stream",
     "text": [
      "(107068, 2)\n"
     ]
    },
    {
     "data": {
      "text/html": [
       "<div>\n",
       "<style scoped>\n",
       "    .dataframe tbody tr th:only-of-type {\n",
       "        vertical-align: middle;\n",
       "    }\n",
       "\n",
       "    .dataframe tbody tr th {\n",
       "        vertical-align: top;\n",
       "    }\n",
       "\n",
       "    .dataframe thead th {\n",
       "        text-align: right;\n",
       "    }\n",
       "</style>\n",
       "<table border=\"1\" class=\"dataframe\">\n",
       "  <thead>\n",
       "    <tr style=\"text-align: right;\">\n",
       "      <th></th>\n",
       "      <th>Id</th>\n",
       "      <th>Predicted</th>\n",
       "    </tr>\n",
       "  </thead>\n",
       "  <tbody>\n",
       "    <tr>\n",
       "      <th>0</th>\n",
       "      <td>51</td>\n",
       "      <td>5074743 99474 86371 7342276 27555 5061861 3819...</td>\n",
       "    </tr>\n",
       "    <tr>\n",
       "      <th>1</th>\n",
       "      <td>65</td>\n",
       "      <td>5469728 5479511 94333 55133 100812 69669 54816...</td>\n",
       "    </tr>\n",
       "    <tr>\n",
       "      <th>2</th>\n",
       "      <td>187</td>\n",
       "      <td>88085 88095 7407972 3302679 9220725 88889 8949...</td>\n",
       "    </tr>\n",
       "    <tr>\n",
       "      <th>3</th>\n",
       "      <td>400</td>\n",
       "      <td>709 100789 69669 100849 55133 63072 3817542 34...</td>\n",
       "    </tr>\n",
       "    <tr>\n",
       "      <th>4</th>\n",
       "      <td>576</td>\n",
       "      <td>10526485 10527160 85433 4275615 13577 10527066...</td>\n",
       "    </tr>\n",
       "  </tbody>\n",
       "</table>\n",
       "</div>"
      ],
      "text/plain": [
       "    Id                                          Predicted\n",
       "0   51  5074743 99474 86371 7342276 27555 5061861 3819...\n",
       "1   65  5469728 5479511 94333 55133 100812 69669 54816...\n",
       "2  187  88085 88095 7407972 3302679 9220725 88889 8949...\n",
       "3  400  709 100789 69669 100849 55133 63072 3817542 34...\n",
       "4  576  10526485 10527160 85433 4275615 13577 10527066..."
      ]
     },
     "execution_count": 10,
     "metadata": {},
     "output_type": "execute_result"
    }
   ],
   "source": [
    "submission.head()"
   ]
  },
  {
   "cell_type": "markdown",
   "metadata": {},
   "source": [
    "# Recommend items that user buys frequently"
   ]
  },
  {
   "cell_type": "code",
   "execution_count": 4,
   "metadata": {},
   "outputs": [],
   "source": [
    "is_first = True\n",
    "for i in range(1, 7):\n",
    "    products_folder = f\"sbermarket_tab_2_{i}\"\n",
    "    for file in os.listdir(products_folder):\n",
    "        products_file = os.path.join(products_folder, file)\n",
    "        if is_first:\n",
    "            products = pd.read_csv(products_file, usecols=[\"user_id\", \"product_id\"])\n",
    "            is_first = False\n",
    "        else:\n",
    "            new_products = pd.read_csv(products_file, usecols=[\"user_id\", \"product_id\"])\n",
    "            products = pd.concat([products, new_products])\n",
    "\n",
    "products['dummy'] = 1\n",
    "data = products.groupby([\"user_id\", \"product_id\"]).agg({\"dummy\": \"sum\"})\n",
    "del products\n",
    "data.reset_index(inplace=True)"
   ]
  },
  {
   "cell_type": "code",
   "execution_count": 16,
   "metadata": {},
   "outputs": [
    {
     "data": {
      "text/html": [
       "<div>\n",
       "<style scoped>\n",
       "    .dataframe tbody tr th:only-of-type {\n",
       "        vertical-align: middle;\n",
       "    }\n",
       "\n",
       "    .dataframe tbody tr th {\n",
       "        vertical-align: top;\n",
       "    }\n",
       "\n",
       "    .dataframe thead th {\n",
       "        text-align: right;\n",
       "    }\n",
       "</style>\n",
       "<table border=\"1\" class=\"dataframe\">\n",
       "  <thead>\n",
       "    <tr style=\"text-align: right;\">\n",
       "      <th></th>\n",
       "      <th>user_id</th>\n",
       "      <th>product_id</th>\n",
       "      <th>dummy</th>\n",
       "    </tr>\n",
       "  </thead>\n",
       "  <tbody>\n",
       "    <tr>\n",
       "      <th>567820</th>\n",
       "      <td>56037</td>\n",
       "      <td>0</td>\n",
       "      <td>471</td>\n",
       "    </tr>\n",
       "    <tr>\n",
       "      <th>2759789</th>\n",
       "      <td>222648</td>\n",
       "      <td>3818317</td>\n",
       "      <td>364</td>\n",
       "    </tr>\n",
       "    <tr>\n",
       "      <th>570080</th>\n",
       "      <td>56037</td>\n",
       "      <td>6375406</td>\n",
       "      <td>360</td>\n",
       "    </tr>\n",
       "    <tr>\n",
       "      <th>2759213</th>\n",
       "      <td>222648</td>\n",
       "      <td>709</td>\n",
       "      <td>332</td>\n",
       "    </tr>\n",
       "    <tr>\n",
       "      <th>568229</th>\n",
       "      <td>56037</td>\n",
       "      <td>12565</td>\n",
       "      <td>330</td>\n",
       "    </tr>\n",
       "  </tbody>\n",
       "</table>\n",
       "</div>"
      ],
      "text/plain": [
       "         user_id  product_id  dummy\n",
       "567820     56037           0    471\n",
       "2759789   222648     3818317    364\n",
       "570080     56037     6375406    360\n",
       "2759213   222648         709    332\n",
       "568229     56037       12565    330"
      ]
     },
     "execution_count": 16,
     "metadata": {},
     "output_type": "execute_result"
    }
   ],
   "source": [
    "data2 = data.loc[data.user_id.isin(users_to_recommend)]\n",
    "data3 = data2.sort_values(\"dummy\", ascending=False)\n",
    "data3.head()"
   ]
  },
  {
   "cell_type": "code",
   "execution_count": 24,
   "metadata": {
    "scrolled": true
   },
   "outputs": [
    {
     "data": {
      "text/html": [
       "<div>\n",
       "<style scoped>\n",
       "    .dataframe tbody tr th:only-of-type {\n",
       "        vertical-align: middle;\n",
       "    }\n",
       "\n",
       "    .dataframe tbody tr th {\n",
       "        vertical-align: top;\n",
       "    }\n",
       "\n",
       "    .dataframe thead th {\n",
       "        text-align: right;\n",
       "    }\n",
       "</style>\n",
       "<table border=\"1\" class=\"dataframe\">\n",
       "  <thead>\n",
       "    <tr style=\"text-align: right;\">\n",
       "      <th></th>\n",
       "      <th>user_id</th>\n",
       "      <th>product_id</th>\n",
       "    </tr>\n",
       "  </thead>\n",
       "  <tbody>\n",
       "    <tr>\n",
       "      <th>0</th>\n",
       "      <td>51</td>\n",
       "      <td>14863 63057 19562 3562687 709 9979 661 456 550...</td>\n",
       "    </tr>\n",
       "    <tr>\n",
       "      <th>1</th>\n",
       "      <td>65</td>\n",
       "      <td>54728 18450 3817542 709 26062 18439 105764 771...</td>\n",
       "    </tr>\n",
       "    <tr>\n",
       "      <th>2</th>\n",
       "      <td>187</td>\n",
       "      <td>88084 88086</td>\n",
       "    </tr>\n",
       "    <tr>\n",
       "      <th>3</th>\n",
       "      <td>400</td>\n",
       "      <td>0 813 94333 3817507 57085 61053 55034 26751 38...</td>\n",
       "    </tr>\n",
       "    <tr>\n",
       "      <th>4</th>\n",
       "      <td>576</td>\n",
       "      <td>177 2600 46469 5628 10002 102 4443 5046703 107...</td>\n",
       "    </tr>\n",
       "  </tbody>\n",
       "</table>\n",
       "</div>"
      ],
      "text/plain": [
       "   user_id                                         product_id\n",
       "0       51  14863 63057 19562 3562687 709 9979 661 456 550...\n",
       "1       65  54728 18450 3817542 709 26062 18439 105764 771...\n",
       "2      187                                        88084 88086\n",
       "3      400  0 813 94333 3817507 57085 61053 55034 26751 38...\n",
       "4      576  177 2600 46469 5628 10002 102 4443 5046703 107..."
      ]
     },
     "execution_count": 24,
     "metadata": {},
     "output_type": "execute_result"
    }
   ],
   "source": [
    "data4 = data3.groupby(['user_id'])['product_id'] \\\n",
    "             .apply(lambda x: ' '.join([str(el) for el in x[:min(50, len(x))]])).reset_index()\n",
    "data4.head()"
   ]
  },
  {
   "cell_type": "code",
   "execution_count": null,
   "metadata": {},
   "outputs": [],
   "source": [
    "cosine_dummy_submission = pd.read_csv(\"submission_cosine_dummy.csv\")"
   ]
  },
  {
   "cell_type": "code",
   "execution_count": 25,
   "metadata": {},
   "outputs": [],
   "source": [
    "sub_me = []\n",
    "for idx, row in data4.iterrows():\n",
    "    rec = row['product_id']\n",
    "    user_id = row['user_id']\n",
    "    assert isinstance(rec, str)\n",
    "    assert isinstance(user_id, int)\n",
    "    rec_list = rec.split(' ')\n",
    "    lack = 50 - len(rec_list)\n",
    "    assert lack >= 0\n",
    "    if lack > 0:\n",
    "        cos_rec = cosine_dummy_submission.loc[cosine_dummy_submission['Id'] == user_id].Predicted.item().split(' ')\n",
    "        while lack > 0:\n",
    "            rec_item = cos_rec.pop(0)\n",
    "            if rec_item not in rec_list:\n",
    "                rec_list.append(rec_item)\n",
    "                lack -= 1\n",
    "        rec = ' '.join(rec_list)\n",
    "    sub_me.append(rec)"
   ]
  },
  {
   "cell_type": "code",
   "execution_count": 29,
   "metadata": {},
   "outputs": [
    {
     "data": {
      "text/html": [
       "<div>\n",
       "<style scoped>\n",
       "    .dataframe tbody tr th:only-of-type {\n",
       "        vertical-align: middle;\n",
       "    }\n",
       "\n",
       "    .dataframe tbody tr th {\n",
       "        vertical-align: top;\n",
       "    }\n",
       "\n",
       "    .dataframe thead th {\n",
       "        text-align: right;\n",
       "    }\n",
       "</style>\n",
       "<table border=\"1\" class=\"dataframe\">\n",
       "  <thead>\n",
       "    <tr style=\"text-align: right;\">\n",
       "      <th></th>\n",
       "      <th>Id</th>\n",
       "      <th>Predicted</th>\n",
       "    </tr>\n",
       "  </thead>\n",
       "  <tbody>\n",
       "    <tr>\n",
       "      <th>0</th>\n",
       "      <td>51</td>\n",
       "      <td>14863 63057 19562 3562687 709 9979 661 456 550...</td>\n",
       "    </tr>\n",
       "    <tr>\n",
       "      <th>1</th>\n",
       "      <td>65</td>\n",
       "      <td>54728 18450 3817542 709 26062 18439 105764 771...</td>\n",
       "    </tr>\n",
       "    <tr>\n",
       "      <th>2</th>\n",
       "      <td>187</td>\n",
       "      <td>88084 88086 88085 3302679 88081 9221154 88095 ...</td>\n",
       "    </tr>\n",
       "    <tr>\n",
       "      <th>3</th>\n",
       "      <td>400</td>\n",
       "      <td>0 813 94333 3817507 57085 61053 55034 26751 38...</td>\n",
       "    </tr>\n",
       "    <tr>\n",
       "      <th>4</th>\n",
       "      <td>576</td>\n",
       "      <td>177 2600 46469 5628 10002 102 4443 5046703 107...</td>\n",
       "    </tr>\n",
       "  </tbody>\n",
       "</table>\n",
       "</div>"
      ],
      "text/plain": [
       "    Id                                          Predicted\n",
       "0   51  14863 63057 19562 3562687 709 9979 661 456 550...\n",
       "1   65  54728 18450 3817542 709 26062 18439 105764 771...\n",
       "2  187  88084 88086 88085 3302679 88081 9221154 88095 ...\n",
       "3  400  0 813 94333 3817507 57085 61053 55034 26751 38...\n",
       "4  576  177 2600 46469 5628 10002 102 4443 5046703 107..."
      ]
     },
     "execution_count": 29,
     "metadata": {},
     "output_type": "execute_result"
    }
   ],
   "source": [
    "data5 = data4.copy()\n",
    "data5['product_id'] = sub_me\n",
    "data5.rename(columns={\"user_id\": \"Id\", \"product_id\": \"Predicted\"}, inplace=True)\n",
    "data5.head()"
   ]
  },
  {
   "cell_type": "code",
   "execution_count": 30,
   "metadata": {},
   "outputs": [],
   "source": [
    "data5.to_csv(\"dumb_solution.csv\", index=False)"
   ]
  },
  {
   "cell_type": "markdown",
   "metadata": {},
   "source": [
    "# Some crazy heuristics"
   ]
  },
  {
   "cell_type": "code",
   "execution_count": 70,
   "metadata": {},
   "outputs": [],
   "source": [
    "from collections import defaultdict\n",
    "from tqdm import tqdm\n",
    "from itertools import permutations"
   ]
  },
  {
   "cell_type": "code",
   "execution_count": 39,
   "metadata": {},
   "outputs": [],
   "source": [
    "is_first = True\n",
    "for i in range(1, 7):\n",
    "    products_folder = f\"sbermarket_tab_2_{i}\"\n",
    "    for file in os.listdir(products_folder):\n",
    "        products_file = os.path.join(products_folder, file)\n",
    "        if is_first:\n",
    "            products = pd.read_csv(products_file, usecols=[\"user_id\", \"product_id\", \"order_id\"])\n",
    "            is_first = False\n",
    "        else:\n",
    "            new_products = pd.read_csv(products_file, usecols=[\"user_id\", \"product_id\", \"order_id\"])\n",
    "            products = pd.concat([products, new_products])\n",
    "\n",
    "data = products.loc[products.user_id.isin(users_to_recommend)]\n",
    "del products"
   ]
  },
  {
   "cell_type": "code",
   "execution_count": 57,
   "metadata": {
    "scrolled": true
   },
   "outputs": [],
   "source": [
    "data2 = data.groupby(['user_id', 'order_id'])['product_id'].apply(list).reset_index().groupby('user_id')"
   ]
  },
  {
   "cell_type": "code",
   "execution_count": 69,
   "metadata": {},
   "outputs": [
    {
     "name": "stderr",
     "output_type": "stream",
     "text": [
      "100%|██████████| 107068/107068 [00:45<00:00, 2360.83it/s]\n"
     ]
    }
   ],
   "source": [
    "Ids = []\n",
    "Predictions = []\n",
    "for _, group in tqdm(data2):\n",
    "    Ids.append(group.user_id.iloc[0])\n",
    "    group.sort_values('order_id', ascending=False)\n",
    "    n_orders = group.shape[0]\n",
    "    late_mid_early = []\n",
    "    products_masks = defaultdict(int)\n",
    "    for i in range(3):\n",
    "        if i < n_orders:\n",
    "            for prod_id in group.product_id.iloc[i]:\n",
    "                products_masks[prod_id] += 2**i\n",
    "        else:\n",
    "            break\n",
    "    masks_lists = defaultdict(list)\n",
    "    for prod_id, mask in products_masks.items():\n",
    "        masks_lists[mask].append(prod_id)\n",
    "    Predictions.append(masks_lists)"
   ]
  },
  {
   "cell_type": "code",
   "execution_count": 77,
   "metadata": {
    "scrolled": true
   },
   "outputs": [
    {
     "data": {
      "text/plain": [
       "[(2, 5, 1, 6),\n",
       " (2, 5, 6, 1),\n",
       " (2, 6, 5, 1),\n",
       " (5, 1, 2, 6),\n",
       " (5, 1, 6, 2),\n",
       " (5, 2, 1, 6),\n",
       " (5, 2, 6, 1),\n",
       " (5, 6, 1, 2),\n",
       " (5, 6, 2, 1),\n",
       " (6, 2, 5, 1),\n",
       " (6, 5, 1, 2),\n",
       " (6, 5, 2, 1)]"
      ]
     },
     "execution_count": 77,
     "metadata": {},
     "output_type": "execute_result"
    }
   ],
   "source": [
    "permuts = list(permutations([1, 2, 5, 6]))\n",
    "valid_permuts = [perm for perm in permuts if perm.index(5) < perm.index(1)]\n",
    "valid_permuts"
   ]
  },
  {
   "cell_type": "code",
   "execution_count": 90,
   "metadata": {},
   "outputs": [
    {
     "name": "stderr",
     "output_type": "stream",
     "text": [
      "100%|██████████| 11/11 [05:55<00:00, 32.30s/it]\n"
     ]
    }
   ],
   "source": [
    "for PERM_i in tqdm(range(len(valid_permuts))):\n",
    "    PERM = valid_permuts[PERM_i]\n",
    "\n",
    "    Preds = []\n",
    "    for def_dict in Predictions:\n",
    "        rec = def_dict[7] + def_dict[3]\n",
    "        for mask in PERM:\n",
    "            rec += def_dict[mask]\n",
    "        rec += def_dict[4]\n",
    "        Preds.append(' '.join([str(r) for r in rec]))\n",
    "\n",
    "    sub_perm = pd.DataFrame({'Id': Ids, 'Predicted': Preds})\n",
    "\n",
    "    sub_me = []\n",
    "    for idx, row in sub_perm.iterrows():\n",
    "        rec = row['Predicted']\n",
    "        user_id = row['Id']\n",
    "        assert isinstance(rec, str)\n",
    "        assert isinstance(user_id, int)\n",
    "        rec_list = rec.split(' ')\n",
    "        lack = 50 - len(rec_list)\n",
    "\n",
    "        if lack > 0:\n",
    "            cos_rec = data5.loc[data5['Id'] == user_id].Predicted.item().split(' ')\n",
    "            while lack > 0:\n",
    "                rec_item = cos_rec.pop(0)\n",
    "                if rec_item not in rec_list:\n",
    "                    rec_list.append(rec_item)\n",
    "                    lack -= 1\n",
    "            rec = ' '.join(rec_list)\n",
    "        elif lack < 0:\n",
    "            rec_list = rec_list[:50]\n",
    "            rec = ' '.join(rec_list)\n",
    "        sub_me.append(rec)\n",
    "\n",
    "    sub_perm2 = sub_perm.copy()\n",
    "    sub_perm2.Predicted = sub_me\n",
    "    sub_perm2.to_csv(f\"perm_{PERM_i}.csv\", index=False)"
   ]
  },
  {
   "cell_type": "markdown",
   "metadata": {},
   "source": [
    "# Even more crazy heuristics"
   ]
  },
  {
   "cell_type": "code",
   "execution_count": 121,
   "metadata": {},
   "outputs": [
    {
     "name": "stderr",
     "output_type": "stream",
     "text": [
      "100%|██████████| 107068/107068 [03:44<00:00, 477.83it/s]\n"
     ]
    }
   ],
   "source": [
    "TYPE = 'lin'\n",
    "# TYPE = 'exp'\n",
    "GAMMA = 0.13\n",
    "MIN_WEIGHT = 0.1\n",
    "\n",
    "Ids = []\n",
    "Predictions = []\n",
    "for _, group in tqdm(data2):\n",
    "    Ids.append(group.user_id.iloc[0])\n",
    "    n_orders = group.shape[0]\n",
    "    group.sort_values('order_id', ascending=False, inplace=True)\n",
    "    if TYPE == 'lin':\n",
    "        group['weights'] = [max(1. - i*GAMMA, MIN_WEIGHT) for i in range(n_orders)]\n",
    "    elif TYPE == 'exp':\n",
    "        group['weights'] = [GAMMA ** i for i in range(n_orders)]\n",
    "    \n",
    "    products_scores = defaultdict(float)\n",
    "    for idx, row in group.iterrows():\n",
    "        assert isinstance(row['product_id'], list)\n",
    "        assert isinstance(row['weights'], float)\n",
    "        for prod_id in row['product_id']:\n",
    "            products_scores[prod_id] += row['weights']\n",
    "    rec_list = [itm[0] for itm in\n",
    "                sorted(products_scores.items(), key=lambda item: item[1])][::-1]\n",
    "    \n",
    "    lack = 50 - len(rec_list)\n",
    "    if lack > 0:\n",
    "        cos_rec = data5.loc[data5['Id'] == user_id].Predicted.item().split(' ')\n",
    "        while lack > 0:\n",
    "            rec_item = cos_rec.pop(0)\n",
    "            if rec_item not in rec_list:\n",
    "                rec_list.append(rec_item)\n",
    "                lack -= 1\n",
    "    elif lack < 0:\n",
    "        rec_list = rec_list[:50]\n",
    "    Predictions.append(' '.join([str(r) for r in rec_list]))\n",
    "\n",
    "sub_new_idea = pd.DataFrame({'Id': Ids, 'Predicted': Predictions})\n",
    "sub_new_idea.to_csv(f\"{TYPE}_{str(GAMMA)[2:]}.csv\", index=False)"
   ]
  },
  {
   "cell_type": "code",
   "execution_count": 114,
   "metadata": {
    "scrolled": true
   },
   "outputs": [
    {
     "data": {
      "text/html": [
       "<div>\n",
       "<style scoped>\n",
       "    .dataframe tbody tr th:only-of-type {\n",
       "        vertical-align: middle;\n",
       "    }\n",
       "\n",
       "    .dataframe tbody tr th {\n",
       "        vertical-align: top;\n",
       "    }\n",
       "\n",
       "    .dataframe thead th {\n",
       "        text-align: right;\n",
       "    }\n",
       "</style>\n",
       "<table border=\"1\" class=\"dataframe\">\n",
       "  <thead>\n",
       "    <tr style=\"text-align: right;\">\n",
       "      <th></th>\n",
       "      <th>Id</th>\n",
       "      <th>Predicted</th>\n",
       "    </tr>\n",
       "  </thead>\n",
       "  <tbody>\n",
       "    <tr>\n",
       "      <th>0</th>\n",
       "      <td>51</td>\n",
       "      <td>14863 709 19562 63057 3562687 3817489 54710 26...</td>\n",
       "    </tr>\n",
       "    <tr>\n",
       "      <th>1</th>\n",
       "      <td>65</td>\n",
       "      <td>3817542 54728 709 18439 26062 105764 5639 1845...</td>\n",
       "    </tr>\n",
       "    <tr>\n",
       "      <th>2</th>\n",
       "      <td>187</td>\n",
       "      <td>88086 88084 9741 63762 63763 63760 67694 68465...</td>\n",
       "    </tr>\n",
       "    <tr>\n",
       "      <th>3</th>\n",
       "      <td>400</td>\n",
       "      <td>3817507 94333 813 0 5481691 6565232 61053 5503...</td>\n",
       "    </tr>\n",
       "    <tr>\n",
       "      <th>4</th>\n",
       "      <td>576</td>\n",
       "      <td>177 2600 5046703 7103983 46469 14007 102 4443 ...</td>\n",
       "    </tr>\n",
       "  </tbody>\n",
       "</table>\n",
       "</div>"
      ],
      "text/plain": [
       "    Id                                          Predicted\n",
       "0   51  14863 709 19562 63057 3562687 3817489 54710 26...\n",
       "1   65  3817542 54728 709 18439 26062 105764 5639 1845...\n",
       "2  187  88086 88084 9741 63762 63763 63760 67694 68465...\n",
       "3  400  3817507 94333 813 0 5481691 6565232 61053 5503...\n",
       "4  576  177 2600 5046703 7103983 46469 14007 102 4443 ..."
      ]
     },
     "execution_count": 114,
     "metadata": {},
     "output_type": "execute_result"
    }
   ],
   "source": [
    "sub_new_idea.head()"
   ]
  },
  {
   "cell_type": "markdown",
   "metadata": {},
   "source": [
    "### Check"
   ]
  },
  {
   "cell_type": "code",
   "execution_count": 103,
   "metadata": {
    "scrolled": true
   },
   "outputs": [
    {
     "data": {
      "text/html": [
       "<div>\n",
       "<style scoped>\n",
       "    .dataframe tbody tr th:only-of-type {\n",
       "        vertical-align: middle;\n",
       "    }\n",
       "\n",
       "    .dataframe tbody tr th {\n",
       "        vertical-align: top;\n",
       "    }\n",
       "\n",
       "    .dataframe thead th {\n",
       "        text-align: right;\n",
       "    }\n",
       "</style>\n",
       "<table border=\"1\" class=\"dataframe\">\n",
       "  <thead>\n",
       "    <tr style=\"text-align: right;\">\n",
       "      <th></th>\n",
       "      <th>user_id</th>\n",
       "      <th>order_id</th>\n",
       "      <th>product_id</th>\n",
       "    </tr>\n",
       "  </thead>\n",
       "  <tbody>\n",
       "    <tr>\n",
       "      <th>0</th>\n",
       "      <td>1</td>\n",
       "      <td>1</td>\n",
       "      <td>7</td>\n",
       "    </tr>\n",
       "    <tr>\n",
       "      <th>1</th>\n",
       "      <td>1</td>\n",
       "      <td>3</td>\n",
       "      <td>7</td>\n",
       "    </tr>\n",
       "    <tr>\n",
       "      <th>2</th>\n",
       "      <td>1</td>\n",
       "      <td>3</td>\n",
       "      <td>3</td>\n",
       "    </tr>\n",
       "    <tr>\n",
       "      <th>3</th>\n",
       "      <td>1</td>\n",
       "      <td>1</td>\n",
       "      <td>2</td>\n",
       "    </tr>\n",
       "    <tr>\n",
       "      <th>4</th>\n",
       "      <td>2</td>\n",
       "      <td>2</td>\n",
       "      <td>4</td>\n",
       "    </tr>\n",
       "    <tr>\n",
       "      <th>5</th>\n",
       "      <td>2</td>\n",
       "      <td>2</td>\n",
       "      <td>5</td>\n",
       "    </tr>\n",
       "    <tr>\n",
       "      <th>6</th>\n",
       "      <td>2</td>\n",
       "      <td>4</td>\n",
       "      <td>4</td>\n",
       "    </tr>\n",
       "    <tr>\n",
       "      <th>7</th>\n",
       "      <td>2</td>\n",
       "      <td>2</td>\n",
       "      <td>1</td>\n",
       "    </tr>\n",
       "  </tbody>\n",
       "</table>\n",
       "</div>"
      ],
      "text/plain": [
       "   user_id  order_id  product_id\n",
       "0        1         1           7\n",
       "1        1         3           7\n",
       "2        1         3           3\n",
       "3        1         1           2\n",
       "4        2         2           4\n",
       "5        2         2           5\n",
       "6        2         4           4\n",
       "7        2         2           1"
      ]
     },
     "execution_count": 103,
     "metadata": {},
     "output_type": "execute_result"
    }
   ],
   "source": [
    "df = pd.DataFrame({'user_id':    [1, 1, 1, 1, 2, 2, 2, 2],\n",
    "                   'order_id':   [1, 3, 3, 1, 2, 2, 4, 2],\n",
    "                   'product_id': [7, 7, 3, 2, 4, 5, 4, 1]})\n",
    "df"
   ]
  },
  {
   "cell_type": "code",
   "execution_count": 104,
   "metadata": {},
   "outputs": [],
   "source": [
    "df2 = df.groupby(['user_id', 'order_id'])['product_id'].apply(list).reset_index().groupby('user_id')"
   ]
  },
  {
   "cell_type": "code",
   "execution_count": 111,
   "metadata": {},
   "outputs": [
    {
     "name": "stderr",
     "output_type": "stream",
     "text": [
      "100%|██████████| 2/2 [00:00<00:00, 199.98it/s]"
     ]
    },
    {
     "name": "stdout",
     "output_type": "stream",
     "text": [
      "   user_id  order_id product_id  weights\n",
      "1        1         3     [7, 3]      1.0\n",
      "0        1         1     [7, 2]      0.9\n",
      "   user_id  order_id product_id  weights\n",
      "3        2         4        [4]      1.0\n",
      "2        2         2  [4, 5, 1]      0.9\n"
     ]
    },
    {
     "name": "stderr",
     "output_type": "stream",
     "text": [
      "\n"
     ]
    }
   ],
   "source": [
    "GAMMA = 0.1\n",
    "MIN_WEIGHT = 0.1\n",
    "\n",
    "Ids = []\n",
    "Predictions = []\n",
    "for _, group in tqdm(df2):\n",
    "    Ids.append(group.user_id.iloc[0])\n",
    "    n_orders = group.shape[0]\n",
    "    group.sort_values('order_id', ascending=False, inplace=True)\n",
    "    group['weights'] = [max(1. - i*GAMMA, MIN_WEIGHT) for i in range(n_orders)]\n",
    "    print(group)\n",
    "    \n",
    "    products_scores = defaultdict(float)\n",
    "    for idx, row in group.iterrows():\n",
    "        assert isinstance(row['product_id'], list)\n",
    "        assert isinstance(row['weights'], float)\n",
    "        for prod_id in row['product_id']:\n",
    "            products_scores[prod_id] += row['weights']\n",
    "    rec_list = [itm[0] for itm in\n",
    "                sorted(products_scores.items(), key=lambda item: item[1])][::-1]\n",
    "    Predictions.append(' '.join([str(r) for r in rec_list]))"
   ]
  },
  {
   "cell_type": "code",
   "execution_count": 112,
   "metadata": {},
   "outputs": [
    {
     "data": {
      "text/html": [
       "<div>\n",
       "<style scoped>\n",
       "    .dataframe tbody tr th:only-of-type {\n",
       "        vertical-align: middle;\n",
       "    }\n",
       "\n",
       "    .dataframe tbody tr th {\n",
       "        vertical-align: top;\n",
       "    }\n",
       "\n",
       "    .dataframe thead th {\n",
       "        text-align: right;\n",
       "    }\n",
       "</style>\n",
       "<table border=\"1\" class=\"dataframe\">\n",
       "  <thead>\n",
       "    <tr style=\"text-align: right;\">\n",
       "      <th></th>\n",
       "      <th>Id</th>\n",
       "      <th>Predicted</th>\n",
       "    </tr>\n",
       "  </thead>\n",
       "  <tbody>\n",
       "    <tr>\n",
       "      <th>0</th>\n",
       "      <td>1</td>\n",
       "      <td>7 3 2</td>\n",
       "    </tr>\n",
       "    <tr>\n",
       "      <th>1</th>\n",
       "      <td>2</td>\n",
       "      <td>4 1 5</td>\n",
       "    </tr>\n",
       "  </tbody>\n",
       "</table>\n",
       "</div>"
      ],
      "text/plain": [
       "   Id Predicted\n",
       "0   1     7 3 2\n",
       "1   2     4 1 5"
      ]
     },
     "execution_count": 112,
     "metadata": {},
     "output_type": "execute_result"
    }
   ],
   "source": [
    "sub_new_df = pd.DataFrame({'Id': Ids, 'Predicted': Predictions})\n",
    "sub_new_df"
   ]
  },
  {
   "cell_type": "code",
   "execution_count": null,
   "metadata": {},
   "outputs": [],
   "source": []
  }
 ],
 "metadata": {
  "kernelspec": {
   "display_name": "Python 3",
   "language": "python",
   "name": "python3"
  },
  "language_info": {
   "codemirror_mode": {
    "name": "ipython",
    "version": 3
   },
   "file_extension": ".py",
   "mimetype": "text/x-python",
   "name": "python",
   "nbconvert_exporter": "python",
   "pygments_lexer": "ipython3",
   "version": "3.7.9"
  }
 },
 "nbformat": 4,
 "nbformat_minor": 4
}
