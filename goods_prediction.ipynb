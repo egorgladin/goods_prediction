{
 "cells": [
  {
   "cell_type": "code",
   "execution_count": 1,
   "metadata": {},
   "outputs": [],
   "source": [
    "# %load_ext autoreload\n",
    "# %autoreload 2\n",
    "\n",
    "import pandas as pd\n",
    "import numpy as np\n",
    "import time\n",
    "import turicreate as tc\n",
    "from sklearn.model_selection import train_test_split\n",
    "\n",
    "import os\n",
    "import sys\n",
    "# sys.path.append(\"..\")"
   ]
  },
  {
   "cell_type": "code",
   "execution_count": 2,
   "metadata": {},
   "outputs": [
    {
     "name": "stderr",
     "output_type": "stream",
     "text": [
      "/home/egor/.local/lib/python3.7/site-packages/numpy/lib/arraysetops.py:580: FutureWarning: elementwise comparison failed; returning scalar instead, but in the future will perform elementwise comparison\n",
      "  mask |= (ar1 == a)\n"
     ]
    },
    {
     "name": "stdout",
     "output_type": "stream",
     "text": [
      "Size  of the dataframe is 1.4 GB\n",
      "Shape of the dataframe is (46194236, 3)\n"
     ]
    }
   ],
   "source": [
    "PROCESS_DATA = False\n",
    "\n",
    "if PROCESS_DATA:\n",
    "    is_first = True\n",
    "    for i in range(1, 7):\n",
    "        products_folder = f\"sbermarket_tab_2_{i}\"\n",
    "        for file in os.listdir(products_folder):\n",
    "            products_file = os.path.join(products_folder, file)\n",
    "            if is_first:\n",
    "                products = pd.read_csv(products_file, usecols=[\"user_id\", \"product_id\", \"quantity\"])\n",
    "                is_first = False\n",
    "            else:\n",
    "                new_products = pd.read_csv(products_file, usecols=[\"user_id\", \"product_id\", \"quantity\"])\n",
    "                products = pd.concat([products, new_products])\n",
    "\n",
    "    products.rename(columns={\"quantity\": \"purchase_count\",\n",
    "                             \"user_id\": \"customerId\",\n",
    "                             \"product_id\": \"productId\"}, inplace=True)\n",
    "\n",
    "    data = products.groupby([\"customerId\", \"productId\"]).agg({\"purchase_count\": \"sum\"})\n",
    "    del products\n",
    "    data.reset_index(inplace=True)\n",
    "    data.to_csv(\"data.csv\")\n",
    "    del data\n",
    "\n",
    "else:\n",
    "    data = pd.read_csv(\"data.csv\", index_col=0)\n",
    "    print(f\"Size  of the dataframe is {sys.getsizeof(data) / 1024**3:.1f} GB\")\n",
    "    print(f\"Shape of the dataframe is {data.shape}\")"
   ]
  },
  {
   "cell_type": "code",
   "execution_count": 3,
   "metadata": {
    "scrolled": true
   },
   "outputs": [
    {
     "data": {
      "text/html": [
       "<div>\n",
       "<style scoped>\n",
       "    .dataframe tbody tr th:only-of-type {\n",
       "        vertical-align: middle;\n",
       "    }\n",
       "\n",
       "    .dataframe tbody tr th {\n",
       "        vertical-align: top;\n",
       "    }\n",
       "\n",
       "    .dataframe thead th {\n",
       "        text-align: right;\n",
       "    }\n",
       "</style>\n",
       "<table border=\"1\" class=\"dataframe\">\n",
       "  <thead>\n",
       "    <tr style=\"text-align: right;\">\n",
       "      <th></th>\n",
       "      <th>customerId</th>\n",
       "      <th>productId</th>\n",
       "      <th>purchase_count</th>\n",
       "    </tr>\n",
       "  </thead>\n",
       "  <tbody>\n",
       "    <tr>\n",
       "      <th>0</th>\n",
       "      <td>51</td>\n",
       "      <td>0</td>\n",
       "      <td>9</td>\n",
       "    </tr>\n",
       "    <tr>\n",
       "      <th>1</th>\n",
       "      <td>51</td>\n",
       "      <td>159</td>\n",
       "      <td>1</td>\n",
       "    </tr>\n",
       "    <tr>\n",
       "      <th>2</th>\n",
       "      <td>51</td>\n",
       "      <td>397</td>\n",
       "      <td>2</td>\n",
       "    </tr>\n",
       "    <tr>\n",
       "      <th>3</th>\n",
       "      <td>51</td>\n",
       "      <td>407</td>\n",
       "      <td>16</td>\n",
       "    </tr>\n",
       "    <tr>\n",
       "      <th>4</th>\n",
       "      <td>51</td>\n",
       "      <td>456</td>\n",
       "      <td>20</td>\n",
       "    </tr>\n",
       "  </tbody>\n",
       "</table>\n",
       "</div>"
      ],
      "text/plain": [
       "   customerId  productId  purchase_count\n",
       "0          51          0               9\n",
       "1          51        159               1\n",
       "2          51        397               2\n",
       "3          51        407              16\n",
       "4          51        456              20"
      ]
     },
     "execution_count": 3,
     "metadata": {},
     "output_type": "execute_result"
    }
   ],
   "source": [
    "data.head()"
   ]
  },
  {
   "cell_type": "code",
   "execution_count": 4,
   "metadata": {},
   "outputs": [],
   "source": [
    "sample_submission = \"sample_submission.csv\"\n",
    "customers = pd.read_csv(sample_submission, usecols=[\"Id\"])\n",
    "users_to_recommend = customers.Id.tolist()\n",
    "\n",
    "user_id = 'customerId'\n",
    "item_id = 'productId'\n",
    "n_rec = 50 # number of items to recommend"
   ]
  },
  {
   "cell_type": "code",
   "execution_count": 5,
   "metadata": {},
   "outputs": [],
   "source": [
    "FREQ_TYPE = 'dummy'\n",
    "SIMILARITY = 'cosine'\n",
    "\n",
    "if FREQ_TYPE == 'dummy':\n",
    "    target = 'purchase_dummy'\n",
    "    data['purchase_dummy'] = 1\n",
    "elif FREQ_TYPE == 'rel_freq':\n",
    "    target = 'scaled_purchase_freq'\n",
    "    data[\"max_count_prod\"] = data.groupby('productId')[\"purchase_count\"].transform('max')\n",
    "    data[\"scaled_purchase_freq\"] = data[\"purchase_count\"] / data[\"max_count_prod\"]\n",
    "    data.drop(columns=['max_count_prod', 'purchase_count'], inplace=True)\n",
    "else:\n",
    "    target = 'purchase_count'\n",
    "\n",
    "train_data = tc.SFrame(data)\n",
    "del data"
   ]
  },
  {
   "cell_type": "code",
   "execution_count": 6,
   "metadata": {},
   "outputs": [],
   "source": [
    "def create_output(df_rec, name):\n",
    "    df_rec['Predicted'] = df_rec.groupby([user_id])[item_id] \\\n",
    "        .transform(lambda x: ' '.join(x.astype(str)))\n",
    "    df_rec.rename(columns={\"customerId\": \"Id\"}, inplace=True)\n",
    "    df_output = df_rec[['Id', 'Predicted']].drop_duplicates() \\\n",
    "        .sort_values('Id').set_index('Id')\n",
    "    df_output.to_csv(f'submission_{name}_{FREQ_TYPE}.csv')\n",
    "    return df_output\n",
    "\n",
    "def fit_predict(train_data, name, user_id, item_id, target, users_to_recommend, n_rec):\n",
    "    if name == 'popularity':\n",
    "        model = tc.popularity_recommender.create(train_data, \n",
    "                                                    user_id=user_id, \n",
    "                                                    item_id=item_id, \n",
    "                                                    target=target)\n",
    "    elif name == 'cosine':\n",
    "        model = tc.item_similarity_recommender.create(train_data, \n",
    "                                                    user_id=user_id, \n",
    "                                                    item_id=item_id, \n",
    "                                                    target=target, \n",
    "                                                    similarity_type='cosine')\n",
    "    elif name == 'pearson':\n",
    "        model = tc.item_similarity_recommender.create(train_data, \n",
    "                                                    user_id=user_id, \n",
    "                                                    item_id=item_id, \n",
    "                                                    target=target, \n",
    "                                                    similarity_type='pearson')\n",
    "        \n",
    "    recom = model.recommend(users=users_to_recommend, k=n_rec).to_dataframe()\n",
    "    return create_output(recom, name)"
   ]
  },
  {
   "cell_type": "code",
   "execution_count": 7,
   "metadata": {},
   "outputs": [
    {
     "data": {
      "text/html": [
       "<pre>Warning: Ignoring columns purchase_count;</pre>"
      ],
      "text/plain": [
       "Warning: Ignoring columns purchase_count;"
      ]
     },
     "metadata": {},
     "output_type": "display_data"
    },
    {
     "data": {
      "text/html": [
       "<pre>    To use these columns in scoring predictions, use a model that allows the use of additional features.</pre>"
      ],
      "text/plain": [
       "    To use these columns in scoring predictions, use a model that allows the use of additional features."
      ]
     },
     "metadata": {},
     "output_type": "display_data"
    },
    {
     "data": {
      "text/html": [
       "<pre>Preparing data set.</pre>"
      ],
      "text/plain": [
       "Preparing data set."
      ]
     },
     "metadata": {},
     "output_type": "display_data"
    },
    {
     "data": {
      "text/html": [
       "<pre>    Data has 46194236 observations with 657502 users and 95002 items.</pre>"
      ],
      "text/plain": [
       "    Data has 46194236 observations with 657502 users and 95002 items."
      ]
     },
     "metadata": {},
     "output_type": "display_data"
    },
    {
     "data": {
      "text/html": [
       "<pre>    Data prepared in: 16.3944s</pre>"
      ],
      "text/plain": [
       "    Data prepared in: 16.3944s"
      ]
     },
     "metadata": {},
     "output_type": "display_data"
    },
    {
     "data": {
      "text/html": [
       "<pre>Training model from provided data.</pre>"
      ],
      "text/plain": [
       "Training model from provided data."
      ]
     },
     "metadata": {},
     "output_type": "display_data"
    },
    {
     "data": {
      "text/html": [
       "<pre>Gathering per-item and per-user statistics.</pre>"
      ],
      "text/plain": [
       "Gathering per-item and per-user statistics."
      ]
     },
     "metadata": {},
     "output_type": "display_data"
    },
    {
     "data": {
      "text/html": [
       "<pre>+--------------------------------+------------+</pre>"
      ],
      "text/plain": [
       "+--------------------------------+------------+"
      ]
     },
     "metadata": {},
     "output_type": "display_data"
    },
    {
     "data": {
      "text/html": [
       "<pre>| Elapsed Time (Item Statistics) | % Complete |</pre>"
      ],
      "text/plain": [
       "| Elapsed Time (Item Statistics) | % Complete |"
      ]
     },
     "metadata": {},
     "output_type": "display_data"
    },
    {
     "data": {
      "text/html": [
       "<pre>+--------------------------------+------------+</pre>"
      ],
      "text/plain": [
       "+--------------------------------+------------+"
      ]
     },
     "metadata": {},
     "output_type": "display_data"
    },
    {
     "data": {
      "text/html": [
       "<pre>| 8.59ms                         | 0          |</pre>"
      ],
      "text/plain": [
       "| 8.59ms                         | 0          |"
      ]
     },
     "metadata": {},
     "output_type": "display_data"
    },
    {
     "data": {
      "text/html": [
       "<pre>| 609.196ms                      | 100        |</pre>"
      ],
      "text/plain": [
       "| 609.196ms                      | 100        |"
      ]
     },
     "metadata": {},
     "output_type": "display_data"
    },
    {
     "data": {
      "text/html": [
       "<pre>+--------------------------------+------------+</pre>"
      ],
      "text/plain": [
       "+--------------------------------+------------+"
      ]
     },
     "metadata": {},
     "output_type": "display_data"
    },
    {
     "data": {
      "text/html": [
       "<pre>Setting up lookup tables.</pre>"
      ],
      "text/plain": [
       "Setting up lookup tables."
      ]
     },
     "metadata": {},
     "output_type": "display_data"
    },
    {
     "data": {
      "text/html": [
       "<pre>Processing the 98 most common items by brute force search.</pre>"
      ],
      "text/plain": [
       "Processing the 98 most common items by brute force search."
      ]
     },
     "metadata": {},
     "output_type": "display_data"
    },
    {
     "data": {
      "text/html": [
       "<pre>Transposing user-item lists for use in nearest neighbor search.</pre>"
      ],
      "text/plain": [
       "Transposing user-item lists for use in nearest neighbor search."
      ]
     },
     "metadata": {},
     "output_type": "display_data"
    },
    {
     "data": {
      "text/html": [
       "<pre>+------------------------------------+------------+</pre>"
      ],
      "text/plain": [
       "+------------------------------------+------------+"
      ]
     },
     "metadata": {},
     "output_type": "display_data"
    },
    {
     "data": {
      "text/html": [
       "<pre>| Elapsed Time (Data Transposition)) | % Complete |</pre>"
      ],
      "text/plain": [
       "| Elapsed Time (Data Transposition)) | % Complete |"
      ]
     },
     "metadata": {},
     "output_type": "display_data"
    },
    {
     "data": {
      "text/html": [
       "<pre>+------------------------------------+------------+</pre>"
      ],
      "text/plain": [
       "+------------------------------------+------------+"
      ]
     },
     "metadata": {},
     "output_type": "display_data"
    },
    {
     "data": {
      "text/html": [
       "<pre>| 262.243ms                          | 0          |</pre>"
      ],
      "text/plain": [
       "| 262.243ms                          | 0          |"
      ]
     },
     "metadata": {},
     "output_type": "display_data"
    },
    {
     "data": {
      "text/html": [
       "<pre>| 2.14s                              | 100        |</pre>"
      ],
      "text/plain": [
       "| 2.14s                              | 100        |"
      ]
     },
     "metadata": {},
     "output_type": "display_data"
    },
    {
     "data": {
      "text/html": [
       "<pre>+------------------------------------+------------+</pre>"
      ],
      "text/plain": [
       "+------------------------------------+------------+"
      ]
     },
     "metadata": {},
     "output_type": "display_data"
    },
    {
     "data": {
      "text/html": [
       "<pre>+-------------------------------------+------------------+-----------------+</pre>"
      ],
      "text/plain": [
       "+-------------------------------------+------------------+-----------------+"
      ]
     },
     "metadata": {},
     "output_type": "display_data"
    },
    {
     "data": {
      "text/html": [
       "<pre>| Elapsed Time (Constructing Lookups) | Total % Complete | Items Processed |</pre>"
      ],
      "text/plain": [
       "| Elapsed Time (Constructing Lookups) | Total % Complete | Items Processed |"
      ]
     },
     "metadata": {},
     "output_type": "display_data"
    },
    {
     "data": {
      "text/html": [
       "<pre>+-------------------------------------+------------------+-----------------+</pre>"
      ],
      "text/plain": [
       "+-------------------------------------+------------------+-----------------+"
      ]
     },
     "metadata": {},
     "output_type": "display_data"
    },
    {
     "data": {
      "text/html": [
       "<pre>| 3.13s                               | 0                | 0               |</pre>"
      ],
      "text/plain": [
       "| 3.13s                               | 0                | 0               |"
      ]
     },
     "metadata": {},
     "output_type": "display_data"
    },
    {
     "data": {
      "text/html": [
       "<pre>| 6.13s                               | 0                | 74              |</pre>"
      ],
      "text/plain": [
       "| 6.13s                               | 0                | 74              |"
      ]
     },
     "metadata": {},
     "output_type": "display_data"
    },
    {
     "data": {
      "text/html": [
       "<pre>| 9.13s                               | 0                | 85              |</pre>"
      ],
      "text/plain": [
       "| 9.13s                               | 0                | 85              |"
      ]
     },
     "metadata": {},
     "output_type": "display_data"
    },
    {
     "data": {
      "text/html": [
       "<pre>| 12.15s                              | 0                | 88              |</pre>"
      ],
      "text/plain": [
       "| 12.15s                              | 0                | 88              |"
      ]
     },
     "metadata": {},
     "output_type": "display_data"
    },
    {
     "data": {
      "text/html": [
       "<pre>| 15.13s                              | 0                | 91              |</pre>"
      ],
      "text/plain": [
       "| 15.13s                              | 0                | 91              |"
      ]
     },
     "metadata": {},
     "output_type": "display_data"
    },
    {
     "data": {
      "text/html": [
       "<pre>| 18.13s                              | 0                | 93              |</pre>"
      ],
      "text/plain": [
       "| 18.13s                              | 0                | 93              |"
      ]
     },
     "metadata": {},
     "output_type": "display_data"
    },
    {
     "data": {
      "text/html": [
       "<pre>| 21.13s                              | 0                | 97              |</pre>"
      ],
      "text/plain": [
       "| 21.13s                              | 0                | 97              |"
      ]
     },
     "metadata": {},
     "output_type": "display_data"
    },
    {
     "data": {
      "text/html": [
       "<pre>+-------------------------------------+------------------+-----------------+</pre>"
      ],
      "text/plain": [
       "+-------------------------------------+------------------+-----------------+"
      ]
     },
     "metadata": {},
     "output_type": "display_data"
    },
    {
     "data": {
      "text/html": [
       "<pre>Processing data in 5 passes using dense lookup tables.</pre>"
      ],
      "text/plain": [
       "Processing data in 5 passes using dense lookup tables."
      ]
     },
     "metadata": {},
     "output_type": "display_data"
    },
    {
     "data": {
      "text/html": [
       "<pre>+-------------------------------------+------------------+-----------------+</pre>"
      ],
      "text/plain": [
       "+-------------------------------------+------------------+-----------------+"
      ]
     },
     "metadata": {},
     "output_type": "display_data"
    },
    {
     "data": {
      "text/html": [
       "<pre>| Elapsed Time (Constructing Lookups) | Total % Complete | Items Processed |</pre>"
      ],
      "text/plain": [
       "| Elapsed Time (Constructing Lookups) | Total % Complete | Items Processed |"
      ]
     },
     "metadata": {},
     "output_type": "display_data"
    },
    {
     "data": {
      "text/html": [
       "<pre>+-------------------------------------+------------------+-----------------+</pre>"
      ],
      "text/plain": [
       "+-------------------------------------+------------------+-----------------+"
      ]
     },
     "metadata": {},
     "output_type": "display_data"
    },
    {
     "data": {
      "text/html": [
       "<pre>| 24.72s                              | 0                | 98              |</pre>"
      ],
      "text/plain": [
       "| 24.72s                              | 0                | 98              |"
      ]
     },
     "metadata": {},
     "output_type": "display_data"
    },
    {
     "data": {
      "text/html": [
       "<pre>| 27.13s                              | 1.25             | 1347            |</pre>"
      ],
      "text/plain": [
       "| 27.13s                              | 1.25             | 1347            |"
      ]
     },
     "metadata": {},
     "output_type": "display_data"
    },
    {
     "data": {
      "text/html": [
       "<pre>| 30.13s                              | 3                | 2868            |</pre>"
      ],
      "text/plain": [
       "| 30.13s                              | 3                | 2868            |"
      ]
     },
     "metadata": {},
     "output_type": "display_data"
    },
    {
     "data": {
      "text/html": [
       "<pre>| 33.13s                              | 4.5              | 4380            |</pre>"
      ],
      "text/plain": [
       "| 33.13s                              | 4.5              | 4380            |"
      ]
     },
     "metadata": {},
     "output_type": "display_data"
    },
    {
     "data": {
      "text/html": [
       "<pre>| 36.13s                              | 6                | 5853            |</pre>"
      ],
      "text/plain": [
       "| 36.13s                              | 6                | 5853            |"
      ]
     },
     "metadata": {},
     "output_type": "display_data"
    },
    {
     "data": {
      "text/html": [
       "<pre>| 39.13s                              | 7.5              | 7297            |</pre>"
      ],
      "text/plain": [
       "| 39.13s                              | 7.5              | 7297            |"
      ]
     },
     "metadata": {},
     "output_type": "display_data"
    },
    {
     "data": {
      "text/html": [
       "<pre>| 42.14s                              | 9                | 8748            |</pre>"
      ],
      "text/plain": [
       "| 42.14s                              | 9                | 8748            |"
      ]
     },
     "metadata": {},
     "output_type": "display_data"
    },
    {
     "data": {
      "text/html": [
       "<pre>| 45.14s                              | 10.5             | 10200           |</pre>"
      ],
      "text/plain": [
       "| 45.14s                              | 10.5             | 10200           |"
      ]
     },
     "metadata": {},
     "output_type": "display_data"
    },
    {
     "data": {
      "text/html": [
       "<pre>| 48.14s                              | 12.25            | 11663           |</pre>"
      ],
      "text/plain": [
       "| 48.14s                              | 12.25            | 11663           |"
      ]
     },
     "metadata": {},
     "output_type": "display_data"
    },
    {
     "data": {
      "text/html": [
       "<pre>| 51.14s                              | 13.75            | 13127           |</pre>"
      ],
      "text/plain": [
       "| 51.14s                              | 13.75            | 13127           |"
      ]
     },
     "metadata": {},
     "output_type": "display_data"
    },
    {
     "data": {
      "text/html": [
       "<pre>| 54.14s                              | 15.25            | 14583           |</pre>"
      ],
      "text/plain": [
       "| 54.14s                              | 15.25            | 14583           |"
      ]
     },
     "metadata": {},
     "output_type": "display_data"
    },
    {
     "data": {
      "text/html": [
       "<pre>| 57.14s                              | 16.75            | 16041           |</pre>"
      ],
      "text/plain": [
       "| 57.14s                              | 16.75            | 16041           |"
      ]
     },
     "metadata": {},
     "output_type": "display_data"
    },
    {
     "data": {
      "text/html": [
       "<pre>| 1m 0s                               | 18.25            | 17502           |</pre>"
      ],
      "text/plain": [
       "| 1m 0s                               | 18.25            | 17502           |"
      ]
     },
     "metadata": {},
     "output_type": "display_data"
    },
    {
     "data": {
      "text/html": [
       "<pre>| 1m 3s                               | 19.75            | 18960           |</pre>"
      ],
      "text/plain": [
       "| 1m 3s                               | 19.75            | 18960           |"
      ]
     },
     "metadata": {},
     "output_type": "display_data"
    },
    {
     "data": {
      "text/html": [
       "<pre>| 1m 14s                              | 20               | 19056           |</pre>"
      ],
      "text/plain": [
       "| 1m 14s                              | 20               | 19056           |"
      ]
     },
     "metadata": {},
     "output_type": "display_data"
    },
    {
     "data": {
      "text/html": [
       "<pre>| 1m 17s                              | 29               | 27599           |</pre>"
      ],
      "text/plain": [
       "| 1m 17s                              | 29               | 27599           |"
      ]
     },
     "metadata": {},
     "output_type": "display_data"
    },
    {
     "data": {
      "text/html": [
       "<pre>| 1m 20s                              | 37.5             | 35654           |</pre>"
      ],
      "text/plain": [
       "| 1m 20s                              | 37.5             | 35654           |"
      ]
     },
     "metadata": {},
     "output_type": "display_data"
    },
    {
     "data": {
      "text/html": [
       "<pre>| 1m 31s                              | 40               | 38013           |</pre>"
      ],
      "text/plain": [
       "| 1m 31s                              | 40               | 38013           |"
      ]
     },
     "metadata": {},
     "output_type": "display_data"
    },
    {
     "data": {
      "text/html": [
       "<pre>| 1m 42s                              | 59.75            | 56971           |</pre>"
      ],
      "text/plain": [
       "| 1m 42s                              | 59.75            | 56971           |"
      ]
     },
     "metadata": {},
     "output_type": "display_data"
    },
    {
     "data": {
      "text/html": [
       "<pre>| 1m 52s                              | 79.75            | 75929           |</pre>"
      ],
      "text/plain": [
       "| 1m 52s                              | 79.75            | 75929           |"
      ]
     },
     "metadata": {},
     "output_type": "display_data"
    },
    {
     "data": {
      "text/html": [
       "<pre>| 1m 54s                              | 100              | 95002           |</pre>"
      ],
      "text/plain": [
       "| 1m 54s                              | 100              | 95002           |"
      ]
     },
     "metadata": {},
     "output_type": "display_data"
    },
    {
     "data": {
      "text/html": [
       "<pre>+-------------------------------------+------------------+-----------------+</pre>"
      ],
      "text/plain": [
       "+-------------------------------------+------------------+-----------------+"
      ]
     },
     "metadata": {},
     "output_type": "display_data"
    },
    {
     "data": {
      "text/html": [
       "<pre>Finalizing lookup tables.</pre>"
      ],
      "text/plain": [
       "Finalizing lookup tables."
      ]
     },
     "metadata": {},
     "output_type": "display_data"
    },
    {
     "data": {
      "text/html": [
       "<pre>Generating candidate set for working with new users.</pre>"
      ],
      "text/plain": [
       "Generating candidate set for working with new users."
      ]
     },
     "metadata": {},
     "output_type": "display_data"
    },
    {
     "data": {
      "text/html": [
       "<pre>Finished training in 116.412s</pre>"
      ],
      "text/plain": [
       "Finished training in 116.412s"
      ]
     },
     "metadata": {},
     "output_type": "display_data"
    },
    {
     "data": {
      "text/html": [
       "<pre>recommendations finished on 1000/107068 queries. users per second: 2032.63</pre>"
      ],
      "text/plain": [
       "recommendations finished on 1000/107068 queries. users per second: 2032.63"
      ]
     },
     "metadata": {},
     "output_type": "display_data"
    },
    {
     "data": {
      "text/html": [
       "<pre>recommendations finished on 2000/107068 queries. users per second: 1995.42</pre>"
      ],
      "text/plain": [
       "recommendations finished on 2000/107068 queries. users per second: 1995.42"
      ]
     },
     "metadata": {},
     "output_type": "display_data"
    },
    {
     "data": {
      "text/html": [
       "<pre>recommendations finished on 3000/107068 queries. users per second: 1956.64</pre>"
      ],
      "text/plain": [
       "recommendations finished on 3000/107068 queries. users per second: 1956.64"
      ]
     },
     "metadata": {},
     "output_type": "display_data"
    },
    {
     "data": {
      "text/html": [
       "<pre>recommendations finished on 4000/107068 queries. users per second: 1929.46</pre>"
      ],
      "text/plain": [
       "recommendations finished on 4000/107068 queries. users per second: 1929.46"
      ]
     },
     "metadata": {},
     "output_type": "display_data"
    },
    {
     "data": {
      "text/html": [
       "<pre>recommendations finished on 5000/107068 queries. users per second: 1910.41</pre>"
      ],
      "text/plain": [
       "recommendations finished on 5000/107068 queries. users per second: 1910.41"
      ]
     },
     "metadata": {},
     "output_type": "display_data"
    },
    {
     "data": {
      "text/html": [
       "<pre>recommendations finished on 6000/107068 queries. users per second: 1899.26</pre>"
      ],
      "text/plain": [
       "recommendations finished on 6000/107068 queries. users per second: 1899.26"
      ]
     },
     "metadata": {},
     "output_type": "display_data"
    },
    {
     "data": {
      "text/html": [
       "<pre>recommendations finished on 7000/107068 queries. users per second: 1890.18</pre>"
      ],
      "text/plain": [
       "recommendations finished on 7000/107068 queries. users per second: 1890.18"
      ]
     },
     "metadata": {},
     "output_type": "display_data"
    },
    {
     "data": {
      "text/html": [
       "<pre>recommendations finished on 8000/107068 queries. users per second: 1884</pre>"
      ],
      "text/plain": [
       "recommendations finished on 8000/107068 queries. users per second: 1884"
      ]
     },
     "metadata": {},
     "output_type": "display_data"
    },
    {
     "data": {
      "text/html": [
       "<pre>recommendations finished on 9000/107068 queries. users per second: 1878.87</pre>"
      ],
      "text/plain": [
       "recommendations finished on 9000/107068 queries. users per second: 1878.87"
      ]
     },
     "metadata": {},
     "output_type": "display_data"
    },
    {
     "data": {
      "text/html": [
       "<pre>recommendations finished on 10000/107068 queries. users per second: 1872.27</pre>"
      ],
      "text/plain": [
       "recommendations finished on 10000/107068 queries. users per second: 1872.27"
      ]
     },
     "metadata": {},
     "output_type": "display_data"
    },
    {
     "data": {
      "text/html": [
       "<pre>recommendations finished on 11000/107068 queries. users per second: 1859.23</pre>"
      ],
      "text/plain": [
       "recommendations finished on 11000/107068 queries. users per second: 1859.23"
      ]
     },
     "metadata": {},
     "output_type": "display_data"
    },
    {
     "data": {
      "text/html": [
       "<pre>recommendations finished on 12000/107068 queries. users per second: 1845.97</pre>"
      ],
      "text/plain": [
       "recommendations finished on 12000/107068 queries. users per second: 1845.97"
      ]
     },
     "metadata": {},
     "output_type": "display_data"
    },
    {
     "data": {
      "text/html": [
       "<pre>recommendations finished on 13000/107068 queries. users per second: 1848.14</pre>"
      ],
      "text/plain": [
       "recommendations finished on 13000/107068 queries. users per second: 1848.14"
      ]
     },
     "metadata": {},
     "output_type": "display_data"
    },
    {
     "data": {
      "text/html": [
       "<pre>recommendations finished on 14000/107068 queries. users per second: 1850.17</pre>"
      ],
      "text/plain": [
       "recommendations finished on 14000/107068 queries. users per second: 1850.17"
      ]
     },
     "metadata": {},
     "output_type": "display_data"
    },
    {
     "data": {
      "text/html": [
       "<pre>recommendations finished on 15000/107068 queries. users per second: 1852.51</pre>"
      ],
      "text/plain": [
       "recommendations finished on 15000/107068 queries. users per second: 1852.51"
      ]
     },
     "metadata": {},
     "output_type": "display_data"
    },
    {
     "data": {
      "text/html": [
       "<pre>recommendations finished on 16000/107068 queries. users per second: 1849.25</pre>"
      ],
      "text/plain": [
       "recommendations finished on 16000/107068 queries. users per second: 1849.25"
      ]
     },
     "metadata": {},
     "output_type": "display_data"
    },
    {
     "data": {
      "text/html": [
       "<pre>recommendations finished on 17000/107068 queries. users per second: 1850.13</pre>"
      ],
      "text/plain": [
       "recommendations finished on 17000/107068 queries. users per second: 1850.13"
      ]
     },
     "metadata": {},
     "output_type": "display_data"
    },
    {
     "data": {
      "text/html": [
       "<pre>recommendations finished on 18000/107068 queries. users per second: 1847.43</pre>"
      ],
      "text/plain": [
       "recommendations finished on 18000/107068 queries. users per second: 1847.43"
      ]
     },
     "metadata": {},
     "output_type": "display_data"
    },
    {
     "data": {
      "text/html": [
       "<pre>recommendations finished on 19000/107068 queries. users per second: 1843.87</pre>"
      ],
      "text/plain": [
       "recommendations finished on 19000/107068 queries. users per second: 1843.87"
      ]
     },
     "metadata": {},
     "output_type": "display_data"
    },
    {
     "data": {
      "text/html": [
       "<pre>recommendations finished on 20000/107068 queries. users per second: 1838.65</pre>"
      ],
      "text/plain": [
       "recommendations finished on 20000/107068 queries. users per second: 1838.65"
      ]
     },
     "metadata": {},
     "output_type": "display_data"
    },
    {
     "data": {
      "text/html": [
       "<pre>recommendations finished on 21000/107068 queries. users per second: 1831.93</pre>"
      ],
      "text/plain": [
       "recommendations finished on 21000/107068 queries. users per second: 1831.93"
      ]
     },
     "metadata": {},
     "output_type": "display_data"
    },
    {
     "data": {
      "text/html": [
       "<pre>recommendations finished on 22000/107068 queries. users per second: 1825.45</pre>"
      ],
      "text/plain": [
       "recommendations finished on 22000/107068 queries. users per second: 1825.45"
      ]
     },
     "metadata": {},
     "output_type": "display_data"
    },
    {
     "data": {
      "text/html": [
       "<pre>recommendations finished on 23000/107068 queries. users per second: 1819.43</pre>"
      ],
      "text/plain": [
       "recommendations finished on 23000/107068 queries. users per second: 1819.43"
      ]
     },
     "metadata": {},
     "output_type": "display_data"
    },
    {
     "data": {
      "text/html": [
       "<pre>recommendations finished on 24000/107068 queries. users per second: 1813.57</pre>"
      ],
      "text/plain": [
       "recommendations finished on 24000/107068 queries. users per second: 1813.57"
      ]
     },
     "metadata": {},
     "output_type": "display_data"
    },
    {
     "data": {
      "text/html": [
       "<pre>recommendations finished on 25000/107068 queries. users per second: 1806.67</pre>"
      ],
      "text/plain": [
       "recommendations finished on 25000/107068 queries. users per second: 1806.67"
      ]
     },
     "metadata": {},
     "output_type": "display_data"
    },
    {
     "data": {
      "text/html": [
       "<pre>recommendations finished on 26000/107068 queries. users per second: 1799.98</pre>"
      ],
      "text/plain": [
       "recommendations finished on 26000/107068 queries. users per second: 1799.98"
      ]
     },
     "metadata": {},
     "output_type": "display_data"
    },
    {
     "data": {
      "text/html": [
       "<pre>recommendations finished on 27000/107068 queries. users per second: 1793.05</pre>"
      ],
      "text/plain": [
       "recommendations finished on 27000/107068 queries. users per second: 1793.05"
      ]
     },
     "metadata": {},
     "output_type": "display_data"
    },
    {
     "data": {
      "text/html": [
       "<pre>recommendations finished on 28000/107068 queries. users per second: 1786.28</pre>"
      ],
      "text/plain": [
       "recommendations finished on 28000/107068 queries. users per second: 1786.28"
      ]
     },
     "metadata": {},
     "output_type": "display_data"
    },
    {
     "data": {
      "text/html": [
       "<pre>recommendations finished on 29000/107068 queries. users per second: 1780.55</pre>"
      ],
      "text/plain": [
       "recommendations finished on 29000/107068 queries. users per second: 1780.55"
      ]
     },
     "metadata": {},
     "output_type": "display_data"
    },
    {
     "data": {
      "text/html": [
       "<pre>recommendations finished on 30000/107068 queries. users per second: 1778.34</pre>"
      ],
      "text/plain": [
       "recommendations finished on 30000/107068 queries. users per second: 1778.34"
      ]
     },
     "metadata": {},
     "output_type": "display_data"
    },
    {
     "data": {
      "text/html": [
       "<pre>recommendations finished on 31000/107068 queries. users per second: 1779.2</pre>"
      ],
      "text/plain": [
       "recommendations finished on 31000/107068 queries. users per second: 1779.2"
      ]
     },
     "metadata": {},
     "output_type": "display_data"
    },
    {
     "data": {
      "text/html": [
       "<pre>recommendations finished on 32000/107068 queries. users per second: 1780.01</pre>"
      ],
      "text/plain": [
       "recommendations finished on 32000/107068 queries. users per second: 1780.01"
      ]
     },
     "metadata": {},
     "output_type": "display_data"
    },
    {
     "data": {
      "text/html": [
       "<pre>recommendations finished on 33000/107068 queries. users per second: 1779.21</pre>"
      ],
      "text/plain": [
       "recommendations finished on 33000/107068 queries. users per second: 1779.21"
      ]
     },
     "metadata": {},
     "output_type": "display_data"
    },
    {
     "data": {
      "text/html": [
       "<pre>recommendations finished on 34000/107068 queries. users per second: 1779.14</pre>"
      ],
      "text/plain": [
       "recommendations finished on 34000/107068 queries. users per second: 1779.14"
      ]
     },
     "metadata": {},
     "output_type": "display_data"
    },
    {
     "data": {
      "text/html": [
       "<pre>recommendations finished on 35000/107068 queries. users per second: 1779.69</pre>"
      ],
      "text/plain": [
       "recommendations finished on 35000/107068 queries. users per second: 1779.69"
      ]
     },
     "metadata": {},
     "output_type": "display_data"
    },
    {
     "data": {
      "text/html": [
       "<pre>recommendations finished on 36000/107068 queries. users per second: 1780.46</pre>"
      ],
      "text/plain": [
       "recommendations finished on 36000/107068 queries. users per second: 1780.46"
      ]
     },
     "metadata": {},
     "output_type": "display_data"
    },
    {
     "data": {
      "text/html": [
       "<pre>recommendations finished on 37000/107068 queries. users per second: 1780.48</pre>"
      ],
      "text/plain": [
       "recommendations finished on 37000/107068 queries. users per second: 1780.48"
      ]
     },
     "metadata": {},
     "output_type": "display_data"
    },
    {
     "data": {
      "text/html": [
       "<pre>recommendations finished on 38000/107068 queries. users per second: 1781.02</pre>"
      ],
      "text/plain": [
       "recommendations finished on 38000/107068 queries. users per second: 1781.02"
      ]
     },
     "metadata": {},
     "output_type": "display_data"
    },
    {
     "data": {
      "text/html": [
       "<pre>recommendations finished on 39000/107068 queries. users per second: 1781.09</pre>"
      ],
      "text/plain": [
       "recommendations finished on 39000/107068 queries. users per second: 1781.09"
      ]
     },
     "metadata": {},
     "output_type": "display_data"
    },
    {
     "data": {
      "text/html": [
       "<pre>recommendations finished on 40000/107068 queries. users per second: 1780.66</pre>"
      ],
      "text/plain": [
       "recommendations finished on 40000/107068 queries. users per second: 1780.66"
      ]
     },
     "metadata": {},
     "output_type": "display_data"
    },
    {
     "data": {
      "text/html": [
       "<pre>recommendations finished on 41000/107068 queries. users per second: 1781.18</pre>"
      ],
      "text/plain": [
       "recommendations finished on 41000/107068 queries. users per second: 1781.18"
      ]
     },
     "metadata": {},
     "output_type": "display_data"
    },
    {
     "data": {
      "text/html": [
       "<pre>recommendations finished on 42000/107068 queries. users per second: 1782.08</pre>"
      ],
      "text/plain": [
       "recommendations finished on 42000/107068 queries. users per second: 1782.08"
      ]
     },
     "metadata": {},
     "output_type": "display_data"
    },
    {
     "data": {
      "text/html": [
       "<pre>recommendations finished on 43000/107068 queries. users per second: 1781.86</pre>"
      ],
      "text/plain": [
       "recommendations finished on 43000/107068 queries. users per second: 1781.86"
      ]
     },
     "metadata": {},
     "output_type": "display_data"
    },
    {
     "data": {
      "text/html": [
       "<pre>recommendations finished on 44000/107068 queries. users per second: 1782.71</pre>"
      ],
      "text/plain": [
       "recommendations finished on 44000/107068 queries. users per second: 1782.71"
      ]
     },
     "metadata": {},
     "output_type": "display_data"
    },
    {
     "data": {
      "text/html": [
       "<pre>recommendations finished on 45000/107068 queries. users per second: 1782.83</pre>"
      ],
      "text/plain": [
       "recommendations finished on 45000/107068 queries. users per second: 1782.83"
      ]
     },
     "metadata": {},
     "output_type": "display_data"
    },
    {
     "data": {
      "text/html": [
       "<pre>recommendations finished on 46000/107068 queries. users per second: 1782.3</pre>"
      ],
      "text/plain": [
       "recommendations finished on 46000/107068 queries. users per second: 1782.3"
      ]
     },
     "metadata": {},
     "output_type": "display_data"
    },
    {
     "data": {
      "text/html": [
       "<pre>recommendations finished on 47000/107068 queries. users per second: 1782.03</pre>"
      ],
      "text/plain": [
       "recommendations finished on 47000/107068 queries. users per second: 1782.03"
      ]
     },
     "metadata": {},
     "output_type": "display_data"
    },
    {
     "data": {
      "text/html": [
       "<pre>recommendations finished on 48000/107068 queries. users per second: 1782.05</pre>"
      ],
      "text/plain": [
       "recommendations finished on 48000/107068 queries. users per second: 1782.05"
      ]
     },
     "metadata": {},
     "output_type": "display_data"
    },
    {
     "data": {
      "text/html": [
       "<pre>recommendations finished on 49000/107068 queries. users per second: 1782.78</pre>"
      ],
      "text/plain": [
       "recommendations finished on 49000/107068 queries. users per second: 1782.78"
      ]
     },
     "metadata": {},
     "output_type": "display_data"
    },
    {
     "data": {
      "text/html": [
       "<pre>recommendations finished on 50000/107068 queries. users per second: 1783.41</pre>"
      ],
      "text/plain": [
       "recommendations finished on 50000/107068 queries. users per second: 1783.41"
      ]
     },
     "metadata": {},
     "output_type": "display_data"
    },
    {
     "data": {
      "text/html": [
       "<pre>recommendations finished on 51000/107068 queries. users per second: 1783.57</pre>"
      ],
      "text/plain": [
       "recommendations finished on 51000/107068 queries. users per second: 1783.57"
      ]
     },
     "metadata": {},
     "output_type": "display_data"
    },
    {
     "data": {
      "text/html": [
       "<pre>recommendations finished on 52000/107068 queries. users per second: 1784.46</pre>"
      ],
      "text/plain": [
       "recommendations finished on 52000/107068 queries. users per second: 1784.46"
      ]
     },
     "metadata": {},
     "output_type": "display_data"
    },
    {
     "data": {
      "text/html": [
       "<pre>recommendations finished on 53000/107068 queries. users per second: 1785.09</pre>"
      ],
      "text/plain": [
       "recommendations finished on 53000/107068 queries. users per second: 1785.09"
      ]
     },
     "metadata": {},
     "output_type": "display_data"
    },
    {
     "data": {
      "text/html": [
       "<pre>recommendations finished on 54000/107068 queries. users per second: 1786.21</pre>"
      ],
      "text/plain": [
       "recommendations finished on 54000/107068 queries. users per second: 1786.21"
      ]
     },
     "metadata": {},
     "output_type": "display_data"
    },
    {
     "data": {
      "text/html": [
       "<pre>recommendations finished on 55000/107068 queries. users per second: 1786.54</pre>"
      ],
      "text/plain": [
       "recommendations finished on 55000/107068 queries. users per second: 1786.54"
      ]
     },
     "metadata": {},
     "output_type": "display_data"
    },
    {
     "data": {
      "text/html": [
       "<pre>recommendations finished on 56000/107068 queries. users per second: 1787.47</pre>"
      ],
      "text/plain": [
       "recommendations finished on 56000/107068 queries. users per second: 1787.47"
      ]
     },
     "metadata": {},
     "output_type": "display_data"
    },
    {
     "data": {
      "text/html": [
       "<pre>recommendations finished on 57000/107068 queries. users per second: 1788.75</pre>"
      ],
      "text/plain": [
       "recommendations finished on 57000/107068 queries. users per second: 1788.75"
      ]
     },
     "metadata": {},
     "output_type": "display_data"
    },
    {
     "data": {
      "text/html": [
       "<pre>recommendations finished on 58000/107068 queries. users per second: 1790.66</pre>"
      ],
      "text/plain": [
       "recommendations finished on 58000/107068 queries. users per second: 1790.66"
      ]
     },
     "metadata": {},
     "output_type": "display_data"
    },
    {
     "data": {
      "text/html": [
       "<pre>recommendations finished on 59000/107068 queries. users per second: 1792.55</pre>"
      ],
      "text/plain": [
       "recommendations finished on 59000/107068 queries. users per second: 1792.55"
      ]
     },
     "metadata": {},
     "output_type": "display_data"
    },
    {
     "data": {
      "text/html": [
       "<pre>recommendations finished on 60000/107068 queries. users per second: 1793.89</pre>"
      ],
      "text/plain": [
       "recommendations finished on 60000/107068 queries. users per second: 1793.89"
      ]
     },
     "metadata": {},
     "output_type": "display_data"
    },
    {
     "data": {
      "text/html": [
       "<pre>recommendations finished on 61000/107068 queries. users per second: 1793.72</pre>"
      ],
      "text/plain": [
       "recommendations finished on 61000/107068 queries. users per second: 1793.72"
      ]
     },
     "metadata": {},
     "output_type": "display_data"
    },
    {
     "data": {
      "text/html": [
       "<pre>recommendations finished on 62000/107068 queries. users per second: 1793.76</pre>"
      ],
      "text/plain": [
       "recommendations finished on 62000/107068 queries. users per second: 1793.76"
      ]
     },
     "metadata": {},
     "output_type": "display_data"
    },
    {
     "data": {
      "text/html": [
       "<pre>recommendations finished on 63000/107068 queries. users per second: 1794</pre>"
      ],
      "text/plain": [
       "recommendations finished on 63000/107068 queries. users per second: 1794"
      ]
     },
     "metadata": {},
     "output_type": "display_data"
    },
    {
     "data": {
      "text/html": [
       "<pre>recommendations finished on 64000/107068 queries. users per second: 1794.23</pre>"
      ],
      "text/plain": [
       "recommendations finished on 64000/107068 queries. users per second: 1794.23"
      ]
     },
     "metadata": {},
     "output_type": "display_data"
    },
    {
     "data": {
      "text/html": [
       "<pre>recommendations finished on 65000/107068 queries. users per second: 1793.85</pre>"
      ],
      "text/plain": [
       "recommendations finished on 65000/107068 queries. users per second: 1793.85"
      ]
     },
     "metadata": {},
     "output_type": "display_data"
    },
    {
     "data": {
      "text/html": [
       "<pre>recommendations finished on 66000/107068 queries. users per second: 1794.25</pre>"
      ],
      "text/plain": [
       "recommendations finished on 66000/107068 queries. users per second: 1794.25"
      ]
     },
     "metadata": {},
     "output_type": "display_data"
    },
    {
     "data": {
      "text/html": [
       "<pre>recommendations finished on 67000/107068 queries. users per second: 1794.58</pre>"
      ],
      "text/plain": [
       "recommendations finished on 67000/107068 queries. users per second: 1794.58"
      ]
     },
     "metadata": {},
     "output_type": "display_data"
    },
    {
     "data": {
      "text/html": [
       "<pre>recommendations finished on 68000/107068 queries. users per second: 1794.91</pre>"
      ],
      "text/plain": [
       "recommendations finished on 68000/107068 queries. users per second: 1794.91"
      ]
     },
     "metadata": {},
     "output_type": "display_data"
    },
    {
     "data": {
      "text/html": [
       "<pre>recommendations finished on 69000/107068 queries. users per second: 1795.24</pre>"
      ],
      "text/plain": [
       "recommendations finished on 69000/107068 queries. users per second: 1795.24"
      ]
     },
     "metadata": {},
     "output_type": "display_data"
    },
    {
     "data": {
      "text/html": [
       "<pre>recommendations finished on 70000/107068 queries. users per second: 1795.87</pre>"
      ],
      "text/plain": [
       "recommendations finished on 70000/107068 queries. users per second: 1795.87"
      ]
     },
     "metadata": {},
     "output_type": "display_data"
    },
    {
     "data": {
      "text/html": [
       "<pre>recommendations finished on 71000/107068 queries. users per second: 1796.37</pre>"
      ],
      "text/plain": [
       "recommendations finished on 71000/107068 queries. users per second: 1796.37"
      ]
     },
     "metadata": {},
     "output_type": "display_data"
    },
    {
     "data": {
      "text/html": [
       "<pre>recommendations finished on 72000/107068 queries. users per second: 1797.17</pre>"
      ],
      "text/plain": [
       "recommendations finished on 72000/107068 queries. users per second: 1797.17"
      ]
     },
     "metadata": {},
     "output_type": "display_data"
    },
    {
     "data": {
      "text/html": [
       "<pre>recommendations finished on 73000/107068 queries. users per second: 1797.64</pre>"
      ],
      "text/plain": [
       "recommendations finished on 73000/107068 queries. users per second: 1797.64"
      ]
     },
     "metadata": {},
     "output_type": "display_data"
    },
    {
     "data": {
      "text/html": [
       "<pre>recommendations finished on 74000/107068 queries. users per second: 1798.48</pre>"
      ],
      "text/plain": [
       "recommendations finished on 74000/107068 queries. users per second: 1798.48"
      ]
     },
     "metadata": {},
     "output_type": "display_data"
    },
    {
     "data": {
      "text/html": [
       "<pre>recommendations finished on 75000/107068 queries. users per second: 1798.77</pre>"
      ],
      "text/plain": [
       "recommendations finished on 75000/107068 queries. users per second: 1798.77"
      ]
     },
     "metadata": {},
     "output_type": "display_data"
    },
    {
     "data": {
      "text/html": [
       "<pre>recommendations finished on 76000/107068 queries. users per second: 1799.45</pre>"
      ],
      "text/plain": [
       "recommendations finished on 76000/107068 queries. users per second: 1799.45"
      ]
     },
     "metadata": {},
     "output_type": "display_data"
    },
    {
     "data": {
      "text/html": [
       "<pre>recommendations finished on 77000/107068 queries. users per second: 1800.04</pre>"
      ],
      "text/plain": [
       "recommendations finished on 77000/107068 queries. users per second: 1800.04"
      ]
     },
     "metadata": {},
     "output_type": "display_data"
    },
    {
     "data": {
      "text/html": [
       "<pre>recommendations finished on 78000/107068 queries. users per second: 1800.49</pre>"
      ],
      "text/plain": [
       "recommendations finished on 78000/107068 queries. users per second: 1800.49"
      ]
     },
     "metadata": {},
     "output_type": "display_data"
    },
    {
     "data": {
      "text/html": [
       "<pre>recommendations finished on 79000/107068 queries. users per second: 1801.7</pre>"
      ],
      "text/plain": [
       "recommendations finished on 79000/107068 queries. users per second: 1801.7"
      ]
     },
     "metadata": {},
     "output_type": "display_data"
    },
    {
     "data": {
      "text/html": [
       "<pre>recommendations finished on 80000/107068 queries. users per second: 1802.41</pre>"
      ],
      "text/plain": [
       "recommendations finished on 80000/107068 queries. users per second: 1802.41"
      ]
     },
     "metadata": {},
     "output_type": "display_data"
    },
    {
     "data": {
      "text/html": [
       "<pre>recommendations finished on 81000/107068 queries. users per second: 1803.3</pre>"
      ],
      "text/plain": [
       "recommendations finished on 81000/107068 queries. users per second: 1803.3"
      ]
     },
     "metadata": {},
     "output_type": "display_data"
    },
    {
     "data": {
      "text/html": [
       "<pre>recommendations finished on 82000/107068 queries. users per second: 1803.53</pre>"
      ],
      "text/plain": [
       "recommendations finished on 82000/107068 queries. users per second: 1803.53"
      ]
     },
     "metadata": {},
     "output_type": "display_data"
    },
    {
     "data": {
      "text/html": [
       "<pre>recommendations finished on 83000/107068 queries. users per second: 1804.27</pre>"
      ],
      "text/plain": [
       "recommendations finished on 83000/107068 queries. users per second: 1804.27"
      ]
     },
     "metadata": {},
     "output_type": "display_data"
    },
    {
     "data": {
      "text/html": [
       "<pre>recommendations finished on 84000/107068 queries. users per second: 1804.4</pre>"
      ],
      "text/plain": [
       "recommendations finished on 84000/107068 queries. users per second: 1804.4"
      ]
     },
     "metadata": {},
     "output_type": "display_data"
    },
    {
     "data": {
      "text/html": [
       "<pre>recommendations finished on 85000/107068 queries. users per second: 1804.85</pre>"
      ],
      "text/plain": [
       "recommendations finished on 85000/107068 queries. users per second: 1804.85"
      ]
     },
     "metadata": {},
     "output_type": "display_data"
    },
    {
     "data": {
      "text/html": [
       "<pre>recommendations finished on 86000/107068 queries. users per second: 1805.75</pre>"
      ],
      "text/plain": [
       "recommendations finished on 86000/107068 queries. users per second: 1805.75"
      ]
     },
     "metadata": {},
     "output_type": "display_data"
    },
    {
     "data": {
      "text/html": [
       "<pre>recommendations finished on 87000/107068 queries. users per second: 1806.41</pre>"
      ],
      "text/plain": [
       "recommendations finished on 87000/107068 queries. users per second: 1806.41"
      ]
     },
     "metadata": {},
     "output_type": "display_data"
    },
    {
     "data": {
      "text/html": [
       "<pre>recommendations finished on 88000/107068 queries. users per second: 1806.99</pre>"
      ],
      "text/plain": [
       "recommendations finished on 88000/107068 queries. users per second: 1806.99"
      ]
     },
     "metadata": {},
     "output_type": "display_data"
    },
    {
     "data": {
      "text/html": [
       "<pre>recommendations finished on 89000/107068 queries. users per second: 1807.61</pre>"
      ],
      "text/plain": [
       "recommendations finished on 89000/107068 queries. users per second: 1807.61"
      ]
     },
     "metadata": {},
     "output_type": "display_data"
    },
    {
     "data": {
      "text/html": [
       "<pre>recommendations finished on 90000/107068 queries. users per second: 1808.48</pre>"
      ],
      "text/plain": [
       "recommendations finished on 90000/107068 queries. users per second: 1808.48"
      ]
     },
     "metadata": {},
     "output_type": "display_data"
    },
    {
     "data": {
      "text/html": [
       "<pre>recommendations finished on 91000/107068 queries. users per second: 1809.16</pre>"
      ],
      "text/plain": [
       "recommendations finished on 91000/107068 queries. users per second: 1809.16"
      ]
     },
     "metadata": {},
     "output_type": "display_data"
    },
    {
     "data": {
      "text/html": [
       "<pre>recommendations finished on 92000/107068 queries. users per second: 1809.81</pre>"
      ],
      "text/plain": [
       "recommendations finished on 92000/107068 queries. users per second: 1809.81"
      ]
     },
     "metadata": {},
     "output_type": "display_data"
    },
    {
     "data": {
      "text/html": [
       "<pre>recommendations finished on 93000/107068 queries. users per second: 1810.78</pre>"
      ],
      "text/plain": [
       "recommendations finished on 93000/107068 queries. users per second: 1810.78"
      ]
     },
     "metadata": {},
     "output_type": "display_data"
    },
    {
     "data": {
      "text/html": [
       "<pre>recommendations finished on 94000/107068 queries. users per second: 1811.47</pre>"
      ],
      "text/plain": [
       "recommendations finished on 94000/107068 queries. users per second: 1811.47"
      ]
     },
     "metadata": {},
     "output_type": "display_data"
    },
    {
     "data": {
      "text/html": [
       "<pre>recommendations finished on 95000/107068 queries. users per second: 1812.49</pre>"
      ],
      "text/plain": [
       "recommendations finished on 95000/107068 queries. users per second: 1812.49"
      ]
     },
     "metadata": {},
     "output_type": "display_data"
    },
    {
     "data": {
      "text/html": [
       "<pre>recommendations finished on 96000/107068 queries. users per second: 1813.68</pre>"
      ],
      "text/plain": [
       "recommendations finished on 96000/107068 queries. users per second: 1813.68"
      ]
     },
     "metadata": {},
     "output_type": "display_data"
    },
    {
     "data": {
      "text/html": [
       "<pre>recommendations finished on 97000/107068 queries. users per second: 1814.6</pre>"
      ],
      "text/plain": [
       "recommendations finished on 97000/107068 queries. users per second: 1814.6"
      ]
     },
     "metadata": {},
     "output_type": "display_data"
    },
    {
     "data": {
      "text/html": [
       "<pre>recommendations finished on 98000/107068 queries. users per second: 1815.13</pre>"
      ],
      "text/plain": [
       "recommendations finished on 98000/107068 queries. users per second: 1815.13"
      ]
     },
     "metadata": {},
     "output_type": "display_data"
    },
    {
     "data": {
      "text/html": [
       "<pre>recommendations finished on 99000/107068 queries. users per second: 1815.99</pre>"
      ],
      "text/plain": [
       "recommendations finished on 99000/107068 queries. users per second: 1815.99"
      ]
     },
     "metadata": {},
     "output_type": "display_data"
    },
    {
     "data": {
      "text/html": [
       "<pre>recommendations finished on 100000/107068 queries. users per second: 1817.1</pre>"
      ],
      "text/plain": [
       "recommendations finished on 100000/107068 queries. users per second: 1817.1"
      ]
     },
     "metadata": {},
     "output_type": "display_data"
    },
    {
     "data": {
      "text/html": [
       "<pre>recommendations finished on 101000/107068 queries. users per second: 1819.02</pre>"
      ],
      "text/plain": [
       "recommendations finished on 101000/107068 queries. users per second: 1819.02"
      ]
     },
     "metadata": {},
     "output_type": "display_data"
    },
    {
     "data": {
      "text/html": [
       "<pre>recommendations finished on 102000/107068 queries. users per second: 1820.24</pre>"
      ],
      "text/plain": [
       "recommendations finished on 102000/107068 queries. users per second: 1820.24"
      ]
     },
     "metadata": {},
     "output_type": "display_data"
    },
    {
     "data": {
      "text/html": [
       "<pre>recommendations finished on 103000/107068 queries. users per second: 1820.13</pre>"
      ],
      "text/plain": [
       "recommendations finished on 103000/107068 queries. users per second: 1820.13"
      ]
     },
     "metadata": {},
     "output_type": "display_data"
    },
    {
     "data": {
      "text/html": [
       "<pre>recommendations finished on 104000/107068 queries. users per second: 1820.95</pre>"
      ],
      "text/plain": [
       "recommendations finished on 104000/107068 queries. users per second: 1820.95"
      ]
     },
     "metadata": {},
     "output_type": "display_data"
    },
    {
     "data": {
      "text/html": [
       "<pre>recommendations finished on 105000/107068 queries. users per second: 1820.55</pre>"
      ],
      "text/plain": [
       "recommendations finished on 105000/107068 queries. users per second: 1820.55"
      ]
     },
     "metadata": {},
     "output_type": "display_data"
    },
    {
     "data": {
      "text/html": [
       "<pre>recommendations finished on 106000/107068 queries. users per second: 1819.18</pre>"
      ],
      "text/plain": [
       "recommendations finished on 106000/107068 queries. users per second: 1819.18"
      ]
     },
     "metadata": {},
     "output_type": "display_data"
    },
    {
     "data": {
      "text/html": [
       "<pre>recommendations finished on 107000/107068 queries. users per second: 1807.5</pre>"
      ],
      "text/plain": [
       "recommendations finished on 107000/107068 queries. users per second: 1807.5"
      ]
     },
     "metadata": {},
     "output_type": "display_data"
    },
    {
     "name": "stdout",
     "output_type": "stream",
     "text": [
      "(107068, 1)\n"
     ]
    },
    {
     "data": {
      "text/html": [
       "<div>\n",
       "<style scoped>\n",
       "    .dataframe tbody tr th:only-of-type {\n",
       "        vertical-align: middle;\n",
       "    }\n",
       "\n",
       "    .dataframe tbody tr th {\n",
       "        vertical-align: top;\n",
       "    }\n",
       "\n",
       "    .dataframe thead th {\n",
       "        text-align: right;\n",
       "    }\n",
       "</style>\n",
       "<table border=\"1\" class=\"dataframe\">\n",
       "  <thead>\n",
       "    <tr style=\"text-align: right;\">\n",
       "      <th></th>\n",
       "      <th>Predicted</th>\n",
       "    </tr>\n",
       "    <tr>\n",
       "      <th>Id</th>\n",
       "      <th></th>\n",
       "    </tr>\n",
       "  </thead>\n",
       "  <tbody>\n",
       "    <tr>\n",
       "      <th>51</th>\n",
       "      <td>100789 69669 3817484 63072 100849 5479511 3959...</td>\n",
       "    </tr>\n",
       "    <tr>\n",
       "      <th>65</th>\n",
       "      <td>5469728 94333 3817484 69669 55133 5479511 687 ...</td>\n",
       "    </tr>\n",
       "    <tr>\n",
       "      <th>187</th>\n",
       "      <td>88085 3302679 88081 9221154 88095 89494 88889 ...</td>\n",
       "    </tr>\n",
       "    <tr>\n",
       "      <th>400</th>\n",
       "      <td>709 69669 100789 55133 63072 3817542 3497570 1...</td>\n",
       "    </tr>\n",
       "    <tr>\n",
       "      <th>576</th>\n",
       "      <td>709 3817484 5469728 69669 94333 39590 1300 100...</td>\n",
       "    </tr>\n",
       "  </tbody>\n",
       "</table>\n",
       "</div>"
      ],
      "text/plain": [
       "                                             Predicted\n",
       "Id                                                    \n",
       "51   100789 69669 3817484 63072 100849 5479511 3959...\n",
       "65   5469728 94333 3817484 69669 55133 5479511 687 ...\n",
       "187  88085 3302679 88081 9221154 88095 89494 88889 ...\n",
       "400  709 69669 100789 55133 63072 3817542 3497570 1...\n",
       "576  709 3817484 5469728 69669 94333 39590 1300 100..."
      ]
     },
     "execution_count": 7,
     "metadata": {},
     "output_type": "execute_result"
    }
   ],
   "source": [
    "submission = fit_predict(train_data, SIMILARITY, user_id, item_id, target, users_to_recommend, n_rec)\n",
    "print(submission.shape)\n",
    "submission.head()\n",
    "# del popularity"
   ]
  },
  {
   "cell_type": "code",
   "execution_count": null,
   "metadata": {},
   "outputs": [],
   "source": []
  },
  {
   "cell_type": "code",
   "execution_count": 8,
   "metadata": {},
   "outputs": [
    {
     "data": {
      "text/html": [
       "<pre>Preparing data set.</pre>"
      ],
      "text/plain": [
       "Preparing data set."
      ]
     },
     "metadata": {},
     "output_type": "display_data"
    },
    {
     "data": {
      "text/html": [
       "<pre>    Data has 46194236 observations with 657502 users and 95002 items.</pre>"
      ],
      "text/plain": [
       "    Data has 46194236 observations with 657502 users and 95002 items."
      ]
     },
     "metadata": {},
     "output_type": "display_data"
    },
    {
     "data": {
      "text/html": [
       "<pre>    Data prepared in: 17.1698s</pre>"
      ],
      "text/plain": [
       "    Data prepared in: 17.1698s"
      ]
     },
     "metadata": {},
     "output_type": "display_data"
    },
    {
     "data": {
      "text/html": [
       "<pre>Training model from provided data.</pre>"
      ],
      "text/plain": [
       "Training model from provided data."
      ]
     },
     "metadata": {},
     "output_type": "display_data"
    },
    {
     "data": {
      "text/html": [
       "<pre>Gathering per-item and per-user statistics.</pre>"
      ],
      "text/plain": [
       "Gathering per-item and per-user statistics."
      ]
     },
     "metadata": {},
     "output_type": "display_data"
    },
    {
     "data": {
      "text/html": [
       "<pre>+--------------------------------+------------+</pre>"
      ],
      "text/plain": [
       "+--------------------------------+------------+"
      ]
     },
     "metadata": {},
     "output_type": "display_data"
    },
    {
     "data": {
      "text/html": [
       "<pre>| Elapsed Time (Item Statistics) | % Complete |</pre>"
      ],
      "text/plain": [
       "| Elapsed Time (Item Statistics) | % Complete |"
      ]
     },
     "metadata": {},
     "output_type": "display_data"
    },
    {
     "data": {
      "text/html": [
       "<pre>+--------------------------------+------------+</pre>"
      ],
      "text/plain": [
       "+--------------------------------+------------+"
      ]
     },
     "metadata": {},
     "output_type": "display_data"
    },
    {
     "data": {
      "text/html": [
       "<pre>| 5.598ms                        | 0          |</pre>"
      ],
      "text/plain": [
       "| 5.598ms                        | 0          |"
      ]
     },
     "metadata": {},
     "output_type": "display_data"
    },
    {
     "data": {
      "text/html": [
       "<pre>| 447.1ms                        | 100        |</pre>"
      ],
      "text/plain": [
       "| 447.1ms                        | 100        |"
      ]
     },
     "metadata": {},
     "output_type": "display_data"
    },
    {
     "data": {
      "text/html": [
       "<pre>+--------------------------------+------------+</pre>"
      ],
      "text/plain": [
       "+--------------------------------+------------+"
      ]
     },
     "metadata": {},
     "output_type": "display_data"
    },
    {
     "data": {
      "text/html": [
       "<pre>Setting up lookup tables.</pre>"
      ],
      "text/plain": [
       "Setting up lookup tables."
      ]
     },
     "metadata": {},
     "output_type": "display_data"
    },
    {
     "data": {
      "text/html": [
       "<pre>Processing the 98 most common items by brute force search.</pre>"
      ],
      "text/plain": [
       "Processing the 98 most common items by brute force search."
      ]
     },
     "metadata": {},
     "output_type": "display_data"
    },
    {
     "data": {
      "text/html": [
       "<pre>Transposing user-item lists for use in nearest neighbor search.</pre>"
      ],
      "text/plain": [
       "Transposing user-item lists for use in nearest neighbor search."
      ]
     },
     "metadata": {},
     "output_type": "display_data"
    },
    {
     "data": {
      "text/html": [
       "<pre>+------------------------------------+------------+</pre>"
      ],
      "text/plain": [
       "+------------------------------------+------------+"
      ]
     },
     "metadata": {},
     "output_type": "display_data"
    },
    {
     "data": {
      "text/html": [
       "<pre>| Elapsed Time (Data Transposition)) | % Complete |</pre>"
      ],
      "text/plain": [
       "| Elapsed Time (Data Transposition)) | % Complete |"
      ]
     },
     "metadata": {},
     "output_type": "display_data"
    },
    {
     "data": {
      "text/html": [
       "<pre>+------------------------------------+------------+</pre>"
      ],
      "text/plain": [
       "+------------------------------------+------------+"
      ]
     },
     "metadata": {},
     "output_type": "display_data"
    },
    {
     "data": {
      "text/html": [
       "<pre>| 268.768ms                          | 0          |</pre>"
      ],
      "text/plain": [
       "| 268.768ms                          | 0          |"
      ]
     },
     "metadata": {},
     "output_type": "display_data"
    },
    {
     "data": {
      "text/html": [
       "<pre>| 2.48s                              | 100        |</pre>"
      ],
      "text/plain": [
       "| 2.48s                              | 100        |"
      ]
     },
     "metadata": {},
     "output_type": "display_data"
    },
    {
     "data": {
      "text/html": [
       "<pre>+------------------------------------+------------+</pre>"
      ],
      "text/plain": [
       "+------------------------------------+------------+"
      ]
     },
     "metadata": {},
     "output_type": "display_data"
    },
    {
     "data": {
      "text/html": [
       "<pre>+-------------------------------------+------------------+-----------------+</pre>"
      ],
      "text/plain": [
       "+-------------------------------------+------------------+-----------------+"
      ]
     },
     "metadata": {},
     "output_type": "display_data"
    },
    {
     "data": {
      "text/html": [
       "<pre>| Elapsed Time (Constructing Lookups) | Total % Complete | Items Processed |</pre>"
      ],
      "text/plain": [
       "| Elapsed Time (Constructing Lookups) | Total % Complete | Items Processed |"
      ]
     },
     "metadata": {},
     "output_type": "display_data"
    },
    {
     "data": {
      "text/html": [
       "<pre>+-------------------------------------+------------------+-----------------+</pre>"
      ],
      "text/plain": [
       "+-------------------------------------+------------------+-----------------+"
      ]
     },
     "metadata": {},
     "output_type": "display_data"
    },
    {
     "data": {
      "text/html": [
       "<pre>| 3.35s                               | 0                | 0               |</pre>"
      ],
      "text/plain": [
       "| 3.35s                               | 0                | 0               |"
      ]
     },
     "metadata": {},
     "output_type": "display_data"
    },
    {
     "data": {
      "text/html": [
       "<pre>| 6.35s                               | 0                | 76              |</pre>"
      ],
      "text/plain": [
       "| 6.35s                               | 0                | 76              |"
      ]
     },
     "metadata": {},
     "output_type": "display_data"
    },
    {
     "data": {
      "text/html": [
       "<pre>| 9.35s                               | 0                | 85              |</pre>"
      ],
      "text/plain": [
       "| 9.35s                               | 0                | 85              |"
      ]
     },
     "metadata": {},
     "output_type": "display_data"
    },
    {
     "data": {
      "text/html": [
       "<pre>| 12.35s                              | 0                | 88              |</pre>"
      ],
      "text/plain": [
       "| 12.35s                              | 0                | 88              |"
      ]
     },
     "metadata": {},
     "output_type": "display_data"
    },
    {
     "data": {
      "text/html": [
       "<pre>| 15.35s                              | 0                | 90              |</pre>"
      ],
      "text/plain": [
       "| 15.35s                              | 0                | 90              |"
      ]
     },
     "metadata": {},
     "output_type": "display_data"
    },
    {
     "data": {
      "text/html": [
       "<pre>| 18.35s                              | 0                | 93              |</pre>"
      ],
      "text/plain": [
       "| 18.35s                              | 0                | 93              |"
      ]
     },
     "metadata": {},
     "output_type": "display_data"
    },
    {
     "data": {
      "text/html": [
       "<pre>| 21.35s                              | 0                | 96              |</pre>"
      ],
      "text/plain": [
       "| 21.35s                              | 0                | 96              |"
      ]
     },
     "metadata": {},
     "output_type": "display_data"
    },
    {
     "data": {
      "text/html": [
       "<pre>+-------------------------------------+------------------+-----------------+</pre>"
      ],
      "text/plain": [
       "+-------------------------------------+------------------+-----------------+"
      ]
     },
     "metadata": {},
     "output_type": "display_data"
    },
    {
     "data": {
      "text/html": [
       "<pre>Processing data in 5 passes using dense lookup tables.</pre>"
      ],
      "text/plain": [
       "Processing data in 5 passes using dense lookup tables."
      ]
     },
     "metadata": {},
     "output_type": "display_data"
    },
    {
     "data": {
      "text/html": [
       "<pre>+-------------------------------------+------------------+-----------------+</pre>"
      ],
      "text/plain": [
       "+-------------------------------------+------------------+-----------------+"
      ]
     },
     "metadata": {},
     "output_type": "display_data"
    },
    {
     "data": {
      "text/html": [
       "<pre>| Elapsed Time (Constructing Lookups) | Total % Complete | Items Processed |</pre>"
      ],
      "text/plain": [
       "| Elapsed Time (Constructing Lookups) | Total % Complete | Items Processed |"
      ]
     },
     "metadata": {},
     "output_type": "display_data"
    },
    {
     "data": {
      "text/html": [
       "<pre>+-------------------------------------+------------------+-----------------+</pre>"
      ],
      "text/plain": [
       "+-------------------------------------+------------------+-----------------+"
      ]
     },
     "metadata": {},
     "output_type": "display_data"
    },
    {
     "data": {
      "text/html": [
       "<pre>| 26.28s                              | 0                | 97              |</pre>"
      ],
      "text/plain": [
       "| 26.28s                              | 0                | 97              |"
      ]
     },
     "metadata": {},
     "output_type": "display_data"
    },
    {
     "data": {
      "text/html": [
       "<pre>| 27.35s                              | 0.5              | 596             |</pre>"
      ],
      "text/plain": [
       "| 27.35s                              | 0.5              | 596             |"
      ]
     },
     "metadata": {},
     "output_type": "display_data"
    },
    {
     "data": {
      "text/html": [
       "<pre>| 30.35s                              | 2                | 1967            |</pre>"
      ],
      "text/plain": [
       "| 30.35s                              | 2                | 1967            |"
      ]
     },
     "metadata": {},
     "output_type": "display_data"
    },
    {
     "data": {
      "text/html": [
       "<pre>| 33.35s                              | 3.5              | 3371            |</pre>"
      ],
      "text/plain": [
       "| 33.35s                              | 3.5              | 3371            |"
      ]
     },
     "metadata": {},
     "output_type": "display_data"
    },
    {
     "data": {
      "text/html": [
       "<pre>| 36.35s                              | 4.75             | 4721            |</pre>"
      ],
      "text/plain": [
       "| 36.35s                              | 4.75             | 4721            |"
      ]
     },
     "metadata": {},
     "output_type": "display_data"
    },
    {
     "data": {
      "text/html": [
       "<pre>| 39.35s                              | 6.25             | 6129            |</pre>"
      ],
      "text/plain": [
       "| 39.35s                              | 6.25             | 6129            |"
      ]
     },
     "metadata": {},
     "output_type": "display_data"
    },
    {
     "data": {
      "text/html": [
       "<pre>| 42.35s                              | 7.75             | 7556            |</pre>"
      ],
      "text/plain": [
       "| 42.35s                              | 7.75             | 7556            |"
      ]
     },
     "metadata": {},
     "output_type": "display_data"
    },
    {
     "data": {
      "text/html": [
       "<pre>| 45.35s                              | 9.25             | 8988            |</pre>"
      ],
      "text/plain": [
       "| 45.35s                              | 9.25             | 8988            |"
      ]
     },
     "metadata": {},
     "output_type": "display_data"
    },
    {
     "data": {
      "text/html": [
       "<pre>| 48.35s                              | 10.75            | 10447           |</pre>"
      ],
      "text/plain": [
       "| 48.35s                              | 10.75            | 10447           |"
      ]
     },
     "metadata": {},
     "output_type": "display_data"
    },
    {
     "data": {
      "text/html": [
       "<pre>| 51.35s                              | 12.5             | 11912           |</pre>"
      ],
      "text/plain": [
       "| 51.35s                              | 12.5             | 11912           |"
      ]
     },
     "metadata": {},
     "output_type": "display_data"
    },
    {
     "data": {
      "text/html": [
       "<pre>| 54.35s                              | 14               | 13362           |</pre>"
      ],
      "text/plain": [
       "| 54.35s                              | 14               | 13362           |"
      ]
     },
     "metadata": {},
     "output_type": "display_data"
    },
    {
     "data": {
      "text/html": [
       "<pre>| 57.35s                              | 15.25            | 14683           |</pre>"
      ],
      "text/plain": [
       "| 57.35s                              | 15.25            | 14683           |"
      ]
     },
     "metadata": {},
     "output_type": "display_data"
    },
    {
     "data": {
      "text/html": [
       "<pre>| 1m 0s                               | 16.75            | 16015           |</pre>"
      ],
      "text/plain": [
       "| 1m 0s                               | 16.75            | 16015           |"
      ]
     },
     "metadata": {},
     "output_type": "display_data"
    },
    {
     "data": {
      "text/html": [
       "<pre>| 1m 3s                               | 18.25            | 17369           |</pre>"
      ],
      "text/plain": [
       "| 1m 3s                               | 18.25            | 17369           |"
      ]
     },
     "metadata": {},
     "output_type": "display_data"
    },
    {
     "data": {
      "text/html": [
       "<pre>| 1m 6s                               | 19.75            | 18779           |</pre>"
      ],
      "text/plain": [
       "| 1m 6s                               | 19.75            | 18779           |"
      ]
     },
     "metadata": {},
     "output_type": "display_data"
    },
    {
     "data": {
      "text/html": [
       "<pre>| 1m 20s                              | 20               | 19055           |</pre>"
      ],
      "text/plain": [
       "| 1m 20s                              | 20               | 19055           |"
      ]
     },
     "metadata": {},
     "output_type": "display_data"
    },
    {
     "data": {
      "text/html": [
       "<pre>| 1m 23s                              | 27.75            | 26538           |</pre>"
      ],
      "text/plain": [
       "| 1m 23s                              | 27.75            | 26538           |"
      ]
     },
     "metadata": {},
     "output_type": "display_data"
    },
    {
     "data": {
      "text/html": [
       "<pre>| 1m 26s                              | 35.75            | 34138           |</pre>"
      ],
      "text/plain": [
       "| 1m 26s                              | 35.75            | 34138           |"
      ]
     },
     "metadata": {},
     "output_type": "display_data"
    },
    {
     "data": {
      "text/html": [
       "<pre>| 1m 40s                              | 40               | 38013           |</pre>"
      ],
      "text/plain": [
       "| 1m 40s                              | 40               | 38013           |"
      ]
     },
     "metadata": {},
     "output_type": "display_data"
    },
    {
     "data": {
      "text/html": [
       "<pre>| 1m 53s                              | 59.75            | 56971           |</pre>"
      ],
      "text/plain": [
       "| 1m 53s                              | 59.75            | 56971           |"
      ]
     },
     "metadata": {},
     "output_type": "display_data"
    },
    {
     "data": {
      "text/html": [
       "<pre>| 2m 4s                               | 79.75            | 75929           |</pre>"
      ],
      "text/plain": [
       "| 2m 4s                               | 79.75            | 75929           |"
      ]
     },
     "metadata": {},
     "output_type": "display_data"
    },
    {
     "data": {
      "text/html": [
       "<pre>| 2m 6s                               | 100              | 95002           |</pre>"
      ],
      "text/plain": [
       "| 2m 6s                               | 100              | 95002           |"
      ]
     },
     "metadata": {},
     "output_type": "display_data"
    },
    {
     "data": {
      "text/html": [
       "<pre>+-------------------------------------+------------------+-----------------+</pre>"
      ],
      "text/plain": [
       "+-------------------------------------+------------------+-----------------+"
      ]
     },
     "metadata": {},
     "output_type": "display_data"
    },
    {
     "data": {
      "text/html": [
       "<pre>Finalizing lookup tables.</pre>"
      ],
      "text/plain": [
       "Finalizing lookup tables."
      ]
     },
     "metadata": {},
     "output_type": "display_data"
    },
    {
     "data": {
      "text/html": [
       "<pre>Generating candidate set for working with new users.</pre>"
      ],
      "text/plain": [
       "Generating candidate set for working with new users."
      ]
     },
     "metadata": {},
     "output_type": "display_data"
    },
    {
     "data": {
      "text/html": [
       "<pre>Finished training in 129.064s</pre>"
      ],
      "text/plain": [
       "Finished training in 129.064s"
      ]
     },
     "metadata": {},
     "output_type": "display_data"
    },
    {
     "data": {
      "text/html": [
       "<pre>recommendations finished on 1000/107068 queries. users per second: 1902.19</pre>"
      ],
      "text/plain": [
       "recommendations finished on 1000/107068 queries. users per second: 1902.19"
      ]
     },
     "metadata": {},
     "output_type": "display_data"
    },
    {
     "data": {
      "text/html": [
       "<pre>recommendations finished on 2000/107068 queries. users per second: 1805.34</pre>"
      ],
      "text/plain": [
       "recommendations finished on 2000/107068 queries. users per second: 1805.34"
      ]
     },
     "metadata": {},
     "output_type": "display_data"
    },
    {
     "data": {
      "text/html": [
       "<pre>recommendations finished on 3000/107068 queries. users per second: 1748.35</pre>"
      ],
      "text/plain": [
       "recommendations finished on 3000/107068 queries. users per second: 1748.35"
      ]
     },
     "metadata": {},
     "output_type": "display_data"
    },
    {
     "data": {
      "text/html": [
       "<pre>recommendations finished on 4000/107068 queries. users per second: 1723.41</pre>"
      ],
      "text/plain": [
       "recommendations finished on 4000/107068 queries. users per second: 1723.41"
      ]
     },
     "metadata": {},
     "output_type": "display_data"
    },
    {
     "data": {
      "text/html": [
       "<pre>recommendations finished on 5000/107068 queries. users per second: 1725.91</pre>"
      ],
      "text/plain": [
       "recommendations finished on 5000/107068 queries. users per second: 1725.91"
      ]
     },
     "metadata": {},
     "output_type": "display_data"
    },
    {
     "data": {
      "text/html": [
       "<pre>recommendations finished on 6000/107068 queries. users per second: 1716.99</pre>"
      ],
      "text/plain": [
       "recommendations finished on 6000/107068 queries. users per second: 1716.99"
      ]
     },
     "metadata": {},
     "output_type": "display_data"
    },
    {
     "data": {
      "text/html": [
       "<pre>recommendations finished on 7000/107068 queries. users per second: 1709.68</pre>"
      ],
      "text/plain": [
       "recommendations finished on 7000/107068 queries. users per second: 1709.68"
      ]
     },
     "metadata": {},
     "output_type": "display_data"
    },
    {
     "data": {
      "text/html": [
       "<pre>recommendations finished on 8000/107068 queries. users per second: 1707.42</pre>"
      ],
      "text/plain": [
       "recommendations finished on 8000/107068 queries. users per second: 1707.42"
      ]
     },
     "metadata": {},
     "output_type": "display_data"
    },
    {
     "data": {
      "text/html": [
       "<pre>recommendations finished on 9000/107068 queries. users per second: 1712.45</pre>"
      ],
      "text/plain": [
       "recommendations finished on 9000/107068 queries. users per second: 1712.45"
      ]
     },
     "metadata": {},
     "output_type": "display_data"
    },
    {
     "data": {
      "text/html": [
       "<pre>recommendations finished on 10000/107068 queries. users per second: 1701.79</pre>"
      ],
      "text/plain": [
       "recommendations finished on 10000/107068 queries. users per second: 1701.79"
      ]
     },
     "metadata": {},
     "output_type": "display_data"
    },
    {
     "data": {
      "text/html": [
       "<pre>recommendations finished on 11000/107068 queries. users per second: 1697.64</pre>"
      ],
      "text/plain": [
       "recommendations finished on 11000/107068 queries. users per second: 1697.64"
      ]
     },
     "metadata": {},
     "output_type": "display_data"
    },
    {
     "data": {
      "text/html": [
       "<pre>recommendations finished on 12000/107068 queries. users per second: 1702.21</pre>"
      ],
      "text/plain": [
       "recommendations finished on 12000/107068 queries. users per second: 1702.21"
      ]
     },
     "metadata": {},
     "output_type": "display_data"
    },
    {
     "data": {
      "text/html": [
       "<pre>recommendations finished on 13000/107068 queries. users per second: 1704.47</pre>"
      ],
      "text/plain": [
       "recommendations finished on 13000/107068 queries. users per second: 1704.47"
      ]
     },
     "metadata": {},
     "output_type": "display_data"
    },
    {
     "data": {
      "text/html": [
       "<pre>recommendations finished on 14000/107068 queries. users per second: 1707.4</pre>"
      ],
      "text/plain": [
       "recommendations finished on 14000/107068 queries. users per second: 1707.4"
      ]
     },
     "metadata": {},
     "output_type": "display_data"
    },
    {
     "data": {
      "text/html": [
       "<pre>recommendations finished on 15000/107068 queries. users per second: 1711.97</pre>"
      ],
      "text/plain": [
       "recommendations finished on 15000/107068 queries. users per second: 1711.97"
      ]
     },
     "metadata": {},
     "output_type": "display_data"
    },
    {
     "data": {
      "text/html": [
       "<pre>recommendations finished on 16000/107068 queries. users per second: 1703.47</pre>"
      ],
      "text/plain": [
       "recommendations finished on 16000/107068 queries. users per second: 1703.47"
      ]
     },
     "metadata": {},
     "output_type": "display_data"
    },
    {
     "data": {
      "text/html": [
       "<pre>recommendations finished on 17000/107068 queries. users per second: 1697.31</pre>"
      ],
      "text/plain": [
       "recommendations finished on 17000/107068 queries. users per second: 1697.31"
      ]
     },
     "metadata": {},
     "output_type": "display_data"
    },
    {
     "data": {
      "text/html": [
       "<pre>recommendations finished on 18000/107068 queries. users per second: 1690.59</pre>"
      ],
      "text/plain": [
       "recommendations finished on 18000/107068 queries. users per second: 1690.59"
      ]
     },
     "metadata": {},
     "output_type": "display_data"
    },
    {
     "data": {
      "text/html": [
       "<pre>recommendations finished on 19000/107068 queries. users per second: 1684.79</pre>"
      ],
      "text/plain": [
       "recommendations finished on 19000/107068 queries. users per second: 1684.79"
      ]
     },
     "metadata": {},
     "output_type": "display_data"
    },
    {
     "data": {
      "text/html": [
       "<pre>recommendations finished on 20000/107068 queries. users per second: 1684.22</pre>"
      ],
      "text/plain": [
       "recommendations finished on 20000/107068 queries. users per second: 1684.22"
      ]
     },
     "metadata": {},
     "output_type": "display_data"
    },
    {
     "data": {
      "text/html": [
       "<pre>recommendations finished on 21000/107068 queries. users per second: 1686.57</pre>"
      ],
      "text/plain": [
       "recommendations finished on 21000/107068 queries. users per second: 1686.57"
      ]
     },
     "metadata": {},
     "output_type": "display_data"
    },
    {
     "data": {
      "text/html": [
       "<pre>recommendations finished on 22000/107068 queries. users per second: 1690.54</pre>"
      ],
      "text/plain": [
       "recommendations finished on 22000/107068 queries. users per second: 1690.54"
      ]
     },
     "metadata": {},
     "output_type": "display_data"
    },
    {
     "data": {
      "text/html": [
       "<pre>recommendations finished on 23000/107068 queries. users per second: 1692.54</pre>"
      ],
      "text/plain": [
       "recommendations finished on 23000/107068 queries. users per second: 1692.54"
      ]
     },
     "metadata": {},
     "output_type": "display_data"
    },
    {
     "data": {
      "text/html": [
       "<pre>recommendations finished on 24000/107068 queries. users per second: 1692.65</pre>"
      ],
      "text/plain": [
       "recommendations finished on 24000/107068 queries. users per second: 1692.65"
      ]
     },
     "metadata": {},
     "output_type": "display_data"
    },
    {
     "data": {
      "text/html": [
       "<pre>recommendations finished on 25000/107068 queries. users per second: 1685.14</pre>"
      ],
      "text/plain": [
       "recommendations finished on 25000/107068 queries. users per second: 1685.14"
      ]
     },
     "metadata": {},
     "output_type": "display_data"
    },
    {
     "data": {
      "text/html": [
       "<pre>recommendations finished on 26000/107068 queries. users per second: 1678.02</pre>"
      ],
      "text/plain": [
       "recommendations finished on 26000/107068 queries. users per second: 1678.02"
      ]
     },
     "metadata": {},
     "output_type": "display_data"
    },
    {
     "data": {
      "text/html": [
       "<pre>recommendations finished on 27000/107068 queries. users per second: 1668.86</pre>"
      ],
      "text/plain": [
       "recommendations finished on 27000/107068 queries. users per second: 1668.86"
      ]
     },
     "metadata": {},
     "output_type": "display_data"
    },
    {
     "data": {
      "text/html": [
       "<pre>recommendations finished on 28000/107068 queries. users per second: 1663.05</pre>"
      ],
      "text/plain": [
       "recommendations finished on 28000/107068 queries. users per second: 1663.05"
      ]
     },
     "metadata": {},
     "output_type": "display_data"
    },
    {
     "data": {
      "text/html": [
       "<pre>recommendations finished on 29000/107068 queries. users per second: 1657.26</pre>"
      ],
      "text/plain": [
       "recommendations finished on 29000/107068 queries. users per second: 1657.26"
      ]
     },
     "metadata": {},
     "output_type": "display_data"
    },
    {
     "data": {
      "text/html": [
       "<pre>recommendations finished on 30000/107068 queries. users per second: 1654.19</pre>"
      ],
      "text/plain": [
       "recommendations finished on 30000/107068 queries. users per second: 1654.19"
      ]
     },
     "metadata": {},
     "output_type": "display_data"
    },
    {
     "data": {
      "text/html": [
       "<pre>recommendations finished on 31000/107068 queries. users per second: 1648.62</pre>"
      ],
      "text/plain": [
       "recommendations finished on 31000/107068 queries. users per second: 1648.62"
      ]
     },
     "metadata": {},
     "output_type": "display_data"
    },
    {
     "data": {
      "text/html": [
       "<pre>recommendations finished on 32000/107068 queries. users per second: 1647</pre>"
      ],
      "text/plain": [
       "recommendations finished on 32000/107068 queries. users per second: 1647"
      ]
     },
     "metadata": {},
     "output_type": "display_data"
    },
    {
     "data": {
      "text/html": [
       "<pre>recommendations finished on 33000/107068 queries. users per second: 1644.73</pre>"
      ],
      "text/plain": [
       "recommendations finished on 33000/107068 queries. users per second: 1644.73"
      ]
     },
     "metadata": {},
     "output_type": "display_data"
    },
    {
     "data": {
      "text/html": [
       "<pre>recommendations finished on 34000/107068 queries. users per second: 1643.85</pre>"
      ],
      "text/plain": [
       "recommendations finished on 34000/107068 queries. users per second: 1643.85"
      ]
     },
     "metadata": {},
     "output_type": "display_data"
    },
    {
     "data": {
      "text/html": [
       "<pre>recommendations finished on 35000/107068 queries. users per second: 1644.89</pre>"
      ],
      "text/plain": [
       "recommendations finished on 35000/107068 queries. users per second: 1644.89"
      ]
     },
     "metadata": {},
     "output_type": "display_data"
    },
    {
     "data": {
      "text/html": [
       "<pre>recommendations finished on 36000/107068 queries. users per second: 1646.1</pre>"
      ],
      "text/plain": [
       "recommendations finished on 36000/107068 queries. users per second: 1646.1"
      ]
     },
     "metadata": {},
     "output_type": "display_data"
    },
    {
     "data": {
      "text/html": [
       "<pre>recommendations finished on 37000/107068 queries. users per second: 1647.33</pre>"
      ],
      "text/plain": [
       "recommendations finished on 37000/107068 queries. users per second: 1647.33"
      ]
     },
     "metadata": {},
     "output_type": "display_data"
    },
    {
     "data": {
      "text/html": [
       "<pre>recommendations finished on 38000/107068 queries. users per second: 1647.93</pre>"
      ],
      "text/plain": [
       "recommendations finished on 38000/107068 queries. users per second: 1647.93"
      ]
     },
     "metadata": {},
     "output_type": "display_data"
    },
    {
     "data": {
      "text/html": [
       "<pre>recommendations finished on 39000/107068 queries. users per second: 1648.3</pre>"
      ],
      "text/plain": [
       "recommendations finished on 39000/107068 queries. users per second: 1648.3"
      ]
     },
     "metadata": {},
     "output_type": "display_data"
    },
    {
     "data": {
      "text/html": [
       "<pre>recommendations finished on 40000/107068 queries. users per second: 1649.55</pre>"
      ],
      "text/plain": [
       "recommendations finished on 40000/107068 queries. users per second: 1649.55"
      ]
     },
     "metadata": {},
     "output_type": "display_data"
    },
    {
     "data": {
      "text/html": [
       "<pre>recommendations finished on 41000/107068 queries. users per second: 1650.59</pre>"
      ],
      "text/plain": [
       "recommendations finished on 41000/107068 queries. users per second: 1650.59"
      ]
     },
     "metadata": {},
     "output_type": "display_data"
    },
    {
     "data": {
      "text/html": [
       "<pre>recommendations finished on 42000/107068 queries. users per second: 1649.42</pre>"
      ],
      "text/plain": [
       "recommendations finished on 42000/107068 queries. users per second: 1649.42"
      ]
     },
     "metadata": {},
     "output_type": "display_data"
    },
    {
     "data": {
      "text/html": [
       "<pre>recommendations finished on 43000/107068 queries. users per second: 1649.17</pre>"
      ],
      "text/plain": [
       "recommendations finished on 43000/107068 queries. users per second: 1649.17"
      ]
     },
     "metadata": {},
     "output_type": "display_data"
    },
    {
     "data": {
      "text/html": [
       "<pre>recommendations finished on 44000/107068 queries. users per second: 1648.64</pre>"
      ],
      "text/plain": [
       "recommendations finished on 44000/107068 queries. users per second: 1648.64"
      ]
     },
     "metadata": {},
     "output_type": "display_data"
    },
    {
     "data": {
      "text/html": [
       "<pre>recommendations finished on 45000/107068 queries. users per second: 1646.44</pre>"
      ],
      "text/plain": [
       "recommendations finished on 45000/107068 queries. users per second: 1646.44"
      ]
     },
     "metadata": {},
     "output_type": "display_data"
    },
    {
     "data": {
      "text/html": [
       "<pre>recommendations finished on 46000/107068 queries. users per second: 1645.07</pre>"
      ],
      "text/plain": [
       "recommendations finished on 46000/107068 queries. users per second: 1645.07"
      ]
     },
     "metadata": {},
     "output_type": "display_data"
    },
    {
     "data": {
      "text/html": [
       "<pre>recommendations finished on 47000/107068 queries. users per second: 1644.89</pre>"
      ],
      "text/plain": [
       "recommendations finished on 47000/107068 queries. users per second: 1644.89"
      ]
     },
     "metadata": {},
     "output_type": "display_data"
    },
    {
     "data": {
      "text/html": [
       "<pre>recommendations finished on 48000/107068 queries. users per second: 1644.45</pre>"
      ],
      "text/plain": [
       "recommendations finished on 48000/107068 queries. users per second: 1644.45"
      ]
     },
     "metadata": {},
     "output_type": "display_data"
    },
    {
     "data": {
      "text/html": [
       "<pre>recommendations finished on 49000/107068 queries. users per second: 1643.39</pre>"
      ],
      "text/plain": [
       "recommendations finished on 49000/107068 queries. users per second: 1643.39"
      ]
     },
     "metadata": {},
     "output_type": "display_data"
    },
    {
     "data": {
      "text/html": [
       "<pre>recommendations finished on 50000/107068 queries. users per second: 1641.49</pre>"
      ],
      "text/plain": [
       "recommendations finished on 50000/107068 queries. users per second: 1641.49"
      ]
     },
     "metadata": {},
     "output_type": "display_data"
    },
    {
     "data": {
      "text/html": [
       "<pre>recommendations finished on 51000/107068 queries. users per second: 1641.07</pre>"
      ],
      "text/plain": [
       "recommendations finished on 51000/107068 queries. users per second: 1641.07"
      ]
     },
     "metadata": {},
     "output_type": "display_data"
    },
    {
     "data": {
      "text/html": [
       "<pre>recommendations finished on 52000/107068 queries. users per second: 1640.65</pre>"
      ],
      "text/plain": [
       "recommendations finished on 52000/107068 queries. users per second: 1640.65"
      ]
     },
     "metadata": {},
     "output_type": "display_data"
    },
    {
     "data": {
      "text/html": [
       "<pre>recommendations finished on 53000/107068 queries. users per second: 1639.95</pre>"
      ],
      "text/plain": [
       "recommendations finished on 53000/107068 queries. users per second: 1639.95"
      ]
     },
     "metadata": {},
     "output_type": "display_data"
    },
    {
     "data": {
      "text/html": [
       "<pre>recommendations finished on 54000/107068 queries. users per second: 1640.53</pre>"
      ],
      "text/plain": [
       "recommendations finished on 54000/107068 queries. users per second: 1640.53"
      ]
     },
     "metadata": {},
     "output_type": "display_data"
    },
    {
     "data": {
      "text/html": [
       "<pre>recommendations finished on 55000/107068 queries. users per second: 1639.3</pre>"
      ],
      "text/plain": [
       "recommendations finished on 55000/107068 queries. users per second: 1639.3"
      ]
     },
     "metadata": {},
     "output_type": "display_data"
    },
    {
     "data": {
      "text/html": [
       "<pre>recommendations finished on 56000/107068 queries. users per second: 1640.23</pre>"
      ],
      "text/plain": [
       "recommendations finished on 56000/107068 queries. users per second: 1640.23"
      ]
     },
     "metadata": {},
     "output_type": "display_data"
    },
    {
     "data": {
      "text/html": [
       "<pre>recommendations finished on 57000/107068 queries. users per second: 1642.03</pre>"
      ],
      "text/plain": [
       "recommendations finished on 57000/107068 queries. users per second: 1642.03"
      ]
     },
     "metadata": {},
     "output_type": "display_data"
    },
    {
     "data": {
      "text/html": [
       "<pre>recommendations finished on 58000/107068 queries. users per second: 1643.36</pre>"
      ],
      "text/plain": [
       "recommendations finished on 58000/107068 queries. users per second: 1643.36"
      ]
     },
     "metadata": {},
     "output_type": "display_data"
    },
    {
     "data": {
      "text/html": [
       "<pre>recommendations finished on 59000/107068 queries. users per second: 1644.3</pre>"
      ],
      "text/plain": [
       "recommendations finished on 59000/107068 queries. users per second: 1644.3"
      ]
     },
     "metadata": {},
     "output_type": "display_data"
    },
    {
     "data": {
      "text/html": [
       "<pre>recommendations finished on 60000/107068 queries. users per second: 1645.24</pre>"
      ],
      "text/plain": [
       "recommendations finished on 60000/107068 queries. users per second: 1645.24"
      ]
     },
     "metadata": {},
     "output_type": "display_data"
    },
    {
     "data": {
      "text/html": [
       "<pre>recommendations finished on 61000/107068 queries. users per second: 1645.53</pre>"
      ],
      "text/plain": [
       "recommendations finished on 61000/107068 queries. users per second: 1645.53"
      ]
     },
     "metadata": {},
     "output_type": "display_data"
    },
    {
     "data": {
      "text/html": [
       "<pre>recommendations finished on 62000/107068 queries. users per second: 1645.78</pre>"
      ],
      "text/plain": [
       "recommendations finished on 62000/107068 queries. users per second: 1645.78"
      ]
     },
     "metadata": {},
     "output_type": "display_data"
    },
    {
     "data": {
      "text/html": [
       "<pre>recommendations finished on 63000/107068 queries. users per second: 1646.12</pre>"
      ],
      "text/plain": [
       "recommendations finished on 63000/107068 queries. users per second: 1646.12"
      ]
     },
     "metadata": {},
     "output_type": "display_data"
    },
    {
     "data": {
      "text/html": [
       "<pre>recommendations finished on 64000/107068 queries. users per second: 1645.89</pre>"
      ],
      "text/plain": [
       "recommendations finished on 64000/107068 queries. users per second: 1645.89"
      ]
     },
     "metadata": {},
     "output_type": "display_data"
    },
    {
     "data": {
      "text/html": [
       "<pre>recommendations finished on 65000/107068 queries. users per second: 1645.92</pre>"
      ],
      "text/plain": [
       "recommendations finished on 65000/107068 queries. users per second: 1645.92"
      ]
     },
     "metadata": {},
     "output_type": "display_data"
    },
    {
     "data": {
      "text/html": [
       "<pre>recommendations finished on 66000/107068 queries. users per second: 1646.68</pre>"
      ],
      "text/plain": [
       "recommendations finished on 66000/107068 queries. users per second: 1646.68"
      ]
     },
     "metadata": {},
     "output_type": "display_data"
    },
    {
     "data": {
      "text/html": [
       "<pre>recommendations finished on 67000/107068 queries. users per second: 1646.95</pre>"
      ],
      "text/plain": [
       "recommendations finished on 67000/107068 queries. users per second: 1646.95"
      ]
     },
     "metadata": {},
     "output_type": "display_data"
    },
    {
     "data": {
      "text/html": [
       "<pre>recommendations finished on 68000/107068 queries. users per second: 1647.49</pre>"
      ],
      "text/plain": [
       "recommendations finished on 68000/107068 queries. users per second: 1647.49"
      ]
     },
     "metadata": {},
     "output_type": "display_data"
    },
    {
     "data": {
      "text/html": [
       "<pre>recommendations finished on 69000/107068 queries. users per second: 1648.5</pre>"
      ],
      "text/plain": [
       "recommendations finished on 69000/107068 queries. users per second: 1648.5"
      ]
     },
     "metadata": {},
     "output_type": "display_data"
    },
    {
     "data": {
      "text/html": [
       "<pre>recommendations finished on 70000/107068 queries. users per second: 1649.32</pre>"
      ],
      "text/plain": [
       "recommendations finished on 70000/107068 queries. users per second: 1649.32"
      ]
     },
     "metadata": {},
     "output_type": "display_data"
    },
    {
     "data": {
      "text/html": [
       "<pre>recommendations finished on 71000/107068 queries. users per second: 1650.17</pre>"
      ],
      "text/plain": [
       "recommendations finished on 71000/107068 queries. users per second: 1650.17"
      ]
     },
     "metadata": {},
     "output_type": "display_data"
    },
    {
     "data": {
      "text/html": [
       "<pre>recommendations finished on 72000/107068 queries. users per second: 1650.88</pre>"
      ],
      "text/plain": [
       "recommendations finished on 72000/107068 queries. users per second: 1650.88"
      ]
     },
     "metadata": {},
     "output_type": "display_data"
    },
    {
     "data": {
      "text/html": [
       "<pre>recommendations finished on 73000/107068 queries. users per second: 1651.71</pre>"
      ],
      "text/plain": [
       "recommendations finished on 73000/107068 queries. users per second: 1651.71"
      ]
     },
     "metadata": {},
     "output_type": "display_data"
    },
    {
     "data": {
      "text/html": [
       "<pre>recommendations finished on 74000/107068 queries. users per second: 1652.46</pre>"
      ],
      "text/plain": [
       "recommendations finished on 74000/107068 queries. users per second: 1652.46"
      ]
     },
     "metadata": {},
     "output_type": "display_data"
    },
    {
     "data": {
      "text/html": [
       "<pre>recommendations finished on 75000/107068 queries. users per second: 1653.06</pre>"
      ],
      "text/plain": [
       "recommendations finished on 75000/107068 queries. users per second: 1653.06"
      ]
     },
     "metadata": {},
     "output_type": "display_data"
    },
    {
     "data": {
      "text/html": [
       "<pre>recommendations finished on 76000/107068 queries. users per second: 1653.65</pre>"
      ],
      "text/plain": [
       "recommendations finished on 76000/107068 queries. users per second: 1653.65"
      ]
     },
     "metadata": {},
     "output_type": "display_data"
    },
    {
     "data": {
      "text/html": [
       "<pre>recommendations finished on 77000/107068 queries. users per second: 1654.21</pre>"
      ],
      "text/plain": [
       "recommendations finished on 77000/107068 queries. users per second: 1654.21"
      ]
     },
     "metadata": {},
     "output_type": "display_data"
    },
    {
     "data": {
      "text/html": [
       "<pre>recommendations finished on 78000/107068 queries. users per second: 1654.7</pre>"
      ],
      "text/plain": [
       "recommendations finished on 78000/107068 queries. users per second: 1654.7"
      ]
     },
     "metadata": {},
     "output_type": "display_data"
    },
    {
     "data": {
      "text/html": [
       "<pre>recommendations finished on 79000/107068 queries. users per second: 1655.07</pre>"
      ],
      "text/plain": [
       "recommendations finished on 79000/107068 queries. users per second: 1655.07"
      ]
     },
     "metadata": {},
     "output_type": "display_data"
    },
    {
     "data": {
      "text/html": [
       "<pre>recommendations finished on 80000/107068 queries. users per second: 1655.9</pre>"
      ],
      "text/plain": [
       "recommendations finished on 80000/107068 queries. users per second: 1655.9"
      ]
     },
     "metadata": {},
     "output_type": "display_data"
    },
    {
     "data": {
      "text/html": [
       "<pre>recommendations finished on 81000/107068 queries. users per second: 1656.45</pre>"
      ],
      "text/plain": [
       "recommendations finished on 81000/107068 queries. users per second: 1656.45"
      ]
     },
     "metadata": {},
     "output_type": "display_data"
    },
    {
     "data": {
      "text/html": [
       "<pre>recommendations finished on 82000/107068 queries. users per second: 1656.39</pre>"
      ],
      "text/plain": [
       "recommendations finished on 82000/107068 queries. users per second: 1656.39"
      ]
     },
     "metadata": {},
     "output_type": "display_data"
    },
    {
     "data": {
      "text/html": [
       "<pre>recommendations finished on 83000/107068 queries. users per second: 1656.71</pre>"
      ],
      "text/plain": [
       "recommendations finished on 83000/107068 queries. users per second: 1656.71"
      ]
     },
     "metadata": {},
     "output_type": "display_data"
    },
    {
     "data": {
      "text/html": [
       "<pre>recommendations finished on 84000/107068 queries. users per second: 1657.44</pre>"
      ],
      "text/plain": [
       "recommendations finished on 84000/107068 queries. users per second: 1657.44"
      ]
     },
     "metadata": {},
     "output_type": "display_data"
    },
    {
     "data": {
      "text/html": [
       "<pre>recommendations finished on 85000/107068 queries. users per second: 1657.8</pre>"
      ],
      "text/plain": [
       "recommendations finished on 85000/107068 queries. users per second: 1657.8"
      ]
     },
     "metadata": {},
     "output_type": "display_data"
    },
    {
     "data": {
      "text/html": [
       "<pre>recommendations finished on 86000/107068 queries. users per second: 1657.96</pre>"
      ],
      "text/plain": [
       "recommendations finished on 86000/107068 queries. users per second: 1657.96"
      ]
     },
     "metadata": {},
     "output_type": "display_data"
    },
    {
     "data": {
      "text/html": [
       "<pre>recommendations finished on 87000/107068 queries. users per second: 1658.01</pre>"
      ],
      "text/plain": [
       "recommendations finished on 87000/107068 queries. users per second: 1658.01"
      ]
     },
     "metadata": {},
     "output_type": "display_data"
    },
    {
     "data": {
      "text/html": [
       "<pre>recommendations finished on 88000/107068 queries. users per second: 1658.49</pre>"
      ],
      "text/plain": [
       "recommendations finished on 88000/107068 queries. users per second: 1658.49"
      ]
     },
     "metadata": {},
     "output_type": "display_data"
    },
    {
     "data": {
      "text/html": [
       "<pre>recommendations finished on 89000/107068 queries. users per second: 1658.89</pre>"
      ],
      "text/plain": [
       "recommendations finished on 89000/107068 queries. users per second: 1658.89"
      ]
     },
     "metadata": {},
     "output_type": "display_data"
    },
    {
     "data": {
      "text/html": [
       "<pre>recommendations finished on 90000/107068 queries. users per second: 1659.22</pre>"
      ],
      "text/plain": [
       "recommendations finished on 90000/107068 queries. users per second: 1659.22"
      ]
     },
     "metadata": {},
     "output_type": "display_data"
    },
    {
     "data": {
      "text/html": [
       "<pre>recommendations finished on 91000/107068 queries. users per second: 1659.66</pre>"
      ],
      "text/plain": [
       "recommendations finished on 91000/107068 queries. users per second: 1659.66"
      ]
     },
     "metadata": {},
     "output_type": "display_data"
    },
    {
     "data": {
      "text/html": [
       "<pre>recommendations finished on 92000/107068 queries. users per second: 1660.64</pre>"
      ],
      "text/plain": [
       "recommendations finished on 92000/107068 queries. users per second: 1660.64"
      ]
     },
     "metadata": {},
     "output_type": "display_data"
    },
    {
     "data": {
      "text/html": [
       "<pre>recommendations finished on 93000/107068 queries. users per second: 1661.28</pre>"
      ],
      "text/plain": [
       "recommendations finished on 93000/107068 queries. users per second: 1661.28"
      ]
     },
     "metadata": {},
     "output_type": "display_data"
    },
    {
     "data": {
      "text/html": [
       "<pre>recommendations finished on 94000/107068 queries. users per second: 1662.43</pre>"
      ],
      "text/plain": [
       "recommendations finished on 94000/107068 queries. users per second: 1662.43"
      ]
     },
     "metadata": {},
     "output_type": "display_data"
    },
    {
     "data": {
      "text/html": [
       "<pre>recommendations finished on 95000/107068 queries. users per second: 1663.44</pre>"
      ],
      "text/plain": [
       "recommendations finished on 95000/107068 queries. users per second: 1663.44"
      ]
     },
     "metadata": {},
     "output_type": "display_data"
    },
    {
     "data": {
      "text/html": [
       "<pre>recommendations finished on 96000/107068 queries. users per second: 1664.2</pre>"
      ],
      "text/plain": [
       "recommendations finished on 96000/107068 queries. users per second: 1664.2"
      ]
     },
     "metadata": {},
     "output_type": "display_data"
    },
    {
     "data": {
      "text/html": [
       "<pre>recommendations finished on 97000/107068 queries. users per second: 1665.03</pre>"
      ],
      "text/plain": [
       "recommendations finished on 97000/107068 queries. users per second: 1665.03"
      ]
     },
     "metadata": {},
     "output_type": "display_data"
    },
    {
     "data": {
      "text/html": [
       "<pre>recommendations finished on 98000/107068 queries. users per second: 1665.95</pre>"
      ],
      "text/plain": [
       "recommendations finished on 98000/107068 queries. users per second: 1665.95"
      ]
     },
     "metadata": {},
     "output_type": "display_data"
    },
    {
     "data": {
      "text/html": [
       "<pre>recommendations finished on 99000/107068 queries. users per second: 1666.83</pre>"
      ],
      "text/plain": [
       "recommendations finished on 99000/107068 queries. users per second: 1666.83"
      ]
     },
     "metadata": {},
     "output_type": "display_data"
    },
    {
     "data": {
      "text/html": [
       "<pre>recommendations finished on 100000/107068 queries. users per second: 1667.69</pre>"
      ],
      "text/plain": [
       "recommendations finished on 100000/107068 queries. users per second: 1667.69"
      ]
     },
     "metadata": {},
     "output_type": "display_data"
    },
    {
     "data": {
      "text/html": [
       "<pre>recommendations finished on 101000/107068 queries. users per second: 1668.4</pre>"
      ],
      "text/plain": [
       "recommendations finished on 101000/107068 queries. users per second: 1668.4"
      ]
     },
     "metadata": {},
     "output_type": "display_data"
    },
    {
     "data": {
      "text/html": [
       "<pre>recommendations finished on 102000/107068 queries. users per second: 1669.01</pre>"
      ],
      "text/plain": [
       "recommendations finished on 102000/107068 queries. users per second: 1669.01"
      ]
     },
     "metadata": {},
     "output_type": "display_data"
    },
    {
     "data": {
      "text/html": [
       "<pre>recommendations finished on 103000/107068 queries. users per second: 1669.16</pre>"
      ],
      "text/plain": [
       "recommendations finished on 103000/107068 queries. users per second: 1669.16"
      ]
     },
     "metadata": {},
     "output_type": "display_data"
    },
    {
     "data": {
      "text/html": [
       "<pre>recommendations finished on 104000/107068 queries. users per second: 1668.23</pre>"
      ],
      "text/plain": [
       "recommendations finished on 104000/107068 queries. users per second: 1668.23"
      ]
     },
     "metadata": {},
     "output_type": "display_data"
    },
    {
     "data": {
      "text/html": [
       "<pre>recommendations finished on 105000/107068 queries. users per second: 1666.05</pre>"
      ],
      "text/plain": [
       "recommendations finished on 105000/107068 queries. users per second: 1666.05"
      ]
     },
     "metadata": {},
     "output_type": "display_data"
    },
    {
     "data": {
      "text/html": [
       "<pre>recommendations finished on 106000/107068 queries. users per second: 1664.14</pre>"
      ],
      "text/plain": [
       "recommendations finished on 106000/107068 queries. users per second: 1664.14"
      ]
     },
     "metadata": {},
     "output_type": "display_data"
    },
    {
     "data": {
      "text/html": [
       "<pre>recommendations finished on 107000/107068 queries. users per second: 1654.13</pre>"
      ],
      "text/plain": [
       "recommendations finished on 107000/107068 queries. users per second: 1654.13"
      ]
     },
     "metadata": {},
     "output_type": "display_data"
    }
   ],
   "source": [
    "name = 'cosine'\n",
    "target = 'purchase_count'\n",
    "cos = fit_predict(train_data, name, user_id, item_id, target, users_to_recommend, n_rec)\n",
    "# cos.to_csv(\"cos.csv\")\n",
    "# del cos"
   ]
  },
  {
   "cell_type": "code",
   "execution_count": 31,
   "metadata": {},
   "outputs": [],
   "source": [
    "def create_output(df_rec, name):\n",
    "    df_rec['Predicted'] = df_rec.groupby([user_id])[item_id] \\\n",
    "        .transform(lambda x: ' '.join(x.astype(str)))\n",
    "    df_rec.rename(columns={\"customerId\": \"Id\"}, inplace=True)\n",
    "    df_output = df_rec[['Id', 'Predicted']].drop_duplicates() \\\n",
    "        .sort_values('Id').set_index('Id')\n",
    "    df_output.to_csv('submission_' + name + '.csv')\n",
    "    return df_output"
   ]
  },
  {
   "cell_type": "code",
   "execution_count": 32,
   "metadata": {},
   "outputs": [],
   "source": [
    "name = 'popularity'\n",
    "popularity = pd.read_csv(name + \".csv\", index_col=0)\n",
    "popularity.head()\n",
    "popularity_submission = create_output(popularity, name)"
   ]
  },
  {
   "cell_type": "code",
   "execution_count": 33,
   "metadata": {},
   "outputs": [
    {
     "data": {
      "text/html": [
       "<div>\n",
       "<style scoped>\n",
       "    .dataframe tbody tr th:only-of-type {\n",
       "        vertical-align: middle;\n",
       "    }\n",
       "\n",
       "    .dataframe tbody tr th {\n",
       "        vertical-align: top;\n",
       "    }\n",
       "\n",
       "    .dataframe thead th {\n",
       "        text-align: right;\n",
       "    }\n",
       "</style>\n",
       "<table border=\"1\" class=\"dataframe\">\n",
       "  <thead>\n",
       "    <tr style=\"text-align: right;\">\n",
       "      <th></th>\n",
       "      <th>Predicted</th>\n",
       "    </tr>\n",
       "    <tr>\n",
       "      <th>Id</th>\n",
       "      <th></th>\n",
       "    </tr>\n",
       "  </thead>\n",
       "  <tbody>\n",
       "    <tr>\n",
       "      <th>51</th>\n",
       "      <td>13344338 5061861 5481337 13344339 96412 746894...</td>\n",
       "    </tr>\n",
       "    <tr>\n",
       "      <th>65</th>\n",
       "      <td>13344338 5061861 5481337 13344339 96412 746894...</td>\n",
       "    </tr>\n",
       "    <tr>\n",
       "      <th>187</th>\n",
       "      <td>13344338 5061861 5481337 13344339 96412 746894...</td>\n",
       "    </tr>\n",
       "    <tr>\n",
       "      <th>400</th>\n",
       "      <td>13344338 5061861 5481337 13344339 96412 746894...</td>\n",
       "    </tr>\n",
       "    <tr>\n",
       "      <th>576</th>\n",
       "      <td>13344338 5061861 5481337 13344339 96412 746894...</td>\n",
       "    </tr>\n",
       "  </tbody>\n",
       "</table>\n",
       "</div>"
      ],
      "text/plain": [
       "                                             Predicted\n",
       "Id                                                    \n",
       "51   13344338 5061861 5481337 13344339 96412 746894...\n",
       "65   13344338 5061861 5481337 13344339 96412 746894...\n",
       "187  13344338 5061861 5481337 13344339 96412 746894...\n",
       "400  13344338 5061861 5481337 13344339 96412 746894...\n",
       "576  13344338 5061861 5481337 13344339 96412 746894..."
      ]
     },
     "execution_count": 33,
     "metadata": {},
     "output_type": "execute_result"
    }
   ],
   "source": [
    "popularity_submission.head()"
   ]
  },
  {
   "cell_type": "code",
   "execution_count": 19,
   "metadata": {
    "scrolled": true
   },
   "outputs": [
    {
     "name": "stdout",
     "output_type": "stream",
     "text": [
      "(107068, 2)\n"
     ]
    },
    {
     "data": {
      "text/html": [
       "<div>\n",
       "<style scoped>\n",
       "    .dataframe tbody tr th:only-of-type {\n",
       "        vertical-align: middle;\n",
       "    }\n",
       "\n",
       "    .dataframe tbody tr th {\n",
       "        vertical-align: top;\n",
       "    }\n",
       "\n",
       "    .dataframe thead th {\n",
       "        text-align: right;\n",
       "    }\n",
       "</style>\n",
       "<table border=\"1\" class=\"dataframe\">\n",
       "  <thead>\n",
       "    <tr style=\"text-align: right;\">\n",
       "      <th></th>\n",
       "      <th>Id</th>\n",
       "      <th>Predicted</th>\n",
       "    </tr>\n",
       "  </thead>\n",
       "  <tbody>\n",
       "    <tr>\n",
       "      <th>0</th>\n",
       "      <td>51</td>\n",
       "      <td>3239211 10720024 8493844 1965540 5009002 95218...</td>\n",
       "    </tr>\n",
       "    <tr>\n",
       "      <th>1</th>\n",
       "      <td>65</td>\n",
       "      <td>11693356 13392267 2464515 2245175 4748570 1134...</td>\n",
       "    </tr>\n",
       "    <tr>\n",
       "      <th>2</th>\n",
       "      <td>766</td>\n",
       "      <td>12773054 3692749 12726751 10041624 11893515 23...</td>\n",
       "    </tr>\n",
       "    <tr>\n",
       "      <th>3</th>\n",
       "      <td>1132</td>\n",
       "      <td>8613934 3599065 575614 4821474 11609320 699047...</td>\n",
       "    </tr>\n",
       "    <tr>\n",
       "      <th>4</th>\n",
       "      <td>1578</td>\n",
       "      <td>289404 4328240 3129788 9390886 11166655 173077...</td>\n",
       "    </tr>\n",
       "  </tbody>\n",
       "</table>\n",
       "</div>"
      ],
      "text/plain": [
       "     Id                                          Predicted\n",
       "0    51  3239211 10720024 8493844 1965540 5009002 95218...\n",
       "1    65  11693356 13392267 2464515 2245175 4748570 1134...\n",
       "2   766  12773054 3692749 12726751 10041624 11893515 23...\n",
       "3  1132  8613934 3599065 575614 4821474 11609320 699047...\n",
       "4  1578  289404 4328240 3129788 9390886 11166655 173077..."
      ]
     },
     "execution_count": 19,
     "metadata": {},
     "output_type": "execute_result"
    }
   ],
   "source": [
    "sample_sub = pd.read_csv(sample_submission)\n",
    "print(sample_sub.shape)\n",
    "sample_sub.head()"
   ]
  },
  {
   "cell_type": "code",
   "execution_count": 10,
   "metadata": {},
   "outputs": [
    {
     "name": "stdout",
     "output_type": "stream",
     "text": [
      "(107068, 2)\n"
     ]
    },
    {
     "data": {
      "text/html": [
       "<div>\n",
       "<style scoped>\n",
       "    .dataframe tbody tr th:only-of-type {\n",
       "        vertical-align: middle;\n",
       "    }\n",
       "\n",
       "    .dataframe tbody tr th {\n",
       "        vertical-align: top;\n",
       "    }\n",
       "\n",
       "    .dataframe thead th {\n",
       "        text-align: right;\n",
       "    }\n",
       "</style>\n",
       "<table border=\"1\" class=\"dataframe\">\n",
       "  <thead>\n",
       "    <tr style=\"text-align: right;\">\n",
       "      <th></th>\n",
       "      <th>Id</th>\n",
       "      <th>Predicted</th>\n",
       "    </tr>\n",
       "  </thead>\n",
       "  <tbody>\n",
       "    <tr>\n",
       "      <th>0</th>\n",
       "      <td>51</td>\n",
       "      <td>5074743 99474 86371 7342276 27555 5061861 3819...</td>\n",
       "    </tr>\n",
       "    <tr>\n",
       "      <th>1</th>\n",
       "      <td>65</td>\n",
       "      <td>5469728 5479511 94333 55133 100812 69669 54816...</td>\n",
       "    </tr>\n",
       "    <tr>\n",
       "      <th>2</th>\n",
       "      <td>187</td>\n",
       "      <td>88085 88095 7407972 3302679 9220725 88889 8949...</td>\n",
       "    </tr>\n",
       "    <tr>\n",
       "      <th>3</th>\n",
       "      <td>400</td>\n",
       "      <td>709 100789 69669 100849 55133 63072 3817542 34...</td>\n",
       "    </tr>\n",
       "    <tr>\n",
       "      <th>4</th>\n",
       "      <td>576</td>\n",
       "      <td>10526485 10527160 85433 4275615 13577 10527066...</td>\n",
       "    </tr>\n",
       "  </tbody>\n",
       "</table>\n",
       "</div>"
      ],
      "text/plain": [
       "    Id                                          Predicted\n",
       "0   51  5074743 99474 86371 7342276 27555 5061861 3819...\n",
       "1   65  5469728 5479511 94333 55133 100812 69669 54816...\n",
       "2  187  88085 88095 7407972 3302679 9220725 88889 8949...\n",
       "3  400  709 100789 69669 100849 55133 63072 3817542 34...\n",
       "4  576  10526485 10527160 85433 4275615 13577 10527066..."
      ]
     },
     "execution_count": 10,
     "metadata": {},
     "output_type": "execute_result"
    }
   ],
   "source": [
    "cosine_submission = pd.read_csv(\"submission_cosine.csv\")\n",
    "print(cosine_submission.shape)\n",
    "cosine_submission.head()"
   ]
  },
  {
   "cell_type": "code",
   "execution_count": 34,
   "metadata": {},
   "outputs": [
    {
     "name": "stdout",
     "output_type": "stream",
     "text": [
      "(107068, 2)\n"
     ]
    },
    {
     "data": {
      "text/html": [
       "<div>\n",
       "<style scoped>\n",
       "    .dataframe tbody tr th:only-of-type {\n",
       "        vertical-align: middle;\n",
       "    }\n",
       "\n",
       "    .dataframe tbody tr th {\n",
       "        vertical-align: top;\n",
       "    }\n",
       "\n",
       "    .dataframe thead th {\n",
       "        text-align: right;\n",
       "    }\n",
       "</style>\n",
       "<table border=\"1\" class=\"dataframe\">\n",
       "  <thead>\n",
       "    <tr style=\"text-align: right;\">\n",
       "      <th></th>\n",
       "      <th>Id</th>\n",
       "      <th>Predicted</th>\n",
       "    </tr>\n",
       "  </thead>\n",
       "  <tbody>\n",
       "    <tr>\n",
       "      <th>0</th>\n",
       "      <td>51</td>\n",
       "      <td>13344338 5061861 5481337 13344339 96412 746894...</td>\n",
       "    </tr>\n",
       "    <tr>\n",
       "      <th>1</th>\n",
       "      <td>65</td>\n",
       "      <td>13344338 5061861 5481337 13344339 96412 746894...</td>\n",
       "    </tr>\n",
       "    <tr>\n",
       "      <th>2</th>\n",
       "      <td>187</td>\n",
       "      <td>13344338 5061861 5481337 13344339 96412 746894...</td>\n",
       "    </tr>\n",
       "    <tr>\n",
       "      <th>3</th>\n",
       "      <td>400</td>\n",
       "      <td>13344338 5061861 5481337 13344339 96412 746894...</td>\n",
       "    </tr>\n",
       "    <tr>\n",
       "      <th>4</th>\n",
       "      <td>576</td>\n",
       "      <td>13344338 5061861 5481337 13344339 96412 746894...</td>\n",
       "    </tr>\n",
       "  </tbody>\n",
       "</table>\n",
       "</div>"
      ],
      "text/plain": [
       "    Id                                          Predicted\n",
       "0   51  13344338 5061861 5481337 13344339 96412 746894...\n",
       "1   65  13344338 5061861 5481337 13344339 96412 746894...\n",
       "2  187  13344338 5061861 5481337 13344339 96412 746894...\n",
       "3  400  13344338 5061861 5481337 13344339 96412 746894...\n",
       "4  576  13344338 5061861 5481337 13344339 96412 746894..."
      ]
     },
     "execution_count": 34,
     "metadata": {},
     "output_type": "execute_result"
    }
   ],
   "source": [
    "popularity_submission = pd.read_csv(\"submission_popularity.csv\")\n",
    "print(popularity_submission.shape)\n",
    "popularity_submission.head()"
   ]
  },
  {
   "cell_type": "code",
   "execution_count": null,
   "metadata": {},
   "outputs": [],
   "source": []
  },
  {
   "cell_type": "code",
   "execution_count": null,
   "metadata": {},
   "outputs": [],
   "source": []
  },
  {
   "cell_type": "code",
   "execution_count": null,
   "metadata": {},
   "outputs": [],
   "source": []
  },
  {
   "cell_type": "code",
   "execution_count": null,
   "metadata": {},
   "outputs": [],
   "source": [
    "name = 'popularity'\n",
    "target = 'purchase_dummy'\n",
    "pop_dummy = model(train_data_dummy, name, user_id, item_id, target, users_to_recommend, n_rec, n_display)"
   ]
  },
  {
   "cell_type": "code",
   "execution_count": null,
   "metadata": {},
   "outputs": [],
   "source": [
    "name = 'popularity'\n",
    "target = 'scaled_purchase_freq'\n",
    "pop_norm = model(train_data_norm, name, user_id, item_id, target, users_to_recommend, n_rec, n_display)"
   ]
  },
  {
   "cell_type": "code",
   "execution_count": null,
   "metadata": {},
   "outputs": [],
   "source": [
    "data_dummy = data.copy()\n",
    "data_dummy['purchase_dummy'] = 1"
   ]
  },
  {
   "cell_type": "code",
   "execution_count": null,
   "metadata": {
    "scrolled": false
   },
   "outputs": [],
   "source": [
    "data_norm = data.copy()\n",
    "data_norm[\"max_count_prod\"] = data_norm.groupby('productId')[\"purchase_count\"].transform('max')\n",
    "data_norm[\"scaled_purchase_freq\"] = data_norm[\"purchase_count\"] / data_norm[\"max_count_prod\"]\n",
    "data_norm.drop(columns=['max_count_prod', 'purchase_count'], inplace=True)"
   ]
  },
  {
   "cell_type": "code",
   "execution_count": null,
   "metadata": {},
   "outputs": [],
   "source": [
    "def split_data(data):\n",
    "    '''\n",
    "    Splits dataset into training and test set.\n",
    "    \n",
    "    Args:\n",
    "        data (pandas.DataFrame)\n",
    "        \n",
    "    Returns\n",
    "        train_data (tc.SFrame)\n",
    "        test_data (tc.SFrame)\n",
    "    '''\n",
    "    train, test = train_test_split(data, test_size = .2)\n",
    "    train_data = tc.SFrame(train)\n",
    "    test_data = tc.SFrame(test)\n",
    "    return train_data, test_data"
   ]
  },
  {
   "cell_type": "code",
   "execution_count": null,
   "metadata": {},
   "outputs": [],
   "source": [
    "train_data, test_data = split_data(data)\n",
    "train_data_dummy, test_data_dummy = split_data(data_dummy)\n",
    "train_data_norm, test_data_norm = split_data(data_norm)"
   ]
  },
  {
   "cell_type": "code",
   "execution_count": null,
   "metadata": {},
   "outputs": [],
   "source": []
  },
  {
   "cell_type": "code",
   "execution_count": null,
   "metadata": {},
   "outputs": [],
   "source": []
  },
  {
   "cell_type": "code",
   "execution_count": null,
   "metadata": {},
   "outputs": [],
   "source": []
  },
  {
   "cell_type": "code",
   "execution_count": null,
   "metadata": {},
   "outputs": [],
   "source": []
  },
  {
   "cell_type": "code",
   "execution_count": null,
   "metadata": {},
   "outputs": [],
   "source": []
  },
  {
   "cell_type": "code",
   "execution_count": null,
   "metadata": {},
   "outputs": [],
   "source": []
  },
  {
   "cell_type": "code",
   "execution_count": null,
   "metadata": {},
   "outputs": [],
   "source": [
    "df_matrix = pd.pivot_table(data, values='purchase_count', index='customerId', columns='productId')"
   ]
  },
  {
   "cell_type": "code",
   "execution_count": null,
   "metadata": {},
   "outputs": [],
   "source": [
    "df_matrix_norm = (df_matrix-df_matrix.min())/(df_matrix.max()-df_matrix.min())"
   ]
  },
  {
   "cell_type": "code",
   "execution_count": null,
   "metadata": {},
   "outputs": [],
   "source": []
  },
  {
   "cell_type": "code",
   "execution_count": null,
   "metadata": {},
   "outputs": [],
   "source": []
  },
  {
   "cell_type": "code",
   "execution_count": null,
   "metadata": {},
   "outputs": [],
   "source": [
    "df = pd.DataFrame({'cus': [1, 1, 2, 2, 3],\n",
    "                   'prod': [1, 2, 1, 2, 1],\n",
    "                   'cnt': [1, 5, 3, 2, 42]})\n",
    "df['max_cnt'] = df.groupby('prod')[\"cnt\"].transform('max')\n",
    "df"
   ]
  },
  {
   "cell_type": "code",
   "execution_count": null,
   "metadata": {},
   "outputs": [],
   "source": []
  },
  {
   "cell_type": "code",
   "execution_count": null,
   "metadata": {},
   "outputs": [],
   "source": []
  },
  {
   "cell_type": "code",
   "execution_count": null,
   "metadata": {},
   "outputs": [],
   "source": [
    "USR = 51"
   ]
  },
  {
   "cell_type": "code",
   "execution_count": null,
   "metadata": {},
   "outputs": [],
   "source": [
    "orders_file = \"tab_1_orders.csv\"\n",
    "orders = pd.read_csv(orders_file, usecols=[\"order_id\", \"user_id\"]) #, index_col=\"order_id\", parse_dates=[\"order_completed_date\"]\n",
    "orders1 = orders.iloc[orders.user_id == USR].order_id.values().tolist()\n",
    "# orders.head()"
   ]
  },
  {
   "cell_type": "code",
   "execution_count": null,
   "metadata": {},
   "outputs": [],
   "source": [
    "# show_head = True\n",
    "orders2 = []\n",
    "for i in range(1, 7):\n",
    "    products_folder = f\"kaggle_tab_2_{i}\"\n",
    "    for file in os.listdir(products_folder):\n",
    "        products_file = os.path.join(products_folder, file)\n",
    "        products = pd.read_csv(products_file, usecols=[\"order_id\", \"user_id\"])\n",
    "        orders2 += set(products.iloc[orders.user_id == USR].order_id.values.tolist())\n",
    "#         if show_head:\n",
    "#             orders.head()\n",
    "#             show_head = False\n",
    "#         del products"
   ]
  },
  {
   "cell_type": "code",
   "execution_count": null,
   "metadata": {},
   "outputs": [],
   "source": [
    "print(set(orders1).difference(orders2))\n",
    "print(set(orders2).difference(orders1))"
   ]
  },
  {
   "cell_type": "code",
   "execution_count": null,
   "metadata": {},
   "outputs": [],
   "source": []
  }
 ],
 "metadata": {
  "kernelspec": {
   "display_name": "Python 3",
   "language": "python",
   "name": "python3"
  },
  "language_info": {
   "codemirror_mode": {
    "name": "ipython",
    "version": 3
   },
   "file_extension": ".py",
   "mimetype": "text/x-python",
   "name": "python",
   "nbconvert_exporter": "python",
   "pygments_lexer": "ipython3",
   "version": "3.7.9"
  }
 },
 "nbformat": 4,
 "nbformat_minor": 4
}
