{
 "cells": [
  {
   "cell_type": "code",
   "execution_count": 1,
   "metadata": {},
   "outputs": [],
   "source": [
    "# %load_ext autoreload\n",
    "# %autoreload 2\n",
    "\n",
    "import pandas as pd\n",
    "import numpy as np\n",
    "import time\n",
    "import turicreate as tc\n",
    "from sklearn.model_selection import train_test_split\n",
    "\n",
    "import os\n",
    "import sys\n",
    "# sys.path.append(\"..\")"
   ]
  },
  {
   "cell_type": "code",
   "execution_count": 2,
   "metadata": {},
   "outputs": [
    {
     "name": "stdout",
     "output_type": "stream",
     "text": [
      "Size  of the dataframe is 1409.7 MB\n",
      "Shape of the dataframe is (46194236, 4)\n"
     ]
    }
   ],
   "source": [
    "PROCESS_DATA = False\n",
    "\n",
    "if PROCESS_DATA:\n",
    "    is_first = True\n",
    "    for i in range(1, 7):\n",
    "        products_folder = f\"sbermarket_tab_2_{i}\"\n",
    "        for file in os.listdir(products_folder):\n",
    "            products_file = os.path.join(products_folder, file)\n",
    "            if is_first:\n",
    "                products = pd.read_csv(products_file, usecols=[\"user_id\", \"product_id\", \"quantity\"])\n",
    "                is_first = False\n",
    "            else:\n",
    "                new_products = pd.read_csv(products_file, usecols=[\"user_id\", \"product_id\", \"quantity\"])\n",
    "                products = pd.concat([products, new_products])\n",
    "\n",
    "    products.rename(columns={\"quantity\": \"purchase_count\",\n",
    "                             \"user_id\": \"customerId\",\n",
    "                             \"product_id\": \"productId\"}, inplace=True)\n",
    "\n",
    "    data = products.groupby([\"customerId\", \"productId\"]).agg({\"purchase_count\": \"sum\"})\n",
    "    del products\n",
    "    data.reset_index(inplace=True)\n",
    "    data.to_csv(\"data.csv\")\n",
    "    del data\n",
    "\n",
    "else:\n",
    "    data = pd.read_csv(\"data.csv\", index_col=0)\n",
    "    print(f\"Size  of the dataframe is {sys.getsizeof(data) / 1024**3:.1f} GB\")\n",
    "    print(f\"Shape of the dataframe is {data.shape}\")\n",
    "    data.head()"
   ]
  },
  {
   "cell_type": "code",
   "execution_count": null,
   "metadata": {},
   "outputs": [],
   "source": [
    "data.head()"
   ]
  },
  {
   "cell_type": "code",
   "execution_count": 3,
   "metadata": {},
   "outputs": [],
   "source": [
    "sample_submission = \"sample_submission.csv\"\n",
    "customers = pd.read_csv(sample_submission, usecols=[\"Id\"])\n",
    "users_to_recommend = customers.Id.tolist()\n",
    "\n",
    "user_id = 'customerId'\n",
    "item_id = 'productId'\n",
    "n_rec = 50 # number of items to recommend"
   ]
  },
  {
   "cell_type": "code",
   "execution_count": 4,
   "metadata": {},
   "outputs": [],
   "source": [
    "train_data = tc.SFrame(data)\n",
    "del data"
   ]
  },
  {
   "cell_type": "code",
   "execution_count": 5,
   "metadata": {},
   "outputs": [],
   "source": [
    "def fit_predict(train_data, name, user_id, item_id, target, users_to_recommend, n_rec):\n",
    "    if name == 'popularity':\n",
    "        model = tc.popularity_recommender.create(train_data, \n",
    "                                                    user_id=user_id, \n",
    "                                                    item_id=item_id, \n",
    "                                                    target=target)\n",
    "    elif name == 'cosine':\n",
    "        model = tc.item_similarity_recommender.create(train_data, \n",
    "                                                    user_id=user_id, \n",
    "                                                    item_id=item_id, \n",
    "                                                    target=target, \n",
    "                                                    similarity_type='cosine')\n",
    "    elif name == 'pearson':\n",
    "        model = tc.item_similarity_recommender.create(train_data, \n",
    "                                                    user_id=user_id, \n",
    "                                                    item_id=item_id, \n",
    "                                                    target=target, \n",
    "                                                    similarity_type='pearson')\n",
    "        \n",
    "    recom = model.recommend(users=users_to_recommend, k=n_rec).to_dataframe()\n",
    "    return recom"
   ]
  },
  {
   "cell_type": "code",
   "execution_count": 6,
   "metadata": {},
   "outputs": [
    {
     "data": {
      "text/html": [
       "<pre>Warning: Ignoring columns Unnamed: 0;</pre>"
      ],
      "text/plain": [
       "Warning: Ignoring columns Unnamed: 0;"
      ]
     },
     "metadata": {},
     "output_type": "display_data"
    },
    {
     "data": {
      "text/html": [
       "<pre>    To use these columns in scoring predictions, use a model that allows the use of additional features.</pre>"
      ],
      "text/plain": [
       "    To use these columns in scoring predictions, use a model that allows the use of additional features."
      ]
     },
     "metadata": {},
     "output_type": "display_data"
    },
    {
     "data": {
      "text/html": [
       "<pre>Preparing data set.</pre>"
      ],
      "text/plain": [
       "Preparing data set."
      ]
     },
     "metadata": {},
     "output_type": "display_data"
    },
    {
     "data": {
      "text/html": [
       "<pre>    Data has 46194236 observations with 657502 users and 95002 items.</pre>"
      ],
      "text/plain": [
       "    Data has 46194236 observations with 657502 users and 95002 items."
      ]
     },
     "metadata": {},
     "output_type": "display_data"
    },
    {
     "data": {
      "text/html": [
       "<pre>    Data prepared in: 14.7739s</pre>"
      ],
      "text/plain": [
       "    Data prepared in: 14.7739s"
      ]
     },
     "metadata": {},
     "output_type": "display_data"
    },
    {
     "data": {
      "text/html": [
       "<pre>46194236 observations to process; with 95002 unique items.</pre>"
      ],
      "text/plain": [
       "46194236 observations to process; with 95002 unique items."
      ]
     },
     "metadata": {},
     "output_type": "display_data"
    },
    {
     "data": {
      "text/html": [
       "<pre>recommendations finished on 1000/107068 queries. users per second: 2271.79</pre>"
      ],
      "text/plain": [
       "recommendations finished on 1000/107068 queries. users per second: 2271.79"
      ]
     },
     "metadata": {},
     "output_type": "display_data"
    },
    {
     "data": {
      "text/html": [
       "<pre>recommendations finished on 2000/107068 queries. users per second: 2371.34</pre>"
      ],
      "text/plain": [
       "recommendations finished on 2000/107068 queries. users per second: 2371.34"
      ]
     },
     "metadata": {},
     "output_type": "display_data"
    },
    {
     "data": {
      "text/html": [
       "<pre>recommendations finished on 3000/107068 queries. users per second: 2377.16</pre>"
      ],
      "text/plain": [
       "recommendations finished on 3000/107068 queries. users per second: 2377.16"
      ]
     },
     "metadata": {},
     "output_type": "display_data"
    },
    {
     "data": {
      "text/html": [
       "<pre>recommendations finished on 4000/107068 queries. users per second: 2354.84</pre>"
      ],
      "text/plain": [
       "recommendations finished on 4000/107068 queries. users per second: 2354.84"
      ]
     },
     "metadata": {},
     "output_type": "display_data"
    },
    {
     "data": {
      "text/html": [
       "<pre>recommendations finished on 5000/107068 queries. users per second: 2352.75</pre>"
      ],
      "text/plain": [
       "recommendations finished on 5000/107068 queries. users per second: 2352.75"
      ]
     },
     "metadata": {},
     "output_type": "display_data"
    },
    {
     "data": {
      "text/html": [
       "<pre>recommendations finished on 6000/107068 queries. users per second: 2380.13</pre>"
      ],
      "text/plain": [
       "recommendations finished on 6000/107068 queries. users per second: 2380.13"
      ]
     },
     "metadata": {},
     "output_type": "display_data"
    },
    {
     "data": {
      "text/html": [
       "<pre>recommendations finished on 7000/107068 queries. users per second: 2390.57</pre>"
      ],
      "text/plain": [
       "recommendations finished on 7000/107068 queries. users per second: 2390.57"
      ]
     },
     "metadata": {},
     "output_type": "display_data"
    },
    {
     "data": {
      "text/html": [
       "<pre>recommendations finished on 8000/107068 queries. users per second: 2408.32</pre>"
      ],
      "text/plain": [
       "recommendations finished on 8000/107068 queries. users per second: 2408.32"
      ]
     },
     "metadata": {},
     "output_type": "display_data"
    },
    {
     "data": {
      "text/html": [
       "<pre>recommendations finished on 9000/107068 queries. users per second: 2417.74</pre>"
      ],
      "text/plain": [
       "recommendations finished on 9000/107068 queries. users per second: 2417.74"
      ]
     },
     "metadata": {},
     "output_type": "display_data"
    },
    {
     "data": {
      "text/html": [
       "<pre>recommendations finished on 10000/107068 queries. users per second: 2435.34</pre>"
      ],
      "text/plain": [
       "recommendations finished on 10000/107068 queries. users per second: 2435.34"
      ]
     },
     "metadata": {},
     "output_type": "display_data"
    },
    {
     "data": {
      "text/html": [
       "<pre>recommendations finished on 11000/107068 queries. users per second: 2451.94</pre>"
      ],
      "text/plain": [
       "recommendations finished on 11000/107068 queries. users per second: 2451.94"
      ]
     },
     "metadata": {},
     "output_type": "display_data"
    },
    {
     "data": {
      "text/html": [
       "<pre>recommendations finished on 12000/107068 queries. users per second: 2465.09</pre>"
      ],
      "text/plain": [
       "recommendations finished on 12000/107068 queries. users per second: 2465.09"
      ]
     },
     "metadata": {},
     "output_type": "display_data"
    },
    {
     "data": {
      "text/html": [
       "<pre>recommendations finished on 13000/107068 queries. users per second: 2471.42</pre>"
      ],
      "text/plain": [
       "recommendations finished on 13000/107068 queries. users per second: 2471.42"
      ]
     },
     "metadata": {},
     "output_type": "display_data"
    },
    {
     "data": {
      "text/html": [
       "<pre>recommendations finished on 14000/107068 queries. users per second: 2454.47</pre>"
      ],
      "text/plain": [
       "recommendations finished on 14000/107068 queries. users per second: 2454.47"
      ]
     },
     "metadata": {},
     "output_type": "display_data"
    },
    {
     "data": {
      "text/html": [
       "<pre>recommendations finished on 15000/107068 queries. users per second: 2431.96</pre>"
      ],
      "text/plain": [
       "recommendations finished on 15000/107068 queries. users per second: 2431.96"
      ]
     },
     "metadata": {},
     "output_type": "display_data"
    },
    {
     "data": {
      "text/html": [
       "<pre>recommendations finished on 16000/107068 queries. users per second: 2407.18</pre>"
      ],
      "text/plain": [
       "recommendations finished on 16000/107068 queries. users per second: 2407.18"
      ]
     },
     "metadata": {},
     "output_type": "display_data"
    },
    {
     "data": {
      "text/html": [
       "<pre>recommendations finished on 17000/107068 queries. users per second: 2380.36</pre>"
      ],
      "text/plain": [
       "recommendations finished on 17000/107068 queries. users per second: 2380.36"
      ]
     },
     "metadata": {},
     "output_type": "display_data"
    },
    {
     "data": {
      "text/html": [
       "<pre>recommendations finished on 18000/107068 queries. users per second: 2355.88</pre>"
      ],
      "text/plain": [
       "recommendations finished on 18000/107068 queries. users per second: 2355.88"
      ]
     },
     "metadata": {},
     "output_type": "display_data"
    },
    {
     "data": {
      "text/html": [
       "<pre>recommendations finished on 19000/107068 queries. users per second: 2328.65</pre>"
      ],
      "text/plain": [
       "recommendations finished on 19000/107068 queries. users per second: 2328.65"
      ]
     },
     "metadata": {},
     "output_type": "display_data"
    },
    {
     "data": {
      "text/html": [
       "<pre>recommendations finished on 20000/107068 queries. users per second: 2311.56</pre>"
      ],
      "text/plain": [
       "recommendations finished on 20000/107068 queries. users per second: 2311.56"
      ]
     },
     "metadata": {},
     "output_type": "display_data"
    },
    {
     "data": {
      "text/html": [
       "<pre>recommendations finished on 21000/107068 queries. users per second: 2294.77</pre>"
      ],
      "text/plain": [
       "recommendations finished on 21000/107068 queries. users per second: 2294.77"
      ]
     },
     "metadata": {},
     "output_type": "display_data"
    },
    {
     "data": {
      "text/html": [
       "<pre>recommendations finished on 22000/107068 queries. users per second: 2284.21</pre>"
      ],
      "text/plain": [
       "recommendations finished on 22000/107068 queries. users per second: 2284.21"
      ]
     },
     "metadata": {},
     "output_type": "display_data"
    },
    {
     "data": {
      "text/html": [
       "<pre>recommendations finished on 23000/107068 queries. users per second: 2272.22</pre>"
      ],
      "text/plain": [
       "recommendations finished on 23000/107068 queries. users per second: 2272.22"
      ]
     },
     "metadata": {},
     "output_type": "display_data"
    },
    {
     "data": {
      "text/html": [
       "<pre>recommendations finished on 24000/107068 queries. users per second: 2245.3</pre>"
      ],
      "text/plain": [
       "recommendations finished on 24000/107068 queries. users per second: 2245.3"
      ]
     },
     "metadata": {},
     "output_type": "display_data"
    },
    {
     "data": {
      "text/html": [
       "<pre>recommendations finished on 25000/107068 queries. users per second: 2211.43</pre>"
      ],
      "text/plain": [
       "recommendations finished on 25000/107068 queries. users per second: 2211.43"
      ]
     },
     "metadata": {},
     "output_type": "display_data"
    },
    {
     "data": {
      "text/html": [
       "<pre>recommendations finished on 26000/107068 queries. users per second: 2185.74</pre>"
      ],
      "text/plain": [
       "recommendations finished on 26000/107068 queries. users per second: 2185.74"
      ]
     },
     "metadata": {},
     "output_type": "display_data"
    },
    {
     "data": {
      "text/html": [
       "<pre>recommendations finished on 27000/107068 queries. users per second: 2174.93</pre>"
      ],
      "text/plain": [
       "recommendations finished on 27000/107068 queries. users per second: 2174.93"
      ]
     },
     "metadata": {},
     "output_type": "display_data"
    },
    {
     "data": {
      "text/html": [
       "<pre>recommendations finished on 28000/107068 queries. users per second: 2166.83</pre>"
      ],
      "text/plain": [
       "recommendations finished on 28000/107068 queries. users per second: 2166.83"
      ]
     },
     "metadata": {},
     "output_type": "display_data"
    },
    {
     "data": {
      "text/html": [
       "<pre>recommendations finished on 29000/107068 queries. users per second: 2147.53</pre>"
      ],
      "text/plain": [
       "recommendations finished on 29000/107068 queries. users per second: 2147.53"
      ]
     },
     "metadata": {},
     "output_type": "display_data"
    },
    {
     "data": {
      "text/html": [
       "<pre>recommendations finished on 30000/107068 queries. users per second: 2141.24</pre>"
      ],
      "text/plain": [
       "recommendations finished on 30000/107068 queries. users per second: 2141.24"
      ]
     },
     "metadata": {},
     "output_type": "display_data"
    },
    {
     "data": {
      "text/html": [
       "<pre>recommendations finished on 31000/107068 queries. users per second: 2136.3</pre>"
      ],
      "text/plain": [
       "recommendations finished on 31000/107068 queries. users per second: 2136.3"
      ]
     },
     "metadata": {},
     "output_type": "display_data"
    },
    {
     "data": {
      "text/html": [
       "<pre>recommendations finished on 32000/107068 queries. users per second: 2132.61</pre>"
      ],
      "text/plain": [
       "recommendations finished on 32000/107068 queries. users per second: 2132.61"
      ]
     },
     "metadata": {},
     "output_type": "display_data"
    },
    {
     "data": {
      "text/html": [
       "<pre>recommendations finished on 33000/107068 queries. users per second: 2130.5</pre>"
      ],
      "text/plain": [
       "recommendations finished on 33000/107068 queries. users per second: 2130.5"
      ]
     },
     "metadata": {},
     "output_type": "display_data"
    },
    {
     "data": {
      "text/html": [
       "<pre>recommendations finished on 34000/107068 queries. users per second: 2126.15</pre>"
      ],
      "text/plain": [
       "recommendations finished on 34000/107068 queries. users per second: 2126.15"
      ]
     },
     "metadata": {},
     "output_type": "display_data"
    },
    {
     "data": {
      "text/html": [
       "<pre>recommendations finished on 35000/107068 queries. users per second: 2123.87</pre>"
      ],
      "text/plain": [
       "recommendations finished on 35000/107068 queries. users per second: 2123.87"
      ]
     },
     "metadata": {},
     "output_type": "display_data"
    },
    {
     "data": {
      "text/html": [
       "<pre>recommendations finished on 36000/107068 queries. users per second: 2120.46</pre>"
      ],
      "text/plain": [
       "recommendations finished on 36000/107068 queries. users per second: 2120.46"
      ]
     },
     "metadata": {},
     "output_type": "display_data"
    },
    {
     "data": {
      "text/html": [
       "<pre>recommendations finished on 37000/107068 queries. users per second: 2118.25</pre>"
      ],
      "text/plain": [
       "recommendations finished on 37000/107068 queries. users per second: 2118.25"
      ]
     },
     "metadata": {},
     "output_type": "display_data"
    },
    {
     "data": {
      "text/html": [
       "<pre>recommendations finished on 38000/107068 queries. users per second: 2107.86</pre>"
      ],
      "text/plain": [
       "recommendations finished on 38000/107068 queries. users per second: 2107.86"
      ]
     },
     "metadata": {},
     "output_type": "display_data"
    },
    {
     "data": {
      "text/html": [
       "<pre>recommendations finished on 39000/107068 queries. users per second: 2098.82</pre>"
      ],
      "text/plain": [
       "recommendations finished on 39000/107068 queries. users per second: 2098.82"
      ]
     },
     "metadata": {},
     "output_type": "display_data"
    },
    {
     "data": {
      "text/html": [
       "<pre>recommendations finished on 40000/107068 queries. users per second: 2094.05</pre>"
      ],
      "text/plain": [
       "recommendations finished on 40000/107068 queries. users per second: 2094.05"
      ]
     },
     "metadata": {},
     "output_type": "display_data"
    },
    {
     "data": {
      "text/html": [
       "<pre>recommendations finished on 41000/107068 queries. users per second: 2091.37</pre>"
      ],
      "text/plain": [
       "recommendations finished on 41000/107068 queries. users per second: 2091.37"
      ]
     },
     "metadata": {},
     "output_type": "display_data"
    },
    {
     "data": {
      "text/html": [
       "<pre>recommendations finished on 42000/107068 queries. users per second: 2089.17</pre>"
      ],
      "text/plain": [
       "recommendations finished on 42000/107068 queries. users per second: 2089.17"
      ]
     },
     "metadata": {},
     "output_type": "display_data"
    },
    {
     "data": {
      "text/html": [
       "<pre>recommendations finished on 43000/107068 queries. users per second: 2082.39</pre>"
      ],
      "text/plain": [
       "recommendations finished on 43000/107068 queries. users per second: 2082.39"
      ]
     },
     "metadata": {},
     "output_type": "display_data"
    },
    {
     "data": {
      "text/html": [
       "<pre>recommendations finished on 44000/107068 queries. users per second: 2079.95</pre>"
      ],
      "text/plain": [
       "recommendations finished on 44000/107068 queries. users per second: 2079.95"
      ]
     },
     "metadata": {},
     "output_type": "display_data"
    },
    {
     "data": {
      "text/html": [
       "<pre>recommendations finished on 45000/107068 queries. users per second: 2078.29</pre>"
      ],
      "text/plain": [
       "recommendations finished on 45000/107068 queries. users per second: 2078.29"
      ]
     },
     "metadata": {},
     "output_type": "display_data"
    },
    {
     "data": {
      "text/html": [
       "<pre>recommendations finished on 46000/107068 queries. users per second: 2077.04</pre>"
      ],
      "text/plain": [
       "recommendations finished on 46000/107068 queries. users per second: 2077.04"
      ]
     },
     "metadata": {},
     "output_type": "display_data"
    },
    {
     "data": {
      "text/html": [
       "<pre>recommendations finished on 47000/107068 queries. users per second: 2075.9</pre>"
      ],
      "text/plain": [
       "recommendations finished on 47000/107068 queries. users per second: 2075.9"
      ]
     },
     "metadata": {},
     "output_type": "display_data"
    },
    {
     "data": {
      "text/html": [
       "<pre>recommendations finished on 48000/107068 queries. users per second: 2074.58</pre>"
      ],
      "text/plain": [
       "recommendations finished on 48000/107068 queries. users per second: 2074.58"
      ]
     },
     "metadata": {},
     "output_type": "display_data"
    },
    {
     "data": {
      "text/html": [
       "<pre>recommendations finished on 49000/107068 queries. users per second: 2074.54</pre>"
      ],
      "text/plain": [
       "recommendations finished on 49000/107068 queries. users per second: 2074.54"
      ]
     },
     "metadata": {},
     "output_type": "display_data"
    },
    {
     "data": {
      "text/html": [
       "<pre>recommendations finished on 50000/107068 queries. users per second: 2072.8</pre>"
      ],
      "text/plain": [
       "recommendations finished on 50000/107068 queries. users per second: 2072.8"
      ]
     },
     "metadata": {},
     "output_type": "display_data"
    },
    {
     "data": {
      "text/html": [
       "<pre>recommendations finished on 51000/107068 queries. users per second: 2073.11</pre>"
      ],
      "text/plain": [
       "recommendations finished on 51000/107068 queries. users per second: 2073.11"
      ]
     },
     "metadata": {},
     "output_type": "display_data"
    },
    {
     "data": {
      "text/html": [
       "<pre>recommendations finished on 52000/107068 queries. users per second: 2073.04</pre>"
      ],
      "text/plain": [
       "recommendations finished on 52000/107068 queries. users per second: 2073.04"
      ]
     },
     "metadata": {},
     "output_type": "display_data"
    },
    {
     "data": {
      "text/html": [
       "<pre>recommendations finished on 53000/107068 queries. users per second: 2072.68</pre>"
      ],
      "text/plain": [
       "recommendations finished on 53000/107068 queries. users per second: 2072.68"
      ]
     },
     "metadata": {},
     "output_type": "display_data"
    },
    {
     "data": {
      "text/html": [
       "<pre>recommendations finished on 54000/107068 queries. users per second: 2073.22</pre>"
      ],
      "text/plain": [
       "recommendations finished on 54000/107068 queries. users per second: 2073.22"
      ]
     },
     "metadata": {},
     "output_type": "display_data"
    },
    {
     "data": {
      "text/html": [
       "<pre>recommendations finished on 55000/107068 queries. users per second: 2073.54</pre>"
      ],
      "text/plain": [
       "recommendations finished on 55000/107068 queries. users per second: 2073.54"
      ]
     },
     "metadata": {},
     "output_type": "display_data"
    },
    {
     "data": {
      "text/html": [
       "<pre>recommendations finished on 56000/107068 queries. users per second: 2074.72</pre>"
      ],
      "text/plain": [
       "recommendations finished on 56000/107068 queries. users per second: 2074.72"
      ]
     },
     "metadata": {},
     "output_type": "display_data"
    },
    {
     "data": {
      "text/html": [
       "<pre>recommendations finished on 57000/107068 queries. users per second: 2075.25</pre>"
      ],
      "text/plain": [
       "recommendations finished on 57000/107068 queries. users per second: 2075.25"
      ]
     },
     "metadata": {},
     "output_type": "display_data"
    },
    {
     "data": {
      "text/html": [
       "<pre>recommendations finished on 58000/107068 queries. users per second: 2077.05</pre>"
      ],
      "text/plain": [
       "recommendations finished on 58000/107068 queries. users per second: 2077.05"
      ]
     },
     "metadata": {},
     "output_type": "display_data"
    },
    {
     "data": {
      "text/html": [
       "<pre>recommendations finished on 59000/107068 queries. users per second: 2078.18</pre>"
      ],
      "text/plain": [
       "recommendations finished on 59000/107068 queries. users per second: 2078.18"
      ]
     },
     "metadata": {},
     "output_type": "display_data"
    },
    {
     "data": {
      "text/html": [
       "<pre>recommendations finished on 60000/107068 queries. users per second: 2078.87</pre>"
      ],
      "text/plain": [
       "recommendations finished on 60000/107068 queries. users per second: 2078.87"
      ]
     },
     "metadata": {},
     "output_type": "display_data"
    },
    {
     "data": {
      "text/html": [
       "<pre>recommendations finished on 61000/107068 queries. users per second: 2080.15</pre>"
      ],
      "text/plain": [
       "recommendations finished on 61000/107068 queries. users per second: 2080.15"
      ]
     },
     "metadata": {},
     "output_type": "display_data"
    },
    {
     "data": {
      "text/html": [
       "<pre>recommendations finished on 62000/107068 queries. users per second: 2081.28</pre>"
      ],
      "text/plain": [
       "recommendations finished on 62000/107068 queries. users per second: 2081.28"
      ]
     },
     "metadata": {},
     "output_type": "display_data"
    },
    {
     "data": {
      "text/html": [
       "<pre>recommendations finished on 63000/107068 queries. users per second: 2082.44</pre>"
      ],
      "text/plain": [
       "recommendations finished on 63000/107068 queries. users per second: 2082.44"
      ]
     },
     "metadata": {},
     "output_type": "display_data"
    },
    {
     "data": {
      "text/html": [
       "<pre>recommendations finished on 64000/107068 queries. users per second: 2082.55</pre>"
      ],
      "text/plain": [
       "recommendations finished on 64000/107068 queries. users per second: 2082.55"
      ]
     },
     "metadata": {},
     "output_type": "display_data"
    },
    {
     "data": {
      "text/html": [
       "<pre>recommendations finished on 65000/107068 queries. users per second: 2082.61</pre>"
      ],
      "text/plain": [
       "recommendations finished on 65000/107068 queries. users per second: 2082.61"
      ]
     },
     "metadata": {},
     "output_type": "display_data"
    },
    {
     "data": {
      "text/html": [
       "<pre>recommendations finished on 66000/107068 queries. users per second: 2082.71</pre>"
      ],
      "text/plain": [
       "recommendations finished on 66000/107068 queries. users per second: 2082.71"
      ]
     },
     "metadata": {},
     "output_type": "display_data"
    },
    {
     "data": {
      "text/html": [
       "<pre>recommendations finished on 67000/107068 queries. users per second: 2083.14</pre>"
      ],
      "text/plain": [
       "recommendations finished on 67000/107068 queries. users per second: 2083.14"
      ]
     },
     "metadata": {},
     "output_type": "display_data"
    },
    {
     "data": {
      "text/html": [
       "<pre>recommendations finished on 68000/107068 queries. users per second: 2082.74</pre>"
      ],
      "text/plain": [
       "recommendations finished on 68000/107068 queries. users per second: 2082.74"
      ]
     },
     "metadata": {},
     "output_type": "display_data"
    },
    {
     "data": {
      "text/html": [
       "<pre>recommendations finished on 69000/107068 queries. users per second: 2082.69</pre>"
      ],
      "text/plain": [
       "recommendations finished on 69000/107068 queries. users per second: 2082.69"
      ]
     },
     "metadata": {},
     "output_type": "display_data"
    },
    {
     "data": {
      "text/html": [
       "<pre>recommendations finished on 70000/107068 queries. users per second: 2082.7</pre>"
      ],
      "text/plain": [
       "recommendations finished on 70000/107068 queries. users per second: 2082.7"
      ]
     },
     "metadata": {},
     "output_type": "display_data"
    },
    {
     "data": {
      "text/html": [
       "<pre>recommendations finished on 71000/107068 queries. users per second: 2083.71</pre>"
      ],
      "text/plain": [
       "recommendations finished on 71000/107068 queries. users per second: 2083.71"
      ]
     },
     "metadata": {},
     "output_type": "display_data"
    },
    {
     "data": {
      "text/html": [
       "<pre>recommendations finished on 72000/107068 queries. users per second: 2084.58</pre>"
      ],
      "text/plain": [
       "recommendations finished on 72000/107068 queries. users per second: 2084.58"
      ]
     },
     "metadata": {},
     "output_type": "display_data"
    },
    {
     "data": {
      "text/html": [
       "<pre>recommendations finished on 73000/107068 queries. users per second: 2085.67</pre>"
      ],
      "text/plain": [
       "recommendations finished on 73000/107068 queries. users per second: 2085.67"
      ]
     },
     "metadata": {},
     "output_type": "display_data"
    },
    {
     "data": {
      "text/html": [
       "<pre>recommendations finished on 74000/107068 queries. users per second: 2086.53</pre>"
      ],
      "text/plain": [
       "recommendations finished on 74000/107068 queries. users per second: 2086.53"
      ]
     },
     "metadata": {},
     "output_type": "display_data"
    },
    {
     "data": {
      "text/html": [
       "<pre>recommendations finished on 75000/107068 queries. users per second: 2087.1</pre>"
      ],
      "text/plain": [
       "recommendations finished on 75000/107068 queries. users per second: 2087.1"
      ]
     },
     "metadata": {},
     "output_type": "display_data"
    },
    {
     "data": {
      "text/html": [
       "<pre>recommendations finished on 76000/107068 queries. users per second: 2086.02</pre>"
      ],
      "text/plain": [
       "recommendations finished on 76000/107068 queries. users per second: 2086.02"
      ]
     },
     "metadata": {},
     "output_type": "display_data"
    },
    {
     "data": {
      "text/html": [
       "<pre>recommendations finished on 77000/107068 queries. users per second: 2085.35</pre>"
      ],
      "text/plain": [
       "recommendations finished on 77000/107068 queries. users per second: 2085.35"
      ]
     },
     "metadata": {},
     "output_type": "display_data"
    },
    {
     "data": {
      "text/html": [
       "<pre>recommendations finished on 78000/107068 queries. users per second: 2085.94</pre>"
      ],
      "text/plain": [
       "recommendations finished on 78000/107068 queries. users per second: 2085.94"
      ]
     },
     "metadata": {},
     "output_type": "display_data"
    },
    {
     "data": {
      "text/html": [
       "<pre>recommendations finished on 79000/107068 queries. users per second: 2083.91</pre>"
      ],
      "text/plain": [
       "recommendations finished on 79000/107068 queries. users per second: 2083.91"
      ]
     },
     "metadata": {},
     "output_type": "display_data"
    },
    {
     "data": {
      "text/html": [
       "<pre>recommendations finished on 80000/107068 queries. users per second: 2082.58</pre>"
      ],
      "text/plain": [
       "recommendations finished on 80000/107068 queries. users per second: 2082.58"
      ]
     },
     "metadata": {},
     "output_type": "display_data"
    },
    {
     "data": {
      "text/html": [
       "<pre>recommendations finished on 81000/107068 queries. users per second: 2082.46</pre>"
      ],
      "text/plain": [
       "recommendations finished on 81000/107068 queries. users per second: 2082.46"
      ]
     },
     "metadata": {},
     "output_type": "display_data"
    },
    {
     "data": {
      "text/html": [
       "<pre>recommendations finished on 82000/107068 queries. users per second: 2082.9</pre>"
      ],
      "text/plain": [
       "recommendations finished on 82000/107068 queries. users per second: 2082.9"
      ]
     },
     "metadata": {},
     "output_type": "display_data"
    },
    {
     "data": {
      "text/html": [
       "<pre>recommendations finished on 83000/107068 queries. users per second: 2083.92</pre>"
      ],
      "text/plain": [
       "recommendations finished on 83000/107068 queries. users per second: 2083.92"
      ]
     },
     "metadata": {},
     "output_type": "display_data"
    },
    {
     "data": {
      "text/html": [
       "<pre>recommendations finished on 84000/107068 queries. users per second: 2080.02</pre>"
      ],
      "text/plain": [
       "recommendations finished on 84000/107068 queries. users per second: 2080.02"
      ]
     },
     "metadata": {},
     "output_type": "display_data"
    },
    {
     "data": {
      "text/html": [
       "<pre>recommendations finished on 85000/107068 queries. users per second: 2075.72</pre>"
      ],
      "text/plain": [
       "recommendations finished on 85000/107068 queries. users per second: 2075.72"
      ]
     },
     "metadata": {},
     "output_type": "display_data"
    },
    {
     "data": {
      "text/html": [
       "<pre>recommendations finished on 86000/107068 queries. users per second: 2071.7</pre>"
      ],
      "text/plain": [
       "recommendations finished on 86000/107068 queries. users per second: 2071.7"
      ]
     },
     "metadata": {},
     "output_type": "display_data"
    },
    {
     "data": {
      "text/html": [
       "<pre>recommendations finished on 87000/107068 queries. users per second: 2069.01</pre>"
      ],
      "text/plain": [
       "recommendations finished on 87000/107068 queries. users per second: 2069.01"
      ]
     },
     "metadata": {},
     "output_type": "display_data"
    },
    {
     "data": {
      "text/html": [
       "<pre>recommendations finished on 88000/107068 queries. users per second: 2069.01</pre>"
      ],
      "text/plain": [
       "recommendations finished on 88000/107068 queries. users per second: 2069.01"
      ]
     },
     "metadata": {},
     "output_type": "display_data"
    },
    {
     "data": {
      "text/html": [
       "<pre>recommendations finished on 89000/107068 queries. users per second: 2067.1</pre>"
      ],
      "text/plain": [
       "recommendations finished on 89000/107068 queries. users per second: 2067.1"
      ]
     },
     "metadata": {},
     "output_type": "display_data"
    },
    {
     "data": {
      "text/html": [
       "<pre>recommendations finished on 90000/107068 queries. users per second: 2067.36</pre>"
      ],
      "text/plain": [
       "recommendations finished on 90000/107068 queries. users per second: 2067.36"
      ]
     },
     "metadata": {},
     "output_type": "display_data"
    },
    {
     "data": {
      "text/html": [
       "<pre>recommendations finished on 91000/107068 queries. users per second: 2065.61</pre>"
      ],
      "text/plain": [
       "recommendations finished on 91000/107068 queries. users per second: 2065.61"
      ]
     },
     "metadata": {},
     "output_type": "display_data"
    },
    {
     "data": {
      "text/html": [
       "<pre>recommendations finished on 92000/107068 queries. users per second: 2062.46</pre>"
      ],
      "text/plain": [
       "recommendations finished on 92000/107068 queries. users per second: 2062.46"
      ]
     },
     "metadata": {},
     "output_type": "display_data"
    },
    {
     "data": {
      "text/html": [
       "<pre>recommendations finished on 93000/107068 queries. users per second: 2059.29</pre>"
      ],
      "text/plain": [
       "recommendations finished on 93000/107068 queries. users per second: 2059.29"
      ]
     },
     "metadata": {},
     "output_type": "display_data"
    },
    {
     "data": {
      "text/html": [
       "<pre>recommendations finished on 94000/107068 queries. users per second: 2056.41</pre>"
      ],
      "text/plain": [
       "recommendations finished on 94000/107068 queries. users per second: 2056.41"
      ]
     },
     "metadata": {},
     "output_type": "display_data"
    },
    {
     "data": {
      "text/html": [
       "<pre>recommendations finished on 95000/107068 queries. users per second: 2052.99</pre>"
      ],
      "text/plain": [
       "recommendations finished on 95000/107068 queries. users per second: 2052.99"
      ]
     },
     "metadata": {},
     "output_type": "display_data"
    },
    {
     "data": {
      "text/html": [
       "<pre>recommendations finished on 96000/107068 queries. users per second: 2052.24</pre>"
      ],
      "text/plain": [
       "recommendations finished on 96000/107068 queries. users per second: 2052.24"
      ]
     },
     "metadata": {},
     "output_type": "display_data"
    },
    {
     "data": {
      "text/html": [
       "<pre>recommendations finished on 97000/107068 queries. users per second: 2052.33</pre>"
      ],
      "text/plain": [
       "recommendations finished on 97000/107068 queries. users per second: 2052.33"
      ]
     },
     "metadata": {},
     "output_type": "display_data"
    },
    {
     "data": {
      "text/html": [
       "<pre>recommendations finished on 98000/107068 queries. users per second: 2050.28</pre>"
      ],
      "text/plain": [
       "recommendations finished on 98000/107068 queries. users per second: 2050.28"
      ]
     },
     "metadata": {},
     "output_type": "display_data"
    },
    {
     "data": {
      "text/html": [
       "<pre>recommendations finished on 99000/107068 queries. users per second: 2049.92</pre>"
      ],
      "text/plain": [
       "recommendations finished on 99000/107068 queries. users per second: 2049.92"
      ]
     },
     "metadata": {},
     "output_type": "display_data"
    },
    {
     "data": {
      "text/html": [
       "<pre>recommendations finished on 100000/107068 queries. users per second: 2050.64</pre>"
      ],
      "text/plain": [
       "recommendations finished on 100000/107068 queries. users per second: 2050.64"
      ]
     },
     "metadata": {},
     "output_type": "display_data"
    },
    {
     "data": {
      "text/html": [
       "<pre>recommendations finished on 101000/107068 queries. users per second: 2048.89</pre>"
      ],
      "text/plain": [
       "recommendations finished on 101000/107068 queries. users per second: 2048.89"
      ]
     },
     "metadata": {},
     "output_type": "display_data"
    },
    {
     "data": {
      "text/html": [
       "<pre>recommendations finished on 102000/107068 queries. users per second: 2042.45</pre>"
      ],
      "text/plain": [
       "recommendations finished on 102000/107068 queries. users per second: 2042.45"
      ]
     },
     "metadata": {},
     "output_type": "display_data"
    },
    {
     "data": {
      "text/html": [
       "<pre>recommendations finished on 103000/107068 queries. users per second: 2040.59</pre>"
      ],
      "text/plain": [
       "recommendations finished on 103000/107068 queries. users per second: 2040.59"
      ]
     },
     "metadata": {},
     "output_type": "display_data"
    },
    {
     "data": {
      "text/html": [
       "<pre>recommendations finished on 104000/107068 queries. users per second: 2039</pre>"
      ],
      "text/plain": [
       "recommendations finished on 104000/107068 queries. users per second: 2039"
      ]
     },
     "metadata": {},
     "output_type": "display_data"
    },
    {
     "data": {
      "text/html": [
       "<pre>recommendations finished on 105000/107068 queries. users per second: 2037.54</pre>"
      ],
      "text/plain": [
       "recommendations finished on 105000/107068 queries. users per second: 2037.54"
      ]
     },
     "metadata": {},
     "output_type": "display_data"
    },
    {
     "data": {
      "text/html": [
       "<pre>recommendations finished on 106000/107068 queries. users per second: 2036.86</pre>"
      ],
      "text/plain": [
       "recommendations finished on 106000/107068 queries. users per second: 2036.86"
      ]
     },
     "metadata": {},
     "output_type": "display_data"
    },
    {
     "data": {
      "text/html": [
       "<pre>recommendations finished on 107000/107068 queries. users per second: 2023.79</pre>"
      ],
      "text/plain": [
       "recommendations finished on 107000/107068 queries. users per second: 2023.79"
      ]
     },
     "metadata": {},
     "output_type": "display_data"
    }
   ],
   "source": [
    "name = 'popularity'\n",
    "target = 'purchase_count'\n",
    "popularity = fit_predict(train_data, name, user_id, item_id, target, users_to_recommend, n_rec)\n",
    "popularity.to_csv(\"popularity.csv\")\n",
    "del popularity"
   ]
  },
  {
   "cell_type": "code",
   "execution_count": 9,
   "metadata": {},
   "outputs": [
    {
     "data": {
      "text/html": [
       "<pre>Warning: Ignoring columns Unnamed: 0;</pre>"
      ],
      "text/plain": [
       "Warning: Ignoring columns Unnamed: 0;"
      ]
     },
     "metadata": {},
     "output_type": "display_data"
    },
    {
     "data": {
      "text/html": [
       "<pre>    To use these columns in scoring predictions, use a model that allows the use of additional features.</pre>"
      ],
      "text/plain": [
       "    To use these columns in scoring predictions, use a model that allows the use of additional features."
      ]
     },
     "metadata": {},
     "output_type": "display_data"
    },
    {
     "data": {
      "text/html": [
       "<pre>Preparing data set.</pre>"
      ],
      "text/plain": [
       "Preparing data set."
      ]
     },
     "metadata": {},
     "output_type": "display_data"
    },
    {
     "data": {
      "text/html": [
       "<pre>    Data has 46194236 observations with 657502 users and 95002 items.</pre>"
      ],
      "text/plain": [
       "    Data has 46194236 observations with 657502 users and 95002 items."
      ]
     },
     "metadata": {},
     "output_type": "display_data"
    },
    {
     "data": {
      "text/html": [
       "<pre>    Data prepared in: 15.8996s</pre>"
      ],
      "text/plain": [
       "    Data prepared in: 15.8996s"
      ]
     },
     "metadata": {},
     "output_type": "display_data"
    },
    {
     "data": {
      "text/html": [
       "<pre>Training model from provided data.</pre>"
      ],
      "text/plain": [
       "Training model from provided data."
      ]
     },
     "metadata": {},
     "output_type": "display_data"
    },
    {
     "data": {
      "text/html": [
       "<pre>Gathering per-item and per-user statistics.</pre>"
      ],
      "text/plain": [
       "Gathering per-item and per-user statistics."
      ]
     },
     "metadata": {},
     "output_type": "display_data"
    },
    {
     "data": {
      "text/html": [
       "<pre>+--------------------------------+------------+</pre>"
      ],
      "text/plain": [
       "+--------------------------------+------------+"
      ]
     },
     "metadata": {},
     "output_type": "display_data"
    },
    {
     "data": {
      "text/html": [
       "<pre>| Elapsed Time (Item Statistics) | % Complete |</pre>"
      ],
      "text/plain": [
       "| Elapsed Time (Item Statistics) | % Complete |"
      ]
     },
     "metadata": {},
     "output_type": "display_data"
    },
    {
     "data": {
      "text/html": [
       "<pre>+--------------------------------+------------+</pre>"
      ],
      "text/plain": [
       "+--------------------------------+------------+"
      ]
     },
     "metadata": {},
     "output_type": "display_data"
    },
    {
     "data": {
      "text/html": [
       "<pre>| 6.116ms                        | 0          |</pre>"
      ],
      "text/plain": [
       "| 6.116ms                        | 0          |"
      ]
     },
     "metadata": {},
     "output_type": "display_data"
    },
    {
     "data": {
      "text/html": [
       "<pre>| 415.488ms                      | 100        |</pre>"
      ],
      "text/plain": [
       "| 415.488ms                      | 100        |"
      ]
     },
     "metadata": {},
     "output_type": "display_data"
    },
    {
     "data": {
      "text/html": [
       "<pre>+--------------------------------+------------+</pre>"
      ],
      "text/plain": [
       "+--------------------------------+------------+"
      ]
     },
     "metadata": {},
     "output_type": "display_data"
    },
    {
     "data": {
      "text/html": [
       "<pre>Setting up lookup tables.</pre>"
      ],
      "text/plain": [
       "Setting up lookup tables."
      ]
     },
     "metadata": {},
     "output_type": "display_data"
    },
    {
     "data": {
      "text/html": [
       "<pre>Processing the 98 most common items by brute force search.</pre>"
      ],
      "text/plain": [
       "Processing the 98 most common items by brute force search."
      ]
     },
     "metadata": {},
     "output_type": "display_data"
    },
    {
     "data": {
      "text/html": [
       "<pre>Transposing user-item lists for use in nearest neighbor search.</pre>"
      ],
      "text/plain": [
       "Transposing user-item lists for use in nearest neighbor search."
      ]
     },
     "metadata": {},
     "output_type": "display_data"
    },
    {
     "data": {
      "text/html": [
       "<pre>+------------------------------------+------------+</pre>"
      ],
      "text/plain": [
       "+------------------------------------+------------+"
      ]
     },
     "metadata": {},
     "output_type": "display_data"
    },
    {
     "data": {
      "text/html": [
       "<pre>| Elapsed Time (Data Transposition)) | % Complete |</pre>"
      ],
      "text/plain": [
       "| Elapsed Time (Data Transposition)) | % Complete |"
      ]
     },
     "metadata": {},
     "output_type": "display_data"
    },
    {
     "data": {
      "text/html": [
       "<pre>+------------------------------------+------------+</pre>"
      ],
      "text/plain": [
       "+------------------------------------+------------+"
      ]
     },
     "metadata": {},
     "output_type": "display_data"
    },
    {
     "data": {
      "text/html": [
       "<pre>| 248.421ms                          | 0          |</pre>"
      ],
      "text/plain": [
       "| 248.421ms                          | 0          |"
      ]
     },
     "metadata": {},
     "output_type": "display_data"
    },
    {
     "data": {
      "text/html": [
       "<pre>| 2.32s                              | 100        |</pre>"
      ],
      "text/plain": [
       "| 2.32s                              | 100        |"
      ]
     },
     "metadata": {},
     "output_type": "display_data"
    },
    {
     "data": {
      "text/html": [
       "<pre>+------------------------------------+------------+</pre>"
      ],
      "text/plain": [
       "+------------------------------------+------------+"
      ]
     },
     "metadata": {},
     "output_type": "display_data"
    },
    {
     "data": {
      "text/html": [
       "<pre>+-------------------------------------+------------------+-----------------+</pre>"
      ],
      "text/plain": [
       "+-------------------------------------+------------------+-----------------+"
      ]
     },
     "metadata": {},
     "output_type": "display_data"
    },
    {
     "data": {
      "text/html": [
       "<pre>| Elapsed Time (Constructing Lookups) | Total % Complete | Items Processed |</pre>"
      ],
      "text/plain": [
       "| Elapsed Time (Constructing Lookups) | Total % Complete | Items Processed |"
      ]
     },
     "metadata": {},
     "output_type": "display_data"
    },
    {
     "data": {
      "text/html": [
       "<pre>+-------------------------------------+------------------+-----------------+</pre>"
      ],
      "text/plain": [
       "+-------------------------------------+------------------+-----------------+"
      ]
     },
     "metadata": {},
     "output_type": "display_data"
    },
    {
     "data": {
      "text/html": [
       "<pre>| 3.09s                               | 0                | 0               |</pre>"
      ],
      "text/plain": [
       "| 3.09s                               | 0                | 0               |"
      ]
     },
     "metadata": {},
     "output_type": "display_data"
    },
    {
     "data": {
      "text/html": [
       "<pre>| 6.09s                               | 0                | 78              |</pre>"
      ],
      "text/plain": [
       "| 6.09s                               | 0                | 78              |"
      ]
     },
     "metadata": {},
     "output_type": "display_data"
    },
    {
     "data": {
      "text/html": [
       "<pre>| 9.09s                               | 0                | 85              |</pre>"
      ],
      "text/plain": [
       "| 9.09s                               | 0                | 85              |"
      ]
     },
     "metadata": {},
     "output_type": "display_data"
    },
    {
     "data": {
      "text/html": [
       "<pre>| 12.09s                              | 0                | 88              |</pre>"
      ],
      "text/plain": [
       "| 12.09s                              | 0                | 88              |"
      ]
     },
     "metadata": {},
     "output_type": "display_data"
    },
    {
     "data": {
      "text/html": [
       "<pre>| 15.09s                              | 0                | 91              |</pre>"
      ],
      "text/plain": [
       "| 15.09s                              | 0                | 91              |"
      ]
     },
     "metadata": {},
     "output_type": "display_data"
    },
    {
     "data": {
      "text/html": [
       "<pre>| 18.09s                              | 0                | 93              |</pre>"
      ],
      "text/plain": [
       "| 18.09s                              | 0                | 93              |"
      ]
     },
     "metadata": {},
     "output_type": "display_data"
    },
    {
     "data": {
      "text/html": [
       "<pre>| 21.09s                              | 0                | 96              |</pre>"
      ],
      "text/plain": [
       "| 21.09s                              | 0                | 96              |"
      ]
     },
     "metadata": {},
     "output_type": "display_data"
    },
    {
     "data": {
      "text/html": [
       "<pre>+-------------------------------------+------------------+-----------------+</pre>"
      ],
      "text/plain": [
       "+-------------------------------------+------------------+-----------------+"
      ]
     },
     "metadata": {},
     "output_type": "display_data"
    },
    {
     "data": {
      "text/html": [
       "<pre>Processing data in 5 passes using dense lookup tables.</pre>"
      ],
      "text/plain": [
       "Processing data in 5 passes using dense lookup tables."
      ]
     },
     "metadata": {},
     "output_type": "display_data"
    },
    {
     "data": {
      "text/html": [
       "<pre>+-------------------------------------+------------------+-----------------+</pre>"
      ],
      "text/plain": [
       "+-------------------------------------+------------------+-----------------+"
      ]
     },
     "metadata": {},
     "output_type": "display_data"
    },
    {
     "data": {
      "text/html": [
       "<pre>| Elapsed Time (Constructing Lookups) | Total % Complete | Items Processed |</pre>"
      ],
      "text/plain": [
       "| Elapsed Time (Constructing Lookups) | Total % Complete | Items Processed |"
      ]
     },
     "metadata": {},
     "output_type": "display_data"
    },
    {
     "data": {
      "text/html": [
       "<pre>+-------------------------------------+------------------+-----------------+</pre>"
      ],
      "text/plain": [
       "+-------------------------------------+------------------+-----------------+"
      ]
     },
     "metadata": {},
     "output_type": "display_data"
    },
    {
     "data": {
      "text/html": [
       "<pre>| 25.04s                              | 0                | 97              |</pre>"
      ],
      "text/plain": [
       "| 25.04s                              | 0                | 97              |"
      ]
     },
     "metadata": {},
     "output_type": "display_data"
    },
    {
     "data": {
      "text/html": [
       "<pre>| 27.09s                              | 1                | 1165            |</pre>"
      ],
      "text/plain": [
       "| 27.09s                              | 1                | 1165            |"
      ]
     },
     "metadata": {},
     "output_type": "display_data"
    },
    {
     "data": {
      "text/html": [
       "<pre>| 30.09s                              | 2.5              | 2583            |</pre>"
      ],
      "text/plain": [
       "| 30.09s                              | 2.5              | 2583            |"
      ]
     },
     "metadata": {},
     "output_type": "display_data"
    },
    {
     "data": {
      "text/html": [
       "<pre>| 33.10s                              | 4.25             | 4090            |</pre>"
      ],
      "text/plain": [
       "| 33.10s                              | 4.25             | 4090            |"
      ]
     },
     "metadata": {},
     "output_type": "display_data"
    },
    {
     "data": {
      "text/html": [
       "<pre>| 36.10s                              | 5.5              | 5376            |</pre>"
      ],
      "text/plain": [
       "| 36.10s                              | 5.5              | 5376            |"
      ]
     },
     "metadata": {},
     "output_type": "display_data"
    },
    {
     "data": {
      "text/html": [
       "<pre>| 39.10s                              | 7                | 6803            |</pre>"
      ],
      "text/plain": [
       "| 39.10s                              | 7                | 6803            |"
      ]
     },
     "metadata": {},
     "output_type": "display_data"
    },
    {
     "data": {
      "text/html": [
       "<pre>| 42.10s                              | 8.5              | 8121            |</pre>"
      ],
      "text/plain": [
       "| 42.10s                              | 8.5              | 8121            |"
      ]
     },
     "metadata": {},
     "output_type": "display_data"
    },
    {
     "data": {
      "text/html": [
       "<pre>| 45.10s                              | 9.75             | 9460            |</pre>"
      ],
      "text/plain": [
       "| 45.10s                              | 9.75             | 9460            |"
      ]
     },
     "metadata": {},
     "output_type": "display_data"
    },
    {
     "data": {
      "text/html": [
       "<pre>| 48.10s                              | 11.25            | 10854           |</pre>"
      ],
      "text/plain": [
       "| 48.10s                              | 11.25            | 10854           |"
      ]
     },
     "metadata": {},
     "output_type": "display_data"
    },
    {
     "data": {
      "text/html": [
       "<pre>| 51.10s                              | 12.75            | 12283           |</pre>"
      ],
      "text/plain": [
       "| 51.10s                              | 12.75            | 12283           |"
      ]
     },
     "metadata": {},
     "output_type": "display_data"
    },
    {
     "data": {
      "text/html": [
       "<pre>| 54.10s                              | 14.25            | 13712           |</pre>"
      ],
      "text/plain": [
       "| 54.10s                              | 14.25            | 13712           |"
      ]
     },
     "metadata": {},
     "output_type": "display_data"
    },
    {
     "data": {
      "text/html": [
       "<pre>| 57.10s                              | 15.75            | 15056           |</pre>"
      ],
      "text/plain": [
       "| 57.10s                              | 15.75            | 15056           |"
      ]
     },
     "metadata": {},
     "output_type": "display_data"
    },
    {
     "data": {
      "text/html": [
       "<pre>| 1m 0s                               | 17.25            | 16415           |</pre>"
      ],
      "text/plain": [
       "| 1m 0s                               | 17.25            | 16415           |"
      ]
     },
     "metadata": {},
     "output_type": "display_data"
    },
    {
     "data": {
      "text/html": [
       "<pre>| 1m 3s                               | 18.75            | 17819           |</pre>"
      ],
      "text/plain": [
       "| 1m 3s                               | 18.75            | 17819           |"
      ]
     },
     "metadata": {},
     "output_type": "display_data"
    },
    {
     "data": {
      "text/html": [
       "<pre>| 1m 15s                              | 20               | 19055           |</pre>"
      ],
      "text/plain": [
       "| 1m 15s                              | 20               | 19055           |"
      ]
     },
     "metadata": {},
     "output_type": "display_data"
    },
    {
     "data": {
      "text/html": [
       "<pre>| 1m 18s                              | 28.5             | 27185           |</pre>"
      ],
      "text/plain": [
       "| 1m 18s                              | 28.5             | 27185           |"
      ]
     },
     "metadata": {},
     "output_type": "display_data"
    },
    {
     "data": {
      "text/html": [
       "<pre>| 1m 21s                              | 36.5             | 34760           |</pre>"
      ],
      "text/plain": [
       "| 1m 21s                              | 36.5             | 34760           |"
      ]
     },
     "metadata": {},
     "output_type": "display_data"
    },
    {
     "data": {
      "text/html": [
       "<pre>| 1m 32s                              | 40               | 38013           |</pre>"
      ],
      "text/plain": [
       "| 1m 32s                              | 40               | 38013           |"
      ]
     },
     "metadata": {},
     "output_type": "display_data"
    },
    {
     "data": {
      "text/html": [
       "<pre>| 1m 45s                              | 59.75            | 56971           |</pre>"
      ],
      "text/plain": [
       "| 1m 45s                              | 59.75            | 56971           |"
      ]
     },
     "metadata": {},
     "output_type": "display_data"
    },
    {
     "data": {
      "text/html": [
       "<pre>| 1m 55s                              | 79.75            | 75929           |</pre>"
      ],
      "text/plain": [
       "| 1m 55s                              | 79.75            | 75929           |"
      ]
     },
     "metadata": {},
     "output_type": "display_data"
    },
    {
     "data": {
      "text/html": [
       "<pre>| 1m 57s                              | 100              | 95002           |</pre>"
      ],
      "text/plain": [
       "| 1m 57s                              | 100              | 95002           |"
      ]
     },
     "metadata": {},
     "output_type": "display_data"
    },
    {
     "data": {
      "text/html": [
       "<pre>+-------------------------------------+------------------+-----------------+</pre>"
      ],
      "text/plain": [
       "+-------------------------------------+------------------+-----------------+"
      ]
     },
     "metadata": {},
     "output_type": "display_data"
    },
    {
     "data": {
      "text/html": [
       "<pre>Finalizing lookup tables.</pre>"
      ],
      "text/plain": [
       "Finalizing lookup tables."
      ]
     },
     "metadata": {},
     "output_type": "display_data"
    },
    {
     "data": {
      "text/html": [
       "<pre>Generating candidate set for working with new users.</pre>"
      ],
      "text/plain": [
       "Generating candidate set for working with new users."
      ]
     },
     "metadata": {},
     "output_type": "display_data"
    },
    {
     "data": {
      "text/html": [
       "<pre>Finished training in 119.714s</pre>"
      ],
      "text/plain": [
       "Finished training in 119.714s"
      ]
     },
     "metadata": {},
     "output_type": "display_data"
    },
    {
     "data": {
      "text/html": [
       "<pre>recommendations finished on 1000/107068 queries. users per second: 1803.66</pre>"
      ],
      "text/plain": [
       "recommendations finished on 1000/107068 queries. users per second: 1803.66"
      ]
     },
     "metadata": {},
     "output_type": "display_data"
    },
    {
     "data": {
      "text/html": [
       "<pre>recommendations finished on 2000/107068 queries. users per second: 1741.9</pre>"
      ],
      "text/plain": [
       "recommendations finished on 2000/107068 queries. users per second: 1741.9"
      ]
     },
     "metadata": {},
     "output_type": "display_data"
    },
    {
     "data": {
      "text/html": [
       "<pre>recommendations finished on 3000/107068 queries. users per second: 1764.01</pre>"
      ],
      "text/plain": [
       "recommendations finished on 3000/107068 queries. users per second: 1764.01"
      ]
     },
     "metadata": {},
     "output_type": "display_data"
    },
    {
     "data": {
      "text/html": [
       "<pre>recommendations finished on 4000/107068 queries. users per second: 1764.71</pre>"
      ],
      "text/plain": [
       "recommendations finished on 4000/107068 queries. users per second: 1764.71"
      ]
     },
     "metadata": {},
     "output_type": "display_data"
    },
    {
     "data": {
      "text/html": [
       "<pre>recommendations finished on 5000/107068 queries. users per second: 1770.31</pre>"
      ],
      "text/plain": [
       "recommendations finished on 5000/107068 queries. users per second: 1770.31"
      ]
     },
     "metadata": {},
     "output_type": "display_data"
    },
    {
     "data": {
      "text/html": [
       "<pre>recommendations finished on 6000/107068 queries. users per second: 1773.43</pre>"
      ],
      "text/plain": [
       "recommendations finished on 6000/107068 queries. users per second: 1773.43"
      ]
     },
     "metadata": {},
     "output_type": "display_data"
    },
    {
     "data": {
      "text/html": [
       "<pre>recommendations finished on 7000/107068 queries. users per second: 1772.35</pre>"
      ],
      "text/plain": [
       "recommendations finished on 7000/107068 queries. users per second: 1772.35"
      ]
     },
     "metadata": {},
     "output_type": "display_data"
    },
    {
     "data": {
      "text/html": [
       "<pre>recommendations finished on 8000/107068 queries. users per second: 1773.22</pre>"
      ],
      "text/plain": [
       "recommendations finished on 8000/107068 queries. users per second: 1773.22"
      ]
     },
     "metadata": {},
     "output_type": "display_data"
    },
    {
     "data": {
      "text/html": [
       "<pre>recommendations finished on 9000/107068 queries. users per second: 1772.39</pre>"
      ],
      "text/plain": [
       "recommendations finished on 9000/107068 queries. users per second: 1772.39"
      ]
     },
     "metadata": {},
     "output_type": "display_data"
    },
    {
     "data": {
      "text/html": [
       "<pre>recommendations finished on 10000/107068 queries. users per second: 1771.89</pre>"
      ],
      "text/plain": [
       "recommendations finished on 10000/107068 queries. users per second: 1771.89"
      ]
     },
     "metadata": {},
     "output_type": "display_data"
    },
    {
     "data": {
      "text/html": [
       "<pre>recommendations finished on 11000/107068 queries. users per second: 1768.09</pre>"
      ],
      "text/plain": [
       "recommendations finished on 11000/107068 queries. users per second: 1768.09"
      ]
     },
     "metadata": {},
     "output_type": "display_data"
    },
    {
     "data": {
      "text/html": [
       "<pre>recommendations finished on 12000/107068 queries. users per second: 1744.1</pre>"
      ],
      "text/plain": [
       "recommendations finished on 12000/107068 queries. users per second: 1744.1"
      ]
     },
     "metadata": {},
     "output_type": "display_data"
    },
    {
     "data": {
      "text/html": [
       "<pre>recommendations finished on 13000/107068 queries. users per second: 1737.9</pre>"
      ],
      "text/plain": [
       "recommendations finished on 13000/107068 queries. users per second: 1737.9"
      ]
     },
     "metadata": {},
     "output_type": "display_data"
    },
    {
     "data": {
      "text/html": [
       "<pre>recommendations finished on 14000/107068 queries. users per second: 1720.6</pre>"
      ],
      "text/plain": [
       "recommendations finished on 14000/107068 queries. users per second: 1720.6"
      ]
     },
     "metadata": {},
     "output_type": "display_data"
    },
    {
     "data": {
      "text/html": [
       "<pre>recommendations finished on 15000/107068 queries. users per second: 1725.71</pre>"
      ],
      "text/plain": [
       "recommendations finished on 15000/107068 queries. users per second: 1725.71"
      ]
     },
     "metadata": {},
     "output_type": "display_data"
    },
    {
     "data": {
      "text/html": [
       "<pre>recommendations finished on 16000/107068 queries. users per second: 1722.75</pre>"
      ],
      "text/plain": [
       "recommendations finished on 16000/107068 queries. users per second: 1722.75"
      ]
     },
     "metadata": {},
     "output_type": "display_data"
    },
    {
     "data": {
      "text/html": [
       "<pre>recommendations finished on 17000/107068 queries. users per second: 1715.29</pre>"
      ],
      "text/plain": [
       "recommendations finished on 17000/107068 queries. users per second: 1715.29"
      ]
     },
     "metadata": {},
     "output_type": "display_data"
    },
    {
     "data": {
      "text/html": [
       "<pre>recommendations finished on 18000/107068 queries. users per second: 1709.51</pre>"
      ],
      "text/plain": [
       "recommendations finished on 18000/107068 queries. users per second: 1709.51"
      ]
     },
     "metadata": {},
     "output_type": "display_data"
    },
    {
     "data": {
      "text/html": [
       "<pre>recommendations finished on 19000/107068 queries. users per second: 1707.68</pre>"
      ],
      "text/plain": [
       "recommendations finished on 19000/107068 queries. users per second: 1707.68"
      ]
     },
     "metadata": {},
     "output_type": "display_data"
    },
    {
     "data": {
      "text/html": [
       "<pre>recommendations finished on 20000/107068 queries. users per second: 1709.94</pre>"
      ],
      "text/plain": [
       "recommendations finished on 20000/107068 queries. users per second: 1709.94"
      ]
     },
     "metadata": {},
     "output_type": "display_data"
    },
    {
     "data": {
      "text/html": [
       "<pre>recommendations finished on 21000/107068 queries. users per second: 1711.14</pre>"
      ],
      "text/plain": [
       "recommendations finished on 21000/107068 queries. users per second: 1711.14"
      ]
     },
     "metadata": {},
     "output_type": "display_data"
    },
    {
     "data": {
      "text/html": [
       "<pre>recommendations finished on 22000/107068 queries. users per second: 1710.6</pre>"
      ],
      "text/plain": [
       "recommendations finished on 22000/107068 queries. users per second: 1710.6"
      ]
     },
     "metadata": {},
     "output_type": "display_data"
    },
    {
     "data": {
      "text/html": [
       "<pre>recommendations finished on 23000/107068 queries. users per second: 1707.33</pre>"
      ],
      "text/plain": [
       "recommendations finished on 23000/107068 queries. users per second: 1707.33"
      ]
     },
     "metadata": {},
     "output_type": "display_data"
    },
    {
     "data": {
      "text/html": [
       "<pre>recommendations finished on 24000/107068 queries. users per second: 1703.09</pre>"
      ],
      "text/plain": [
       "recommendations finished on 24000/107068 queries. users per second: 1703.09"
      ]
     },
     "metadata": {},
     "output_type": "display_data"
    },
    {
     "data": {
      "text/html": [
       "<pre>recommendations finished on 25000/107068 queries. users per second: 1696.5</pre>"
      ],
      "text/plain": [
       "recommendations finished on 25000/107068 queries. users per second: 1696.5"
      ]
     },
     "metadata": {},
     "output_type": "display_data"
    },
    {
     "data": {
      "text/html": [
       "<pre>recommendations finished on 26000/107068 queries. users per second: 1693.49</pre>"
      ],
      "text/plain": [
       "recommendations finished on 26000/107068 queries. users per second: 1693.49"
      ]
     },
     "metadata": {},
     "output_type": "display_data"
    },
    {
     "data": {
      "text/html": [
       "<pre>recommendations finished on 27000/107068 queries. users per second: 1694.3</pre>"
      ],
      "text/plain": [
       "recommendations finished on 27000/107068 queries. users per second: 1694.3"
      ]
     },
     "metadata": {},
     "output_type": "display_data"
    },
    {
     "data": {
      "text/html": [
       "<pre>recommendations finished on 28000/107068 queries. users per second: 1694.92</pre>"
      ],
      "text/plain": [
       "recommendations finished on 28000/107068 queries. users per second: 1694.92"
      ]
     },
     "metadata": {},
     "output_type": "display_data"
    },
    {
     "data": {
      "text/html": [
       "<pre>recommendations finished on 29000/107068 queries. users per second: 1693.2</pre>"
      ],
      "text/plain": [
       "recommendations finished on 29000/107068 queries. users per second: 1693.2"
      ]
     },
     "metadata": {},
     "output_type": "display_data"
    },
    {
     "data": {
      "text/html": [
       "<pre>recommendations finished on 30000/107068 queries. users per second: 1692.16</pre>"
      ],
      "text/plain": [
       "recommendations finished on 30000/107068 queries. users per second: 1692.16"
      ]
     },
     "metadata": {},
     "output_type": "display_data"
    },
    {
     "data": {
      "text/html": [
       "<pre>recommendations finished on 31000/107068 queries. users per second: 1692.48</pre>"
      ],
      "text/plain": [
       "recommendations finished on 31000/107068 queries. users per second: 1692.48"
      ]
     },
     "metadata": {},
     "output_type": "display_data"
    },
    {
     "data": {
      "text/html": [
       "<pre>recommendations finished on 32000/107068 queries. users per second: 1689.78</pre>"
      ],
      "text/plain": [
       "recommendations finished on 32000/107068 queries. users per second: 1689.78"
      ]
     },
     "metadata": {},
     "output_type": "display_data"
    },
    {
     "data": {
      "text/html": [
       "<pre>recommendations finished on 33000/107068 queries. users per second: 1687.99</pre>"
      ],
      "text/plain": [
       "recommendations finished on 33000/107068 queries. users per second: 1687.99"
      ]
     },
     "metadata": {},
     "output_type": "display_data"
    },
    {
     "data": {
      "text/html": [
       "<pre>recommendations finished on 34000/107068 queries. users per second: 1687.06</pre>"
      ],
      "text/plain": [
       "recommendations finished on 34000/107068 queries. users per second: 1687.06"
      ]
     },
     "metadata": {},
     "output_type": "display_data"
    },
    {
     "data": {
      "text/html": [
       "<pre>recommendations finished on 35000/107068 queries. users per second: 1685.71</pre>"
      ],
      "text/plain": [
       "recommendations finished on 35000/107068 queries. users per second: 1685.71"
      ]
     },
     "metadata": {},
     "output_type": "display_data"
    },
    {
     "data": {
      "text/html": [
       "<pre>recommendations finished on 36000/107068 queries. users per second: 1684.17</pre>"
      ],
      "text/plain": [
       "recommendations finished on 36000/107068 queries. users per second: 1684.17"
      ]
     },
     "metadata": {},
     "output_type": "display_data"
    },
    {
     "data": {
      "text/html": [
       "<pre>recommendations finished on 37000/107068 queries. users per second: 1681.21</pre>"
      ],
      "text/plain": [
       "recommendations finished on 37000/107068 queries. users per second: 1681.21"
      ]
     },
     "metadata": {},
     "output_type": "display_data"
    },
    {
     "data": {
      "text/html": [
       "<pre>recommendations finished on 38000/107068 queries. users per second: 1678.38</pre>"
      ],
      "text/plain": [
       "recommendations finished on 38000/107068 queries. users per second: 1678.38"
      ]
     },
     "metadata": {},
     "output_type": "display_data"
    },
    {
     "data": {
      "text/html": [
       "<pre>recommendations finished on 39000/107068 queries. users per second: 1675.23</pre>"
      ],
      "text/plain": [
       "recommendations finished on 39000/107068 queries. users per second: 1675.23"
      ]
     },
     "metadata": {},
     "output_type": "display_data"
    },
    {
     "data": {
      "text/html": [
       "<pre>recommendations finished on 40000/107068 queries. users per second: 1674.32</pre>"
      ],
      "text/plain": [
       "recommendations finished on 40000/107068 queries. users per second: 1674.32"
      ]
     },
     "metadata": {},
     "output_type": "display_data"
    },
    {
     "data": {
      "text/html": [
       "<pre>recommendations finished on 41000/107068 queries. users per second: 1673.18</pre>"
      ],
      "text/plain": [
       "recommendations finished on 41000/107068 queries. users per second: 1673.18"
      ]
     },
     "metadata": {},
     "output_type": "display_data"
    },
    {
     "data": {
      "text/html": [
       "<pre>recommendations finished on 42000/107068 queries. users per second: 1672.88</pre>"
      ],
      "text/plain": [
       "recommendations finished on 42000/107068 queries. users per second: 1672.88"
      ]
     },
     "metadata": {},
     "output_type": "display_data"
    },
    {
     "data": {
      "text/html": [
       "<pre>recommendations finished on 43000/107068 queries. users per second: 1670.29</pre>"
      ],
      "text/plain": [
       "recommendations finished on 43000/107068 queries. users per second: 1670.29"
      ]
     },
     "metadata": {},
     "output_type": "display_data"
    },
    {
     "data": {
      "text/html": [
       "<pre>recommendations finished on 44000/107068 queries. users per second: 1666.25</pre>"
      ],
      "text/plain": [
       "recommendations finished on 44000/107068 queries. users per second: 1666.25"
      ]
     },
     "metadata": {},
     "output_type": "display_data"
    },
    {
     "data": {
      "text/html": [
       "<pre>recommendations finished on 45000/107068 queries. users per second: 1660.74</pre>"
      ],
      "text/plain": [
       "recommendations finished on 45000/107068 queries. users per second: 1660.74"
      ]
     },
     "metadata": {},
     "output_type": "display_data"
    },
    {
     "data": {
      "text/html": [
       "<pre>recommendations finished on 46000/107068 queries. users per second: 1652.5</pre>"
      ],
      "text/plain": [
       "recommendations finished on 46000/107068 queries. users per second: 1652.5"
      ]
     },
     "metadata": {},
     "output_type": "display_data"
    },
    {
     "data": {
      "text/html": [
       "<pre>recommendations finished on 47000/107068 queries. users per second: 1650.04</pre>"
      ],
      "text/plain": [
       "recommendations finished on 47000/107068 queries. users per second: 1650.04"
      ]
     },
     "metadata": {},
     "output_type": "display_data"
    },
    {
     "data": {
      "text/html": [
       "<pre>recommendations finished on 48000/107068 queries. users per second: 1647.34</pre>"
      ],
      "text/plain": [
       "recommendations finished on 48000/107068 queries. users per second: 1647.34"
      ]
     },
     "metadata": {},
     "output_type": "display_data"
    },
    {
     "data": {
      "text/html": [
       "<pre>recommendations finished on 49000/107068 queries. users per second: 1642.59</pre>"
      ],
      "text/plain": [
       "recommendations finished on 49000/107068 queries. users per second: 1642.59"
      ]
     },
     "metadata": {},
     "output_type": "display_data"
    },
    {
     "data": {
      "text/html": [
       "<pre>recommendations finished on 50000/107068 queries. users per second: 1638.87</pre>"
      ],
      "text/plain": [
       "recommendations finished on 50000/107068 queries. users per second: 1638.87"
      ]
     },
     "metadata": {},
     "output_type": "display_data"
    },
    {
     "data": {
      "text/html": [
       "<pre>recommendations finished on 51000/107068 queries. users per second: 1639.85</pre>"
      ],
      "text/plain": [
       "recommendations finished on 51000/107068 queries. users per second: 1639.85"
      ]
     },
     "metadata": {},
     "output_type": "display_data"
    },
    {
     "data": {
      "text/html": [
       "<pre>recommendations finished on 52000/107068 queries. users per second: 1638.64</pre>"
      ],
      "text/plain": [
       "recommendations finished on 52000/107068 queries. users per second: 1638.64"
      ]
     },
     "metadata": {},
     "output_type": "display_data"
    },
    {
     "data": {
      "text/html": [
       "<pre>recommendations finished on 53000/107068 queries. users per second: 1632.38</pre>"
      ],
      "text/plain": [
       "recommendations finished on 53000/107068 queries. users per second: 1632.38"
      ]
     },
     "metadata": {},
     "output_type": "display_data"
    },
    {
     "data": {
      "text/html": [
       "<pre>recommendations finished on 54000/107068 queries. users per second: 1632.66</pre>"
      ],
      "text/plain": [
       "recommendations finished on 54000/107068 queries. users per second: 1632.66"
      ]
     },
     "metadata": {},
     "output_type": "display_data"
    },
    {
     "data": {
      "text/html": [
       "<pre>recommendations finished on 55000/107068 queries. users per second: 1634.93</pre>"
      ],
      "text/plain": [
       "recommendations finished on 55000/107068 queries. users per second: 1634.93"
      ]
     },
     "metadata": {},
     "output_type": "display_data"
    },
    {
     "data": {
      "text/html": [
       "<pre>recommendations finished on 56000/107068 queries. users per second: 1635.68</pre>"
      ],
      "text/plain": [
       "recommendations finished on 56000/107068 queries. users per second: 1635.68"
      ]
     },
     "metadata": {},
     "output_type": "display_data"
    },
    {
     "data": {
      "text/html": [
       "<pre>recommendations finished on 57000/107068 queries. users per second: 1637.41</pre>"
      ],
      "text/plain": [
       "recommendations finished on 57000/107068 queries. users per second: 1637.41"
      ]
     },
     "metadata": {},
     "output_type": "display_data"
    },
    {
     "data": {
      "text/html": [
       "<pre>recommendations finished on 58000/107068 queries. users per second: 1640.01</pre>"
      ],
      "text/plain": [
       "recommendations finished on 58000/107068 queries. users per second: 1640.01"
      ]
     },
     "metadata": {},
     "output_type": "display_data"
    },
    {
     "data": {
      "text/html": [
       "<pre>recommendations finished on 59000/107068 queries. users per second: 1641.99</pre>"
      ],
      "text/plain": [
       "recommendations finished on 59000/107068 queries. users per second: 1641.99"
      ]
     },
     "metadata": {},
     "output_type": "display_data"
    },
    {
     "data": {
      "text/html": [
       "<pre>recommendations finished on 60000/107068 queries. users per second: 1644.37</pre>"
      ],
      "text/plain": [
       "recommendations finished on 60000/107068 queries. users per second: 1644.37"
      ]
     },
     "metadata": {},
     "output_type": "display_data"
    },
    {
     "data": {
      "text/html": [
       "<pre>recommendations finished on 61000/107068 queries. users per second: 1646.72</pre>"
      ],
      "text/plain": [
       "recommendations finished on 61000/107068 queries. users per second: 1646.72"
      ]
     },
     "metadata": {},
     "output_type": "display_data"
    },
    {
     "data": {
      "text/html": [
       "<pre>recommendations finished on 62000/107068 queries. users per second: 1648.72</pre>"
      ],
      "text/plain": [
       "recommendations finished on 62000/107068 queries. users per second: 1648.72"
      ]
     },
     "metadata": {},
     "output_type": "display_data"
    },
    {
     "data": {
      "text/html": [
       "<pre>recommendations finished on 63000/107068 queries. users per second: 1649.34</pre>"
      ],
      "text/plain": [
       "recommendations finished on 63000/107068 queries. users per second: 1649.34"
      ]
     },
     "metadata": {},
     "output_type": "display_data"
    },
    {
     "data": {
      "text/html": [
       "<pre>recommendations finished on 64000/107068 queries. users per second: 1649.85</pre>"
      ],
      "text/plain": [
       "recommendations finished on 64000/107068 queries. users per second: 1649.85"
      ]
     },
     "metadata": {},
     "output_type": "display_data"
    },
    {
     "data": {
      "text/html": [
       "<pre>recommendations finished on 65000/107068 queries. users per second: 1651.03</pre>"
      ],
      "text/plain": [
       "recommendations finished on 65000/107068 queries. users per second: 1651.03"
      ]
     },
     "metadata": {},
     "output_type": "display_data"
    },
    {
     "data": {
      "text/html": [
       "<pre>recommendations finished on 66000/107068 queries. users per second: 1651.86</pre>"
      ],
      "text/plain": [
       "recommendations finished on 66000/107068 queries. users per second: 1651.86"
      ]
     },
     "metadata": {},
     "output_type": "display_data"
    },
    {
     "data": {
      "text/html": [
       "<pre>recommendations finished on 67000/107068 queries. users per second: 1652.77</pre>"
      ],
      "text/plain": [
       "recommendations finished on 67000/107068 queries. users per second: 1652.77"
      ]
     },
     "metadata": {},
     "output_type": "display_data"
    },
    {
     "data": {
      "text/html": [
       "<pre>recommendations finished on 68000/107068 queries. users per second: 1653.18</pre>"
      ],
      "text/plain": [
       "recommendations finished on 68000/107068 queries. users per second: 1653.18"
      ]
     },
     "metadata": {},
     "output_type": "display_data"
    },
    {
     "data": {
      "text/html": [
       "<pre>recommendations finished on 69000/107068 queries. users per second: 1653.03</pre>"
      ],
      "text/plain": [
       "recommendations finished on 69000/107068 queries. users per second: 1653.03"
      ]
     },
     "metadata": {},
     "output_type": "display_data"
    },
    {
     "data": {
      "text/html": [
       "<pre>recommendations finished on 70000/107068 queries. users per second: 1652.21</pre>"
      ],
      "text/plain": [
       "recommendations finished on 70000/107068 queries. users per second: 1652.21"
      ]
     },
     "metadata": {},
     "output_type": "display_data"
    },
    {
     "data": {
      "text/html": [
       "<pre>recommendations finished on 71000/107068 queries. users per second: 1653.99</pre>"
      ],
      "text/plain": [
       "recommendations finished on 71000/107068 queries. users per second: 1653.99"
      ]
     },
     "metadata": {},
     "output_type": "display_data"
    },
    {
     "data": {
      "text/html": [
       "<pre>recommendations finished on 72000/107068 queries. users per second: 1654.4</pre>"
      ],
      "text/plain": [
       "recommendations finished on 72000/107068 queries. users per second: 1654.4"
      ]
     },
     "metadata": {},
     "output_type": "display_data"
    },
    {
     "data": {
      "text/html": [
       "<pre>recommendations finished on 73000/107068 queries. users per second: 1655.07</pre>"
      ],
      "text/plain": [
       "recommendations finished on 73000/107068 queries. users per second: 1655.07"
      ]
     },
     "metadata": {},
     "output_type": "display_data"
    },
    {
     "data": {
      "text/html": [
       "<pre>recommendations finished on 74000/107068 queries. users per second: 1656.19</pre>"
      ],
      "text/plain": [
       "recommendations finished on 74000/107068 queries. users per second: 1656.19"
      ]
     },
     "metadata": {},
     "output_type": "display_data"
    },
    {
     "data": {
      "text/html": [
       "<pre>recommendations finished on 75000/107068 queries. users per second: 1656.75</pre>"
      ],
      "text/plain": [
       "recommendations finished on 75000/107068 queries. users per second: 1656.75"
      ]
     },
     "metadata": {},
     "output_type": "display_data"
    },
    {
     "data": {
      "text/html": [
       "<pre>recommendations finished on 76000/107068 queries. users per second: 1658.69</pre>"
      ],
      "text/plain": [
       "recommendations finished on 76000/107068 queries. users per second: 1658.69"
      ]
     },
     "metadata": {},
     "output_type": "display_data"
    },
    {
     "data": {
      "text/html": [
       "<pre>recommendations finished on 77000/107068 queries. users per second: 1660.22</pre>"
      ],
      "text/plain": [
       "recommendations finished on 77000/107068 queries. users per second: 1660.22"
      ]
     },
     "metadata": {},
     "output_type": "display_data"
    },
    {
     "data": {
      "text/html": [
       "<pre>recommendations finished on 78000/107068 queries. users per second: 1662.43</pre>"
      ],
      "text/plain": [
       "recommendations finished on 78000/107068 queries. users per second: 1662.43"
      ]
     },
     "metadata": {},
     "output_type": "display_data"
    },
    {
     "data": {
      "text/html": [
       "<pre>recommendations finished on 79000/107068 queries. users per second: 1663.05</pre>"
      ],
      "text/plain": [
       "recommendations finished on 79000/107068 queries. users per second: 1663.05"
      ]
     },
     "metadata": {},
     "output_type": "display_data"
    },
    {
     "data": {
      "text/html": [
       "<pre>recommendations finished on 80000/107068 queries. users per second: 1663.99</pre>"
      ],
      "text/plain": [
       "recommendations finished on 80000/107068 queries. users per second: 1663.99"
      ]
     },
     "metadata": {},
     "output_type": "display_data"
    },
    {
     "data": {
      "text/html": [
       "<pre>recommendations finished on 81000/107068 queries. users per second: 1665.59</pre>"
      ],
      "text/plain": [
       "recommendations finished on 81000/107068 queries. users per second: 1665.59"
      ]
     },
     "metadata": {},
     "output_type": "display_data"
    },
    {
     "data": {
      "text/html": [
       "<pre>recommendations finished on 82000/107068 queries. users per second: 1666.65</pre>"
      ],
      "text/plain": [
       "recommendations finished on 82000/107068 queries. users per second: 1666.65"
      ]
     },
     "metadata": {},
     "output_type": "display_data"
    },
    {
     "data": {
      "text/html": [
       "<pre>recommendations finished on 83000/107068 queries. users per second: 1666.5</pre>"
      ],
      "text/plain": [
       "recommendations finished on 83000/107068 queries. users per second: 1666.5"
      ]
     },
     "metadata": {},
     "output_type": "display_data"
    },
    {
     "data": {
      "text/html": [
       "<pre>recommendations finished on 84000/107068 queries. users per second: 1667.59</pre>"
      ],
      "text/plain": [
       "recommendations finished on 84000/107068 queries. users per second: 1667.59"
      ]
     },
     "metadata": {},
     "output_type": "display_data"
    },
    {
     "data": {
      "text/html": [
       "<pre>recommendations finished on 85000/107068 queries. users per second: 1669.4</pre>"
      ],
      "text/plain": [
       "recommendations finished on 85000/107068 queries. users per second: 1669.4"
      ]
     },
     "metadata": {},
     "output_type": "display_data"
    },
    {
     "data": {
      "text/html": [
       "<pre>recommendations finished on 86000/107068 queries. users per second: 1670.95</pre>"
      ],
      "text/plain": [
       "recommendations finished on 86000/107068 queries. users per second: 1670.95"
      ]
     },
     "metadata": {},
     "output_type": "display_data"
    },
    {
     "data": {
      "text/html": [
       "<pre>recommendations finished on 87000/107068 queries. users per second: 1672.73</pre>"
      ],
      "text/plain": [
       "recommendations finished on 87000/107068 queries. users per second: 1672.73"
      ]
     },
     "metadata": {},
     "output_type": "display_data"
    },
    {
     "data": {
      "text/html": [
       "<pre>recommendations finished on 88000/107068 queries. users per second: 1674.42</pre>"
      ],
      "text/plain": [
       "recommendations finished on 88000/107068 queries. users per second: 1674.42"
      ]
     },
     "metadata": {},
     "output_type": "display_data"
    },
    {
     "data": {
      "text/html": [
       "<pre>recommendations finished on 89000/107068 queries. users per second: 1676.26</pre>"
      ],
      "text/plain": [
       "recommendations finished on 89000/107068 queries. users per second: 1676.26"
      ]
     },
     "metadata": {},
     "output_type": "display_data"
    },
    {
     "data": {
      "text/html": [
       "<pre>recommendations finished on 90000/107068 queries. users per second: 1678.16</pre>"
      ],
      "text/plain": [
       "recommendations finished on 90000/107068 queries. users per second: 1678.16"
      ]
     },
     "metadata": {},
     "output_type": "display_data"
    },
    {
     "data": {
      "text/html": [
       "<pre>recommendations finished on 91000/107068 queries. users per second: 1679.9</pre>"
      ],
      "text/plain": [
       "recommendations finished on 91000/107068 queries. users per second: 1679.9"
      ]
     },
     "metadata": {},
     "output_type": "display_data"
    },
    {
     "data": {
      "text/html": [
       "<pre>recommendations finished on 92000/107068 queries. users per second: 1681.77</pre>"
      ],
      "text/plain": [
       "recommendations finished on 92000/107068 queries. users per second: 1681.77"
      ]
     },
     "metadata": {},
     "output_type": "display_data"
    },
    {
     "data": {
      "text/html": [
       "<pre>recommendations finished on 93000/107068 queries. users per second: 1683.33</pre>"
      ],
      "text/plain": [
       "recommendations finished on 93000/107068 queries. users per second: 1683.33"
      ]
     },
     "metadata": {},
     "output_type": "display_data"
    },
    {
     "data": {
      "text/html": [
       "<pre>recommendations finished on 94000/107068 queries. users per second: 1685.32</pre>"
      ],
      "text/plain": [
       "recommendations finished on 94000/107068 queries. users per second: 1685.32"
      ]
     },
     "metadata": {},
     "output_type": "display_data"
    },
    {
     "data": {
      "text/html": [
       "<pre>recommendations finished on 95000/107068 queries. users per second: 1687.09</pre>"
      ],
      "text/plain": [
       "recommendations finished on 95000/107068 queries. users per second: 1687.09"
      ]
     },
     "metadata": {},
     "output_type": "display_data"
    },
    {
     "data": {
      "text/html": [
       "<pre>recommendations finished on 96000/107068 queries. users per second: 1688.76</pre>"
      ],
      "text/plain": [
       "recommendations finished on 96000/107068 queries. users per second: 1688.76"
      ]
     },
     "metadata": {},
     "output_type": "display_data"
    },
    {
     "data": {
      "text/html": [
       "<pre>recommendations finished on 97000/107068 queries. users per second: 1690.31</pre>"
      ],
      "text/plain": [
       "recommendations finished on 97000/107068 queries. users per second: 1690.31"
      ]
     },
     "metadata": {},
     "output_type": "display_data"
    },
    {
     "data": {
      "text/html": [
       "<pre>recommendations finished on 98000/107068 queries. users per second: 1691.83</pre>"
      ],
      "text/plain": [
       "recommendations finished on 98000/107068 queries. users per second: 1691.83"
      ]
     },
     "metadata": {},
     "output_type": "display_data"
    },
    {
     "data": {
      "text/html": [
       "<pre>recommendations finished on 99000/107068 queries. users per second: 1693.32</pre>"
      ],
      "text/plain": [
       "recommendations finished on 99000/107068 queries. users per second: 1693.32"
      ]
     },
     "metadata": {},
     "output_type": "display_data"
    },
    {
     "data": {
      "text/html": [
       "<pre>recommendations finished on 100000/107068 queries. users per second: 1694.75</pre>"
      ],
      "text/plain": [
       "recommendations finished on 100000/107068 queries. users per second: 1694.75"
      ]
     },
     "metadata": {},
     "output_type": "display_data"
    },
    {
     "data": {
      "text/html": [
       "<pre>recommendations finished on 101000/107068 queries. users per second: 1696.23</pre>"
      ],
      "text/plain": [
       "recommendations finished on 101000/107068 queries. users per second: 1696.23"
      ]
     },
     "metadata": {},
     "output_type": "display_data"
    },
    {
     "data": {
      "text/html": [
       "<pre>recommendations finished on 102000/107068 queries. users per second: 1697.9</pre>"
      ],
      "text/plain": [
       "recommendations finished on 102000/107068 queries. users per second: 1697.9"
      ]
     },
     "metadata": {},
     "output_type": "display_data"
    },
    {
     "data": {
      "text/html": [
       "<pre>recommendations finished on 103000/107068 queries. users per second: 1699.19</pre>"
      ],
      "text/plain": [
       "recommendations finished on 103000/107068 queries. users per second: 1699.19"
      ]
     },
     "metadata": {},
     "output_type": "display_data"
    },
    {
     "data": {
      "text/html": [
       "<pre>recommendations finished on 104000/107068 queries. users per second: 1698.63</pre>"
      ],
      "text/plain": [
       "recommendations finished on 104000/107068 queries. users per second: 1698.63"
      ]
     },
     "metadata": {},
     "output_type": "display_data"
    },
    {
     "data": {
      "text/html": [
       "<pre>recommendations finished on 105000/107068 queries. users per second: 1696.31</pre>"
      ],
      "text/plain": [
       "recommendations finished on 105000/107068 queries. users per second: 1696.31"
      ]
     },
     "metadata": {},
     "output_type": "display_data"
    },
    {
     "data": {
      "text/html": [
       "<pre>recommendations finished on 106000/107068 queries. users per second: 1695.06</pre>"
      ],
      "text/plain": [
       "recommendations finished on 106000/107068 queries. users per second: 1695.06"
      ]
     },
     "metadata": {},
     "output_type": "display_data"
    },
    {
     "data": {
      "text/html": [
       "<pre>recommendations finished on 107000/107068 queries. users per second: 1674.46</pre>"
      ],
      "text/plain": [
       "recommendations finished on 107000/107068 queries. users per second: 1674.46"
      ]
     },
     "metadata": {},
     "output_type": "display_data"
    }
   ],
   "source": [
    "name = 'cosine'\n",
    "target = 'purchase_count'\n",
    "cos = fit_predict(train_data, name, user_id, item_id, target, users_to_recommend, n_rec)\n",
    "cos.to_csv(\"cos.csv\")\n",
    "del cos"
   ]
  },
  {
   "cell_type": "code",
   "execution_count": 31,
   "metadata": {},
   "outputs": [],
   "source": [
    "def create_output(df_rec, name):\n",
    "    df_rec['Predicted'] = df_rec.groupby([user_id])[item_id] \\\n",
    "        .transform(lambda x: ' '.join(x.astype(str)))\n",
    "    df_rec.rename(columns={\"customerId\": \"Id\"}, inplace=True)\n",
    "    df_output = df_rec[['Id', 'Predicted']].drop_duplicates() \\\n",
    "        .sort_values('Id').set_index('Id')\n",
    "    df_output.to_csv('submission_' + name + '.csv')\n",
    "    return df_output"
   ]
  },
  {
   "cell_type": "code",
   "execution_count": 32,
   "metadata": {},
   "outputs": [],
   "source": [
    "name = 'popularity'\n",
    "popularity = pd.read_csv(name + \".csv\", index_col=0)\n",
    "popularity.head()\n",
    "popularity_submission = create_output(popularity, name)"
   ]
  },
  {
   "cell_type": "code",
   "execution_count": 33,
   "metadata": {},
   "outputs": [
    {
     "data": {
      "text/html": [
       "<div>\n",
       "<style scoped>\n",
       "    .dataframe tbody tr th:only-of-type {\n",
       "        vertical-align: middle;\n",
       "    }\n",
       "\n",
       "    .dataframe tbody tr th {\n",
       "        vertical-align: top;\n",
       "    }\n",
       "\n",
       "    .dataframe thead th {\n",
       "        text-align: right;\n",
       "    }\n",
       "</style>\n",
       "<table border=\"1\" class=\"dataframe\">\n",
       "  <thead>\n",
       "    <tr style=\"text-align: right;\">\n",
       "      <th></th>\n",
       "      <th>Predicted</th>\n",
       "    </tr>\n",
       "    <tr>\n",
       "      <th>Id</th>\n",
       "      <th></th>\n",
       "    </tr>\n",
       "  </thead>\n",
       "  <tbody>\n",
       "    <tr>\n",
       "      <th>51</th>\n",
       "      <td>13344338 5061861 5481337 13344339 96412 746894...</td>\n",
       "    </tr>\n",
       "    <tr>\n",
       "      <th>65</th>\n",
       "      <td>13344338 5061861 5481337 13344339 96412 746894...</td>\n",
       "    </tr>\n",
       "    <tr>\n",
       "      <th>187</th>\n",
       "      <td>13344338 5061861 5481337 13344339 96412 746894...</td>\n",
       "    </tr>\n",
       "    <tr>\n",
       "      <th>400</th>\n",
       "      <td>13344338 5061861 5481337 13344339 96412 746894...</td>\n",
       "    </tr>\n",
       "    <tr>\n",
       "      <th>576</th>\n",
       "      <td>13344338 5061861 5481337 13344339 96412 746894...</td>\n",
       "    </tr>\n",
       "  </tbody>\n",
       "</table>\n",
       "</div>"
      ],
      "text/plain": [
       "                                             Predicted\n",
       "Id                                                    \n",
       "51   13344338 5061861 5481337 13344339 96412 746894...\n",
       "65   13344338 5061861 5481337 13344339 96412 746894...\n",
       "187  13344338 5061861 5481337 13344339 96412 746894...\n",
       "400  13344338 5061861 5481337 13344339 96412 746894...\n",
       "576  13344338 5061861 5481337 13344339 96412 746894..."
      ]
     },
     "execution_count": 33,
     "metadata": {},
     "output_type": "execute_result"
    }
   ],
   "source": [
    "popularity_submission.head()"
   ]
  },
  {
   "cell_type": "code",
   "execution_count": 19,
   "metadata": {},
   "outputs": [
    {
     "name": "stdout",
     "output_type": "stream",
     "text": [
      "(107068, 2)\n"
     ]
    },
    {
     "data": {
      "text/html": [
       "<div>\n",
       "<style scoped>\n",
       "    .dataframe tbody tr th:only-of-type {\n",
       "        vertical-align: middle;\n",
       "    }\n",
       "\n",
       "    .dataframe tbody tr th {\n",
       "        vertical-align: top;\n",
       "    }\n",
       "\n",
       "    .dataframe thead th {\n",
       "        text-align: right;\n",
       "    }\n",
       "</style>\n",
       "<table border=\"1\" class=\"dataframe\">\n",
       "  <thead>\n",
       "    <tr style=\"text-align: right;\">\n",
       "      <th></th>\n",
       "      <th>Id</th>\n",
       "      <th>Predicted</th>\n",
       "    </tr>\n",
       "  </thead>\n",
       "  <tbody>\n",
       "    <tr>\n",
       "      <th>0</th>\n",
       "      <td>51</td>\n",
       "      <td>3239211 10720024 8493844 1965540 5009002 95218...</td>\n",
       "    </tr>\n",
       "    <tr>\n",
       "      <th>1</th>\n",
       "      <td>65</td>\n",
       "      <td>11693356 13392267 2464515 2245175 4748570 1134...</td>\n",
       "    </tr>\n",
       "    <tr>\n",
       "      <th>2</th>\n",
       "      <td>766</td>\n",
       "      <td>12773054 3692749 12726751 10041624 11893515 23...</td>\n",
       "    </tr>\n",
       "    <tr>\n",
       "      <th>3</th>\n",
       "      <td>1132</td>\n",
       "      <td>8613934 3599065 575614 4821474 11609320 699047...</td>\n",
       "    </tr>\n",
       "    <tr>\n",
       "      <th>4</th>\n",
       "      <td>1578</td>\n",
       "      <td>289404 4328240 3129788 9390886 11166655 173077...</td>\n",
       "    </tr>\n",
       "  </tbody>\n",
       "</table>\n",
       "</div>"
      ],
      "text/plain": [
       "     Id                                          Predicted\n",
       "0    51  3239211 10720024 8493844 1965540 5009002 95218...\n",
       "1    65  11693356 13392267 2464515 2245175 4748570 1134...\n",
       "2   766  12773054 3692749 12726751 10041624 11893515 23...\n",
       "3  1132  8613934 3599065 575614 4821474 11609320 699047...\n",
       "4  1578  289404 4328240 3129788 9390886 11166655 173077..."
      ]
     },
     "execution_count": 19,
     "metadata": {},
     "output_type": "execute_result"
    }
   ],
   "source": [
    "sample_sub = pd.read_csv(sample_submission)\n",
    "print(sample_sub.shape)\n",
    "sample_sub.head()"
   ]
  },
  {
   "cell_type": "code",
   "execution_count": 34,
   "metadata": {},
   "outputs": [
    {
     "name": "stdout",
     "output_type": "stream",
     "text": [
      "(107068, 2)\n"
     ]
    },
    {
     "data": {
      "text/html": [
       "<div>\n",
       "<style scoped>\n",
       "    .dataframe tbody tr th:only-of-type {\n",
       "        vertical-align: middle;\n",
       "    }\n",
       "\n",
       "    .dataframe tbody tr th {\n",
       "        vertical-align: top;\n",
       "    }\n",
       "\n",
       "    .dataframe thead th {\n",
       "        text-align: right;\n",
       "    }\n",
       "</style>\n",
       "<table border=\"1\" class=\"dataframe\">\n",
       "  <thead>\n",
       "    <tr style=\"text-align: right;\">\n",
       "      <th></th>\n",
       "      <th>Id</th>\n",
       "      <th>Predicted</th>\n",
       "    </tr>\n",
       "  </thead>\n",
       "  <tbody>\n",
       "    <tr>\n",
       "      <th>0</th>\n",
       "      <td>51</td>\n",
       "      <td>13344338 5061861 5481337 13344339 96412 746894...</td>\n",
       "    </tr>\n",
       "    <tr>\n",
       "      <th>1</th>\n",
       "      <td>65</td>\n",
       "      <td>13344338 5061861 5481337 13344339 96412 746894...</td>\n",
       "    </tr>\n",
       "    <tr>\n",
       "      <th>2</th>\n",
       "      <td>187</td>\n",
       "      <td>13344338 5061861 5481337 13344339 96412 746894...</td>\n",
       "    </tr>\n",
       "    <tr>\n",
       "      <th>3</th>\n",
       "      <td>400</td>\n",
       "      <td>13344338 5061861 5481337 13344339 96412 746894...</td>\n",
       "    </tr>\n",
       "    <tr>\n",
       "      <th>4</th>\n",
       "      <td>576</td>\n",
       "      <td>13344338 5061861 5481337 13344339 96412 746894...</td>\n",
       "    </tr>\n",
       "  </tbody>\n",
       "</table>\n",
       "</div>"
      ],
      "text/plain": [
       "    Id                                          Predicted\n",
       "0   51  13344338 5061861 5481337 13344339 96412 746894...\n",
       "1   65  13344338 5061861 5481337 13344339 96412 746894...\n",
       "2  187  13344338 5061861 5481337 13344339 96412 746894...\n",
       "3  400  13344338 5061861 5481337 13344339 96412 746894...\n",
       "4  576  13344338 5061861 5481337 13344339 96412 746894..."
      ]
     },
     "execution_count": 34,
     "metadata": {},
     "output_type": "execute_result"
    }
   ],
   "source": [
    "popularity_submission = pd.read_csv(\"submission_popularity.csv\")\n",
    "print(popularity_submission.shape)\n",
    "popularity_submission.head()"
   ]
  },
  {
   "cell_type": "code",
   "execution_count": null,
   "metadata": {},
   "outputs": [],
   "source": []
  },
  {
   "cell_type": "code",
   "execution_count": null,
   "metadata": {},
   "outputs": [],
   "source": []
  },
  {
   "cell_type": "code",
   "execution_count": null,
   "metadata": {},
   "outputs": [],
   "source": []
  },
  {
   "cell_type": "code",
   "execution_count": null,
   "metadata": {},
   "outputs": [],
   "source": [
    "name = 'popularity'\n",
    "target = 'purchase_dummy'\n",
    "pop_dummy = model(train_data_dummy, name, user_id, item_id, target, users_to_recommend, n_rec, n_display)"
   ]
  },
  {
   "cell_type": "code",
   "execution_count": null,
   "metadata": {},
   "outputs": [],
   "source": [
    "name = 'popularity'\n",
    "target = 'scaled_purchase_freq'\n",
    "pop_norm = model(train_data_norm, name, user_id, item_id, target, users_to_recommend, n_rec, n_display)"
   ]
  },
  {
   "cell_type": "code",
   "execution_count": null,
   "metadata": {},
   "outputs": [],
   "source": [
    "data_dummy = data.copy()\n",
    "data_dummy['purchase_dummy'] = 1"
   ]
  },
  {
   "cell_type": "code",
   "execution_count": null,
   "metadata": {
    "scrolled": false
   },
   "outputs": [],
   "source": [
    "data_norm = data.copy()\n",
    "data_norm[\"max_count_prod\"] = data_norm.groupby('productId')[\"purchase_count\"].transform('max')\n",
    "data_norm[\"scaled_purchase_freq\"] = data_norm[\"purchase_count\"] / data_norm[\"max_count_prod\"]\n",
    "data_norm.drop(columns=['max_count_prod', 'purchase_count'], inplace=True)"
   ]
  },
  {
   "cell_type": "code",
   "execution_count": null,
   "metadata": {},
   "outputs": [],
   "source": [
    "def split_data(data):\n",
    "    '''\n",
    "    Splits dataset into training and test set.\n",
    "    \n",
    "    Args:\n",
    "        data (pandas.DataFrame)\n",
    "        \n",
    "    Returns\n",
    "        train_data (tc.SFrame)\n",
    "        test_data (tc.SFrame)\n",
    "    '''\n",
    "    train, test = train_test_split(data, test_size = .2)\n",
    "    train_data = tc.SFrame(train)\n",
    "    test_data = tc.SFrame(test)\n",
    "    return train_data, test_data"
   ]
  },
  {
   "cell_type": "code",
   "execution_count": null,
   "metadata": {},
   "outputs": [],
   "source": [
    "train_data, test_data = split_data(data)\n",
    "train_data_dummy, test_data_dummy = split_data(data_dummy)\n",
    "train_data_norm, test_data_norm = split_data(data_norm)"
   ]
  },
  {
   "cell_type": "code",
   "execution_count": null,
   "metadata": {},
   "outputs": [],
   "source": []
  },
  {
   "cell_type": "code",
   "execution_count": null,
   "metadata": {},
   "outputs": [],
   "source": []
  },
  {
   "cell_type": "code",
   "execution_count": null,
   "metadata": {},
   "outputs": [],
   "source": []
  },
  {
   "cell_type": "code",
   "execution_count": null,
   "metadata": {},
   "outputs": [],
   "source": []
  },
  {
   "cell_type": "code",
   "execution_count": null,
   "metadata": {},
   "outputs": [],
   "source": []
  },
  {
   "cell_type": "code",
   "execution_count": null,
   "metadata": {},
   "outputs": [],
   "source": []
  },
  {
   "cell_type": "code",
   "execution_count": null,
   "metadata": {},
   "outputs": [],
   "source": [
    "df_matrix = pd.pivot_table(data, values='purchase_count', index='customerId', columns='productId')"
   ]
  },
  {
   "cell_type": "code",
   "execution_count": null,
   "metadata": {},
   "outputs": [],
   "source": [
    "df_matrix_norm = (df_matrix-df_matrix.min())/(df_matrix.max()-df_matrix.min())"
   ]
  },
  {
   "cell_type": "code",
   "execution_count": null,
   "metadata": {},
   "outputs": [],
   "source": []
  },
  {
   "cell_type": "code",
   "execution_count": null,
   "metadata": {},
   "outputs": [],
   "source": []
  },
  {
   "cell_type": "code",
   "execution_count": null,
   "metadata": {},
   "outputs": [],
   "source": [
    "df = pd.DataFrame({'cus': [1, 1, 2, 2, 3],\n",
    "                   'prod': [1, 2, 1, 2, 1],\n",
    "                   'cnt': [1, 5, 3, 2, 42]})\n",
    "df['max_cnt'] = df.groupby('prod')[\"cnt\"].transform('max')\n",
    "df"
   ]
  },
  {
   "cell_type": "code",
   "execution_count": null,
   "metadata": {},
   "outputs": [],
   "source": []
  },
  {
   "cell_type": "code",
   "execution_count": null,
   "metadata": {},
   "outputs": [],
   "source": []
  },
  {
   "cell_type": "code",
   "execution_count": null,
   "metadata": {},
   "outputs": [],
   "source": [
    "USR = 51"
   ]
  },
  {
   "cell_type": "code",
   "execution_count": null,
   "metadata": {},
   "outputs": [],
   "source": [
    "orders_file = \"tab_1_orders.csv\"\n",
    "orders = pd.read_csv(orders_file, usecols=[\"order_id\", \"user_id\"]) #, index_col=\"order_id\", parse_dates=[\"order_completed_date\"]\n",
    "orders1 = orders.iloc[orders.user_id == USR].order_id.values().tolist()\n",
    "# orders.head()"
   ]
  },
  {
   "cell_type": "code",
   "execution_count": null,
   "metadata": {},
   "outputs": [],
   "source": [
    "# show_head = True\n",
    "orders2 = []\n",
    "for i in range(1, 7):\n",
    "    products_folder = f\"kaggle_tab_2_{i}\"\n",
    "    for file in os.listdir(products_folder):\n",
    "        products_file = os.path.join(products_folder, file)\n",
    "        products = pd.read_csv(products_file, usecols=[\"order_id\", \"user_id\"])\n",
    "        orders2 += set(products.iloc[orders.user_id == USR].order_id.values.tolist())\n",
    "#         if show_head:\n",
    "#             orders.head()\n",
    "#             show_head = False\n",
    "#         del products"
   ]
  },
  {
   "cell_type": "code",
   "execution_count": null,
   "metadata": {},
   "outputs": [],
   "source": [
    "print(set(orders1).difference(orders2))\n",
    "print(set(orders2).difference(orders1))"
   ]
  },
  {
   "cell_type": "code",
   "execution_count": null,
   "metadata": {},
   "outputs": [],
   "source": []
  }
 ],
 "metadata": {
  "kernelspec": {
   "display_name": "Python 3",
   "language": "python",
   "name": "python3"
  },
  "language_info": {
   "codemirror_mode": {
    "name": "ipython",
    "version": 3
   },
   "file_extension": ".py",
   "mimetype": "text/x-python",
   "name": "python",
   "nbconvert_exporter": "python",
   "pygments_lexer": "ipython3",
   "version": "3.7.9"
  }
 },
 "nbformat": 4,
 "nbformat_minor": 4
}
